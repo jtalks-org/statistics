{
 "metadata": {
  "name": "",
  "signature": "sha256:d80efdd2c385a4ac102c966c328cd93f56cb79b0b59130ea98eb71caa9a7e2f5"
 },
 "nbformat": 3,
 "nbformat_minor": 0,
 "worksheets": [
  {
   "cells": [
    {
     "cell_type": "code",
     "collapsed": false,
     "input": [
      "import numpy as np\n",
      "import pandas as pd\n",
      "import matplotlib.pyplot as plt\n",
      "\n",
      "%matplotlib inline"
     ],
     "language": "python",
     "metadata": {},
     "outputs": [],
     "prompt_number": 2
    },
    {
     "cell_type": "code",
     "collapsed": false,
     "input": [
      "from collections import Counter"
     ],
     "language": "python",
     "metadata": {},
     "outputs": [],
     "prompt_number": 23
    },
    {
     "cell_type": "heading",
     "level": 2,
     "metadata": {},
     "source": [
      "Spammers"
     ]
    },
    {
     "cell_type": "markdown",
     "metadata": {},
     "source": [
      "First, let's look at spamers (users who banned)\n",
      "\n",
      "\tselect \n",
      "\t\tu.ID,\n",
      "\t\tu.USERNAME,\n",
      "\t\tu.LAST_LOGIN,\n",
      "\t\tud.REGISTRATION_DATE,\n",
      "\t\tud.POST_COUNT,\n",
      "\t\tcount(*) as PRIVATE_MSGS\n",
      "\tfrom\n",
      "\t\tjtalks.USERS u\n",
      "\t\t\tleft join\n",
      "\t\tjtalks.JC_USER_DETAILS ud ON u.ID = ud.USER_ID\n",
      "\t\t\tjoin\n",
      "\t\tjtalks.PRIVATE_MESSAGE pm ON u.ID = pm.USER_FROM\n",
      "\t\t\tleft join\n",
      "\t\tjtalks.GROUP_USER_REF gr ON u.ID = gr.USER_ID\n",
      "\twhere\n",
      "\t\tGROUP_ID = 3 and u.ID > 16000\n",
      "\tgroup by \n",
      "\t\tu.ID\n",
      "\tINTO OUTFILE 'c:/tmp/spammers.txt';"
     ]
    },
    {
     "cell_type": "code",
     "collapsed": false,
     "input": [
      "spammers = pd.read_csv('c:/tmp/spammers.txt', sep='\\t', header=None, na_values='\\\\N')\n",
      "spammers.columns = ['id', 'username', 'last_login', 'reg', 'posts', 'count_msg']\n",
      "spammers.head()"
     ],
     "language": "python",
     "metadata": {},
     "outputs": [
      {
       "html": [
        "<div style=\"max-height:1000px;max-width:1500px;overflow:auto;\">\n",
        "<table border=\"1\" class=\"dataframe\">\n",
        "  <thead>\n",
        "    <tr style=\"text-align: right;\">\n",
        "      <th></th>\n",
        "      <th>id</th>\n",
        "      <th>username</th>\n",
        "      <th>last_login</th>\n",
        "      <th>reg</th>\n",
        "      <th>posts</th>\n",
        "      <th>count_msg</th>\n",
        "    </tr>\n",
        "  </thead>\n",
        "  <tbody>\n",
        "    <tr>\n",
        "      <th>0</th>\n",
        "      <td> 16782</td>\n",
        "      <td>  Equakalay</td>\n",
        "      <td> 2013-08-29 20:20:51</td>\n",
        "      <td> 2013-07-08 12:00:08</td>\n",
        "      <td> 0</td>\n",
        "      <td> 1</td>\n",
        "    </tr>\n",
        "    <tr>\n",
        "      <th>1</th>\n",
        "      <td> 16818</td>\n",
        "      <td>   xaligali</td>\n",
        "      <td>                 NaN</td>\n",
        "      <td> 2013-07-09 10:09:22</td>\n",
        "      <td> 0</td>\n",
        "      <td> 1</td>\n",
        "    </tr>\n",
        "    <tr>\n",
        "      <th>2</th>\n",
        "      <td> 16954</td>\n",
        "      <td>  BulgaUser</td>\n",
        "      <td> 2013-08-28 22:10:39</td>\n",
        "      <td> 2013-07-12 09:55:56</td>\n",
        "      <td> 0</td>\n",
        "      <td> 1</td>\n",
        "    </tr>\n",
        "    <tr>\n",
        "      <th>3</th>\n",
        "      <td> 17341</td>\n",
        "      <td> GerrdaModa</td>\n",
        "      <td>                 NaN</td>\n",
        "      <td> 2013-07-23 17:52:53</td>\n",
        "      <td> 0</td>\n",
        "      <td> 2</td>\n",
        "    </tr>\n",
        "    <tr>\n",
        "      <th>4</th>\n",
        "      <td> 17680</td>\n",
        "      <td>    DedicWS</td>\n",
        "      <td>                 NaN</td>\n",
        "      <td> 2013-08-02 19:33:29</td>\n",
        "      <td> 0</td>\n",
        "      <td> 1</td>\n",
        "    </tr>\n",
        "  </tbody>\n",
        "</table>\n",
        "</div>"
       ],
       "metadata": {},
       "output_type": "pyout",
       "prompt_number": 4,
       "text": [
        "      id    username           last_login                  reg  posts  \\\n",
        "0  16782   Equakalay  2013-08-29 20:20:51  2013-07-08 12:00:08      0   \n",
        "1  16818    xaligali                  NaN  2013-07-09 10:09:22      0   \n",
        "2  16954   BulgaUser  2013-08-28 22:10:39  2013-07-12 09:55:56      0   \n",
        "3  17341  GerrdaModa                  NaN  2013-07-23 17:52:53      0   \n",
        "4  17680     DedicWS                  NaN  2013-08-02 19:33:29      0   \n",
        "\n",
        "   count_msg  \n",
        "0          1  \n",
        "1          1  \n",
        "2          1  \n",
        "3          2  \n",
        "4          1  "
       ]
      }
     ],
     "prompt_number": 4
    },
    {
     "cell_type": "code",
     "collapsed": false,
     "input": [
      "spammers.count_msg.value_counts().head(n=10)"
     ],
     "language": "python",
     "metadata": {},
     "outputs": [
      {
       "metadata": {},
       "output_type": "pyout",
       "prompt_number": 5,
       "text": [
        "1     72\n",
        "2     19\n",
        "3     10\n",
        "4      6\n",
        "5      4\n",
        "8      3\n",
        "9      3\n",
        "11     2\n",
        "36     2\n",
        "17     2\n",
        "dtype: int64"
       ]
      }
     ],
     "prompt_number": 5
    },
    {
     "cell_type": "code",
     "collapsed": false,
     "input": [
      "spammers.posts.value_counts()"
     ],
     "language": "python",
     "metadata": {},
     "outputs": [
      {
       "metadata": {},
       "output_type": "pyout",
       "prompt_number": 6,
       "text": [
        "0    155\n",
        "1      2\n",
        "dtype: int64"
       ]
      }
     ],
     "prompt_number": 6
    },
    {
     "cell_type": "markdown",
     "metadata": {},
     "source": [
      "All (except for one) spammers left no messages on the forum, they sent only PMs"
     ]
    },
    {
     "cell_type": "heading",
     "level": 2,
     "metadata": {},
     "source": [
      "Spam Messages"
     ]
    },
    {
     "cell_type": "markdown",
     "metadata": {},
     "source": [
      "Query with spam messages:\n",
      "\n",
      "\tSELECT \n",
      "\t\t'id', 'username', 'reg_date', 'post_count', \n",
      "\t\t'pm_creation_date', 'pm_prev_message', 'pm_in_count', 'body', 'prev_msg_body', 'spam'\n",
      "\tUNION ALL\n",
      "\tSELECT \n",
      "\t\tu.ID,\n",
      "\t\tu.USERNAME,\n",
      "\t\tud.REGISTRATION_DATE,\n",
      "\t\tud.POST_COUNT,\n",
      "\t\tpm.CREATION_DATE,\n",
      "\t\t(SELECT pm1.CREATION_DATE\t\t\n",
      "\t\t\tFROM jtalks.PRIVATE_MESSAGE pm1 \n",
      "\t\t\tWHERE pm1.USER_FROM = u.ID \n",
      "\t\t\tAND pm1.PM_ID < pm.PM_ID \n",
      "\t\t\tORDER BY pm1.PM_ID desc LIMIT 1) as PM_PREV_SENT_MSG,\n",
      "\t\t(SELECT count(*) FROM\n",
      "\t\t\t\tjtalks.PRIVATE_MESSAGE pm1\n",
      "\t\t\tWHERE\n",
      "\t\t\t\tpm1.USER_TO = u.ID and pm1.CREATION_DATE < pm.CREATION_DATE) as IN_MSG_COUNT,\n",
      "\t\tREPLACE(REPLACE(REPLACE(pm.BODY, '\\t', ' '), '\\r', ''), '\\n', ' ') as BODY,\n",
      "\t\t(SELECT REPLACE(REPLACE(REPLACE(pm1.BODY, '\\t', ' '), '\\r', ''), '\\n', ' ')\t\t\n",
      "\t\t\tFROM jtalks.PRIVATE_MESSAGE pm1 \n",
      "\t\t\tWHERE pm1.USER_FROM = u.ID \n",
      "\t\t\tAND pm1.PM_ID < pm.PM_ID \n",
      "\t\t\tORDER BY pm1.PM_ID desc LIMIT 1) as PREV_SENT_MSG_BODY,\n",
      "\t\t'Y' as SPAM\n",
      "\tFROM\n",
      "\t\tjtalks.USERS u\n",
      "\t\t\tLEFT JOIN\n",
      "\t\tjtalks.JC_USER_DETAILS ud ON u.ID = ud.USER_ID\n",
      "\t\t\tJOIN\n",
      "\t\tjtalks.PRIVATE_MESSAGE pm ON u.ID = pm.USER_FROM\n",
      "\t\t\tLEFT JOIN\n",
      "\t\tjtalks.GROUP_USER_REF gr ON u.ID = gr.USER_ID\n",
      "\tWHERE\n",
      "\t\tu.ID > 16000 AND gr.GROUP_ID = 3\n",
      "\tINTO OUTFILE 'c:/tmp/spam.txt';"
     ]
    },
    {
     "cell_type": "code",
     "collapsed": false,
     "input": [
      "def read(text_file):\n",
      "    data = pd.read_csv(text_file, sep='\\t', header=0, na_values='\\\\N', \n",
      "                       parse_dates=[2, 4, 5])\n",
      "    data['body'] = data.body.str.decode('utf-8').str.lower()\n",
      "    data['prev_msg_body'] = data.prev_msg_body.str.decode('utf-8').str.lower()\n",
      "    return data"
     ],
     "language": "python",
     "metadata": {},
     "outputs": [],
     "prompt_number": 7
    },
    {
     "cell_type": "code",
     "collapsed": false,
     "input": [
      "spam_file_1 = 'c:/tmp/spam.txt'\n",
      "data = read(spam_file_1)"
     ],
     "language": "python",
     "metadata": {},
     "outputs": [],
     "prompt_number": 8
    },
    {
     "cell_type": "code",
     "collapsed": false,
     "input": [
      "data['time_from_last_pm'] = data.pm_creation_date - data.pm_prev_message"
     ],
     "language": "python",
     "metadata": {},
     "outputs": [],
     "prompt_number": 9
    },
    {
     "cell_type": "markdown",
     "metadata": {},
     "source": [
      "Time between two consecutive messages in seconds:"
     ]
    },
    {
     "cell_type": "code",
     "collapsed": false,
     "input": [
      "(data.time_from_last_pm / np.timedelta64(1, 's')).describe()"
     ],
     "language": "python",
     "metadata": {},
     "outputs": [
      {
       "metadata": {},
       "output_type": "pyout",
       "prompt_number": 10,
       "text": [
        "count       5152.000000\n",
        "mean       24954.826087\n",
        "std       216260.289733\n",
        "min            0.000000\n",
        "25%          220.000000\n",
        "50%          942.500000\n",
        "75%         4164.000000\n",
        "max      7051675.000000\n",
        "dtype: float64"
       ]
      }
     ],
     "prompt_number": 10
    },
    {
     "cell_type": "code",
     "collapsed": false,
     "input": [
      "(data.time_from_last_pm / np.timedelta64(1, 's')).hist(bins=50, xrot=90)"
     ],
     "language": "python",
     "metadata": {},
     "outputs": [
      {
       "metadata": {},
       "output_type": "pyout",
       "prompt_number": 11,
       "text": [
        "<matplotlib.axes._subplots.AxesSubplot at 0xc169320>"
       ]
      },
      {
       "metadata": {},
       "output_type": "display_data",
       "png": "[encoded data removed]",
       "text": [
        "<matplotlib.figure.Figure at 0x250771d0>"
       ]
      }
     ],
     "prompt_number": 11
    },
    {
     "cell_type": "code",
     "collapsed": false,
     "input": [
      "data[['username', 'time_from_last_pm', 'pm_in_count', 'body']].head(n=10)"
     ],
     "language": "python",
     "metadata": {},
     "outputs": [
      {
       "html": [
        "<div style=\"max-height:1000px;max-width:1500px;overflow:auto;\">\n",
        "<table border=\"1\" class=\"dataframe\">\n",
        "  <thead>\n",
        "    <tr style=\"text-align: right;\">\n",
        "      <th></th>\n",
        "      <th>username</th>\n",
        "      <th>time_from_last_pm</th>\n",
        "      <th>pm_in_count</th>\n",
        "      <th>body</th>\n",
        "    </tr>\n",
        "  </thead>\n",
        "  <tbody>\n",
        "    <tr>\n",
        "      <th>0</th>\n",
        "      <td>        xaligali</td>\n",
        "      <td>             NaT</td>\n",
        "      <td> 0</td>\n",
        "      <td> &lt;a href=http://vip-si.ru/&gt;\u043e\u0447\u0438\u0441\u0442\u043d\u044b\u0435 \u0441\u043e\u043e\u0440\u0443\u0436\u0435\u043d\u0438\u044f ...</td>\n",
        "    </tr>\n",
        "    <tr>\n",
        "      <th>1</th>\n",
        "      <td>      GerrdaModa</td>\n",
        "      <td>             NaT</td>\n",
        "      <td> 0</td>\n",
        "      <td> \u043f\u0440\u0435\u0434\u043b\u0430\u0433\u0430\u0435\u043c \u043d\u0430\u0448\u0438\u043c \u043b\u044e\u0431\u0438\u043c\u044b\u043c \u0438 \u0434\u043e\u0440\u043e\u0433\u0438\u043c \u043a\u043b\u0438\u0435\u043d\u0442\u0430\u043c, \u0442...</td>\n",
        "    </tr>\n",
        "    <tr>\n",
        "      <th>2</th>\n",
        "      <td>      GerrdaModa</td>\n",
        "      <td>0 days, 05:36:44</td>\n",
        "      <td> 0</td>\n",
        "      <td> \u043f\u0440\u0435\u0434\u043b\u0430\u0433\u0430\u0435\u043c \u043d\u0430\u0448\u0438\u043c \u043b\u044e\u0431\u0438\u043c\u044b\u043c \u0438 \u0434\u043e\u0440\u043e\u0433\u0438\u043c \u043a\u043b\u0438\u0435\u043d\u0442\u0430\u043c, \u0442...</td>\n",
        "    </tr>\n",
        "    <tr>\n",
        "      <th>3</th>\n",
        "      <td>       Equakalay</td>\n",
        "      <td>             NaT</td>\n",
        "      <td> 0</td>\n",
        "      <td> \u0432 \u0434\u043e\u0431\u0430\u0432\u043e\u043a \u043a \u0443\u043d\u0438\u043a\u0430\u043b\u044c\u043d\u044b\u043c \u0438 \u043d\u0435\u043f\u043e\u0432\u0442\u043e\u0440\u0438\u043c\u044b\u043c \u043b\u0435\u0447\u0435\u0431\u043d\u044b\u043c...</td>\n",
        "    </tr>\n",
        "    <tr>\n",
        "      <th>4</th>\n",
        "      <td>       BulgaUser</td>\n",
        "      <td>             NaT</td>\n",
        "      <td> 0</td>\n",
        "      <td> \u043f\u043b\u0430\u043d\u0443\u0439\u0442\u0435 \u043b\u0456\u0442\u043d\u0456\u0439 \u0432\u0456\u0434\u043f\u043e\u0447\u0438\u043d\u043e\u043a \u0434\u043b\u044f \u0432\u0441\u0456\u0454\u0457 \u0441\u0456\u043c'\u0457 \u043d\u0430 ...</td>\n",
        "    </tr>\n",
        "    <tr>\n",
        "      <th>5</th>\n",
        "      <td>         DedicWS</td>\n",
        "      <td>             NaT</td>\n",
        "      <td> 0</td>\n",
        "      <td> \u043d\u043e\u0432\u0430\u044f \u0443\u0441\u043b\u0443\u0433\u0430 &lt;a href=http://dedic.ws/vpn.html&gt;...</td>\n",
        "    </tr>\n",
        "    <tr>\n",
        "      <th>6</th>\n",
        "      <td> extreme traffic</td>\n",
        "      <td>             NaT</td>\n",
        "      <td> 0</td>\n",
        "      <td> nice to be here javatalks.ru owner discovered ...</td>\n",
        "    </tr>\n",
        "    <tr>\n",
        "      <th>7</th>\n",
        "      <td>       Atomanala</td>\n",
        "      <td>             NaT</td>\n",
        "      <td> 0</td>\n",
        "      <td> [url=http://tfom.ru/company-38]\u043a\u0443\u0440\u0441\u043e\u0432\u044b\u0435 \u043d\u0430 \u0437\u0430\u043a...</td>\n",
        "    </tr>\n",
        "    <tr>\n",
        "      <th>8</th>\n",
        "      <td>         SeregaE</td>\n",
        "      <td>             NaT</td>\n",
        "      <td> 0</td>\n",
        "      <td> \u0435\u0441\u0442\u044c \u043c\u043d\u043e\u0433\u043e \u043f\u043e\u043b\u0435\u0437\u043d\u043e\u0439 \u0438\u043d\u0444\u043e\u0440\u043c\u0430\u0446\u0438\u0438. , [url=\"http:/...</td>\n",
        "    </tr>\n",
        "    <tr>\n",
        "      <th>9</th>\n",
        "      <td>         SeregaE</td>\n",
        "      <td>1 days, 23:31:06</td>\n",
        "      <td> 0</td>\n",
        "      <td> \u043f\u0440\u0430\u0439\u0441-\u043b\u0438\u0441\u0442 \u043a\u043e\u043c\u043f\u0430\u043d\u0438\u0438 \u043c\u0430\u0433\u0430\u0437\u0438\u043d \u0441\u0442\u0440\u043e\u0438\u0442\u0435\u043b\u044c\u043d\u044b\u0439 \u043a\u0440\u0435\u043f\u0435...</td>\n",
        "    </tr>\n",
        "  </tbody>\n",
        "</table>\n",
        "</div>"
       ],
       "metadata": {},
       "output_type": "pyout",
       "prompt_number": 25,
       "text": [
        "          username  time_from_last_pm  pm_in_count  \\\n",
        "0         xaligali                NaT            0   \n",
        "1       GerrdaModa                NaT            0   \n",
        "2       GerrdaModa   0 days, 05:36:44            0   \n",
        "3        Equakalay                NaT            0   \n",
        "4        BulgaUser                NaT            0   \n",
        "5          DedicWS                NaT            0   \n",
        "6  extreme traffic                NaT            0   \n",
        "7        Atomanala                NaT            0   \n",
        "8          SeregaE                NaT            0   \n",
        "9          SeregaE   1 days, 23:31:06            0   \n",
        "\n",
        "                                                body  \n",
        "0  <a href=http://vip-si.ru/>\u043e\u0447\u0438\u0441\u0442\u043d\u044b\u0435 \u0441\u043e\u043e\u0440\u0443\u0436\u0435\u043d\u0438\u044f ...  \n",
        "1  \u043f\u0440\u0435\u0434\u043b\u0430\u0433\u0430\u0435\u043c \u043d\u0430\u0448\u0438\u043c \u043b\u044e\u0431\u0438\u043c\u044b\u043c \u0438 \u0434\u043e\u0440\u043e\u0433\u0438\u043c \u043a\u043b\u0438\u0435\u043d\u0442\u0430\u043c, \u0442...  \n",
        "2  \u043f\u0440\u0435\u0434\u043b\u0430\u0433\u0430\u0435\u043c \u043d\u0430\u0448\u0438\u043c \u043b\u044e\u0431\u0438\u043c\u044b\u043c \u0438 \u0434\u043e\u0440\u043e\u0433\u0438\u043c \u043a\u043b\u0438\u0435\u043d\u0442\u0430\u043c, \u0442...  \n",
        "3  \u0432 \u0434\u043e\u0431\u0430\u0432\u043e\u043a \u043a \u0443\u043d\u0438\u043a\u0430\u043b\u044c\u043d\u044b\u043c \u0438 \u043d\u0435\u043f\u043e\u0432\u0442\u043e\u0440\u0438\u043c\u044b\u043c \u043b\u0435\u0447\u0435\u0431\u043d\u044b\u043c...  \n",
        "4  \u043f\u043b\u0430\u043d\u0443\u0439\u0442\u0435 \u043b\u0456\u0442\u043d\u0456\u0439 \u0432\u0456\u0434\u043f\u043e\u0447\u0438\u043d\u043e\u043a \u0434\u043b\u044f \u0432\u0441\u0456\u0454\u0457 \u0441\u0456\u043c'\u0457 \u043d\u0430 ...  \n",
        "5  \u043d\u043e\u0432\u0430\u044f \u0443\u0441\u043b\u0443\u0433\u0430 <a href=http://dedic.ws/vpn.html>...  \n",
        "6  nice to be here javatalks.ru owner discovered ...  \n",
        "7  [url=http://tfom.ru/company-38]\u043a\u0443\u0440\u0441\u043e\u0432\u044b\u0435 \u043d\u0430 \u0437\u0430\u043a...  \n",
        "8  \u0435\u0441\u0442\u044c \u043c\u043d\u043e\u0433\u043e \u043f\u043e\u043b\u0435\u0437\u043d\u043e\u0439 \u0438\u043d\u0444\u043e\u0440\u043c\u0430\u0446\u0438\u0438. , [url=\"http:/...  \n",
        "9  \u043f\u0440\u0430\u0439\u0441-\u043b\u0438\u0441\u0442 \u043a\u043e\u043c\u043f\u0430\u043d\u0438\u0438 \u043c\u0430\u0433\u0430\u0437\u0438\u043d \u0441\u0442\u0440\u043e\u0438\u0442\u0435\u043b\u044c\u043d\u044b\u0439 \u043a\u0440\u0435\u043f\u0435...  "
       ]
      }
     ],
     "prompt_number": 25
    },
    {
     "cell_type": "code",
     "collapsed": false,
     "input": [
      "data[['body', 'prev_msg_body']].head(n=10)"
     ],
     "language": "python",
     "metadata": {},
     "outputs": [
      {
       "html": [
        "<div style=\"max-height:1000px;max-width:1500px;overflow:auto;\">\n",
        "<table border=\"1\" class=\"dataframe\">\n",
        "  <thead>\n",
        "    <tr style=\"text-align: right;\">\n",
        "      <th></th>\n",
        "      <th>body</th>\n",
        "      <th>prev_msg_body</th>\n",
        "    </tr>\n",
        "  </thead>\n",
        "  <tbody>\n",
        "    <tr>\n",
        "      <th>0</th>\n",
        "      <td> &lt;a href=http://vip-si.ru/&gt;\u043e\u0447\u0438\u0441\u0442\u043d\u044b\u0435 \u0441\u043e\u043e\u0440\u0443\u0436\u0435\u043d\u0438\u044f ...</td>\n",
        "      <td>                                               NaN</td>\n",
        "    </tr>\n",
        "    <tr>\n",
        "      <th>1</th>\n",
        "      <td> \u043f\u0440\u0435\u0434\u043b\u0430\u0433\u0430\u0435\u043c \u043d\u0430\u0448\u0438\u043c \u043b\u044e\u0431\u0438\u043c\u044b\u043c \u0438 \u0434\u043e\u0440\u043e\u0433\u0438\u043c \u043a\u043b\u0438\u0435\u043d\u0442\u0430\u043c, \u0442...</td>\n",
        "      <td>                                               NaN</td>\n",
        "    </tr>\n",
        "    <tr>\n",
        "      <th>2</th>\n",
        "      <td> \u043f\u0440\u0435\u0434\u043b\u0430\u0433\u0430\u0435\u043c \u043d\u0430\u0448\u0438\u043c \u043b\u044e\u0431\u0438\u043c\u044b\u043c \u0438 \u0434\u043e\u0440\u043e\u0433\u0438\u043c \u043a\u043b\u0438\u0435\u043d\u0442\u0430\u043c, \u0442...</td>\n",
        "      <td> \u043f\u0440\u0435\u0434\u043b\u0430\u0433\u0430\u0435\u043c \u043d\u0430\u0448\u0438\u043c \u043b\u044e\u0431\u0438\u043c\u044b\u043c \u0438 \u0434\u043e\u0440\u043e\u0433\u0438\u043c \u043a\u043b\u0438\u0435\u043d\u0442\u0430\u043c, \u0442...</td>\n",
        "    </tr>\n",
        "    <tr>\n",
        "      <th>3</th>\n",
        "      <td> \u0432 \u0434\u043e\u0431\u0430\u0432\u043e\u043a \u043a \u0443\u043d\u0438\u043a\u0430\u043b\u044c\u043d\u044b\u043c \u0438 \u043d\u0435\u043f\u043e\u0432\u0442\u043e\u0440\u0438\u043c\u044b\u043c \u043b\u0435\u0447\u0435\u0431\u043d\u044b\u043c...</td>\n",
        "      <td>                                               NaN</td>\n",
        "    </tr>\n",
        "    <tr>\n",
        "      <th>4</th>\n",
        "      <td> \u043f\u043b\u0430\u043d\u0443\u0439\u0442\u0435 \u043b\u0456\u0442\u043d\u0456\u0439 \u0432\u0456\u0434\u043f\u043e\u0447\u0438\u043d\u043e\u043a \u0434\u043b\u044f \u0432\u0441\u0456\u0454\u0457 \u0441\u0456\u043c'\u0457 \u043d\u0430 ...</td>\n",
        "      <td>                                               NaN</td>\n",
        "    </tr>\n",
        "    <tr>\n",
        "      <th>5</th>\n",
        "      <td> \u043d\u043e\u0432\u0430\u044f \u0443\u0441\u043b\u0443\u0433\u0430 &lt;a href=http://dedic.ws/vpn.html&gt;...</td>\n",
        "      <td>                                               NaN</td>\n",
        "    </tr>\n",
        "    <tr>\n",
        "      <th>6</th>\n",
        "      <td> nice to be here javatalks.ru owner discovered ...</td>\n",
        "      <td>                                               NaN</td>\n",
        "    </tr>\n",
        "    <tr>\n",
        "      <th>7</th>\n",
        "      <td> [url=http://tfom.ru/company-38]\u043a\u0443\u0440\u0441\u043e\u0432\u044b\u0435 \u043d\u0430 \u0437\u0430\u043a...</td>\n",
        "      <td>                                               NaN</td>\n",
        "    </tr>\n",
        "    <tr>\n",
        "      <th>8</th>\n",
        "      <td> \u0435\u0441\u0442\u044c \u043c\u043d\u043e\u0433\u043e \u043f\u043e\u043b\u0435\u0437\u043d\u043e\u0439 \u0438\u043d\u0444\u043e\u0440\u043c\u0430\u0446\u0438\u0438. , [url=\"http:/...</td>\n",
        "      <td>                                               NaN</td>\n",
        "    </tr>\n",
        "    <tr>\n",
        "      <th>9</th>\n",
        "      <td> \u043f\u0440\u0430\u0439\u0441-\u043b\u0438\u0441\u0442 \u043a\u043e\u043c\u043f\u0430\u043d\u0438\u0438 \u043c\u0430\u0433\u0430\u0437\u0438\u043d \u0441\u0442\u0440\u043e\u0438\u0442\u0435\u043b\u044c\u043d\u044b\u0439 \u043a\u0440\u0435\u043f\u0435...</td>\n",
        "      <td> \u0435\u0441\u0442\u044c \u043c\u043d\u043e\u0433\u043e \u043f\u043e\u043b\u0435\u0437\u043d\u043e\u0439 \u0438\u043d\u0444\u043e\u0440\u043c\u0430\u0446\u0438\u0438. , [url=\"http:/...</td>\n",
        "    </tr>\n",
        "  </tbody>\n",
        "</table>\n",
        "</div>"
       ],
       "metadata": {},
       "output_type": "pyout",
       "prompt_number": 12,
       "text": [
        "                                                body  \\\n",
        "0  <a href=http://vip-si.ru/>\u043e\u0447\u0438\u0441\u0442\u043d\u044b\u0435 \u0441\u043e\u043e\u0440\u0443\u0436\u0435\u043d\u0438\u044f ...   \n",
        "1  \u043f\u0440\u0435\u0434\u043b\u0430\u0433\u0430\u0435\u043c \u043d\u0430\u0448\u0438\u043c \u043b\u044e\u0431\u0438\u043c\u044b\u043c \u0438 \u0434\u043e\u0440\u043e\u0433\u0438\u043c \u043a\u043b\u0438\u0435\u043d\u0442\u0430\u043c, \u0442...   \n",
        "2  \u043f\u0440\u0435\u0434\u043b\u0430\u0433\u0430\u0435\u043c \u043d\u0430\u0448\u0438\u043c \u043b\u044e\u0431\u0438\u043c\u044b\u043c \u0438 \u0434\u043e\u0440\u043e\u0433\u0438\u043c \u043a\u043b\u0438\u0435\u043d\u0442\u0430\u043c, \u0442...   \n",
        "3  \u0432 \u0434\u043e\u0431\u0430\u0432\u043e\u043a \u043a \u0443\u043d\u0438\u043a\u0430\u043b\u044c\u043d\u044b\u043c \u0438 \u043d\u0435\u043f\u043e\u0432\u0442\u043e\u0440\u0438\u043c\u044b\u043c \u043b\u0435\u0447\u0435\u0431\u043d\u044b\u043c...   \n",
        "4  \u043f\u043b\u0430\u043d\u0443\u0439\u0442\u0435 \u043b\u0456\u0442\u043d\u0456\u0439 \u0432\u0456\u0434\u043f\u043e\u0447\u0438\u043d\u043e\u043a \u0434\u043b\u044f \u0432\u0441\u0456\u0454\u0457 \u0441\u0456\u043c'\u0457 \u043d\u0430 ...   \n",
        "5  \u043d\u043e\u0432\u0430\u044f \u0443\u0441\u043b\u0443\u0433\u0430 <a href=http://dedic.ws/vpn.html>...   \n",
        "6  nice to be here javatalks.ru owner discovered ...   \n",
        "7  [url=http://tfom.ru/company-38]\u043a\u0443\u0440\u0441\u043e\u0432\u044b\u0435 \u043d\u0430 \u0437\u0430\u043a...   \n",
        "8  \u0435\u0441\u0442\u044c \u043c\u043d\u043e\u0433\u043e \u043f\u043e\u043b\u0435\u0437\u043d\u043e\u0439 \u0438\u043d\u0444\u043e\u0440\u043c\u0430\u0446\u0438\u0438. , [url=\"http:/...   \n",
        "9  \u043f\u0440\u0430\u0439\u0441-\u043b\u0438\u0441\u0442 \u043a\u043e\u043c\u043f\u0430\u043d\u0438\u0438 \u043c\u0430\u0433\u0430\u0437\u0438\u043d \u0441\u0442\u0440\u043e\u0438\u0442\u0435\u043b\u044c\u043d\u044b\u0439 \u043a\u0440\u0435\u043f\u0435...   \n",
        "\n",
        "                                       prev_msg_body  \n",
        "0                                                NaN  \n",
        "1                                                NaN  \n",
        "2  \u043f\u0440\u0435\u0434\u043b\u0430\u0433\u0430\u0435\u043c \u043d\u0430\u0448\u0438\u043c \u043b\u044e\u0431\u0438\u043c\u044b\u043c \u0438 \u0434\u043e\u0440\u043e\u0433\u0438\u043c \u043a\u043b\u0438\u0435\u043d\u0442\u0430\u043c, \u0442...  \n",
        "3                                                NaN  \n",
        "4                                                NaN  \n",
        "5                                                NaN  \n",
        "6                                                NaN  \n",
        "7                                                NaN  \n",
        "8                                                NaN  \n",
        "9  \u0435\u0441\u0442\u044c \u043c\u043d\u043e\u0433\u043e \u043f\u043e\u043b\u0435\u0437\u043d\u043e\u0439 \u0438\u043d\u0444\u043e\u0440\u043c\u0430\u0446\u0438\u0438. , [url=\"http:/...  "
       ]
      }
     ],
     "prompt_number": 12
    },
    {
     "cell_type": "markdown",
     "metadata": {},
     "source": [
      "We need to measure similarity of two PMs. The simplest way is to use n-grams and cosine similarity\n",
      "\n",
      "- ngram implementation taken from http://locallyoptimal.com/blog/2013/01/20/elegant-n-gram-generation-in-python/\n",
      "- cosine similarity taken from http://stackoverflow.com/questions/15173225/how-to-calculate-cosine-similarity-given-2-sentence-strings-python"
     ]
    },
    {
     "cell_type": "code",
     "collapsed": false,
     "input": [
      "def ngrams(input, n):\n",
      "  return zip(*[input[i:] for i in range(n)])"
     ],
     "language": "python",
     "metadata": {},
     "outputs": [],
     "prompt_number": 17
    },
    {
     "cell_type": "code",
     "collapsed": false,
     "input": [
      "def cosine(c1, c2):\n",
      "    keys = set(c1.keys()) & set(c2.keys())\n",
      "    numerator = sum([c1[x] * c2[x] for x in keys])\n",
      "    sum1 = sum([c1[x] ** 2 for x in c1.keys()])\n",
      "    sum2 = sum([c2[x] ** 2 for x in c2.keys()])\n",
      "    denominator = np.sqrt(sum1 * sum2)\n",
      "\n",
      "    if not denominator:\n",
      "        return 0.0\n",
      "    else:\n",
      "        return float(numerator) / denominator"
     ],
     "language": "python",
     "metadata": {},
     "outputs": [],
     "prompt_number": 42
    },
    {
     "cell_type": "code",
     "collapsed": false,
     "input": [
      "print '*', data.ix[2].body\n",
      "print '*', data.ix[2].prev_msg_body"
     ],
     "language": "python",
     "metadata": {},
     "outputs": [
      {
       "output_type": "stream",
       "stream": "stdout",
       "text": [
        "* \u043f\u0440\u0435\u0434\u043b\u0430\u0433\u0430\u0435\u043c \u043d\u0430\u0448\u0438\u043c \u043b\u044e\u0431\u0438\u043c\u044b\u043c \u0438 \u0434\u043e\u0440\u043e\u0433\u0438\u043c \u043a\u043b\u0438\u0435\u043d\u0442\u0430\u043c, \u0442\u0435\u043c\u0430\u0442\u0438\u043a\u0443 <a href=http://gepur-shop.ru>\u043c\u0430\u0433\u0430\u0437\u0438\u043d \u043b\u044e\u0446\u0438\u044f</a>  \u043c\u043e\u0434\u043d\u0438\u0446\u044b \u0438 \u043c\u043e\u0434\u043d\u0438\u043a\u0438 \u0432\u0441\u0435\u0433\u0434\u0430 \u0437\u0430\u0434\u0430\u044e\u0442\u0441\u044f \u0442\u0430\u043a\u0438\u043c \u0432\u043e\u043f\u0440\u043e\u0441\u043e\u043c, \u043f\u0440\u0438 \u043f\u043e\u0438\u0441\u043a\u0435 \u0432 \u0438\u043d\u0442\u0435\u0440\u043d\u0435\u0442\u0435, \u043d\u043e \u044d\u0442\u0438 \u043e\u0442\u0432\u0435\u0442\u044b \u0432\u044b \u043c\u043e\u0436\u0435\u0442\u0435 \u043d\u0430\u0439\u0442\u0438 \u0442\u043e\u043b\u044c\u043a\u043e \u0443 \u043d\u0430\u0441, \u043d\u0430\u0448\u0438 \u043a\u043b\u0438\u0435\u043d\u0442\u044b \u0434\u043e\u0432\u043e\u043b\u044c\u043d\u044b \u043a\u0430\u0447\u0435\u0441\u0442\u0432\u043e\u043c \u0442\u043e\u0432\u0430\u0440\u043e\u0432 \u0438 \u043d\u0430\u0448\u0438\u043c \u0441\u0435\u0440\u0432\u0438\u0441\u043e\u043c.  \u043a \u043d\u0430\u043c \u043e\u0431\u0440\u0430\u0449\u0430\u044e\u0442\u0441\u044f \u0441\u043d\u043e\u0432\u0430 \u0438 \u0441\u043d\u043e\u0432\u0430!  \u0437\u0434\u0435\u0441\u044c \u0432\u043e\u043f\u0440\u043e\u0441\u044b \u0434\u043e\u0441\u0442\u0430\u0432\u043a\u0438 \u0438 \u043e\u043f\u043b\u0430\u0442\u044b <a href=http://gepur-shop.ru/address>\u0438\u043d\u0442\u0435\u0440\u043d\u0435\u0442-\u043c\u0430\u0433\u0430\u0437\u0438\u043d \u043c\u043e\u0434\u043d\u043e\u0439 \u043e\u0434\u0435\u0436\u0434\u044b</a>\n",
        "* \u043f\u0440\u0435\u0434\u043b\u0430\u0433\u0430\u0435\u043c \u043d\u0430\u0448\u0438\u043c \u043b\u044e\u0431\u0438\u043c\u044b\u043c \u0438 \u0434\u043e\u0440\u043e\u0433\u0438\u043c \u043a\u043b\u0438\u0435\u043d\u0442\u0430\u043c, \u0442\u0435\u043c\u0430\u0442\u0438\u043a\u0443 <a href=http://gepur-shop.ru>\u0438\u0437\u0432\u0435\u0441\u0442\u043d\u044b\u0435 \u0442\u0443\u0440\u0435\u0446\u043a\u0438\u0435 \u043c\u0430\u0440\u043a\u0438 \u043e\u0434\u0435\u0436\u0434\u044b</a>  \u043c\u043e\u0434\u043d\u0438\u0446\u044b \u0438 \u043c\u043e\u0434\u043d\u0438\u043a\u0438 \u0432\u0441\u0435\u0433\u0434\u0430 \u0437\u0430\u0434\u0430\u044e\u0442\u0441\u044f \u0442\u0430\u043a\u0438\u043c \u0432\u043e\u043f\u0440\u043e\u0441\u043e\u043c, \u043f\u0440\u0438 \u043f\u043e\u0438\u0441\u043a\u0435 \u0432 \u0438\u043d\u0442\u0435\u0440\u043d\u0435\u0442\u0435, \u043d\u043e \u044d\u0442\u0438 \u043e\u0442\u0432\u0435\u0442\u044b \u0432\u044b \u043c\u043e\u0436\u0435\u0442\u0435 \u043d\u0430\u0439\u0442\u0438 \u0442\u043e\u043b\u044c\u043a\u043e \u0443 \u043d\u0430\u0441, \u043d\u0430\u0448\u0438 \u043a\u043b\u0438\u0435\u043d\u0442\u044b \u0434\u043e\u0432\u043e\u043b\u044c\u043d\u044b \u043a\u0430\u0447\u0435\u0441\u0442\u0432\u043e\u043c \u0442\u043e\u0432\u0430\u0440\u043e\u0432 \u0438 \u043d\u0430\u0448\u0438\u043c \u0441\u0435\u0440\u0432\u0438\u0441\u043e\u043c.  \u043a \u043d\u0430\u043c \u043e\u0431\u0440\u0430\u0449\u0430\u044e\u0442\u0441\u044f \u0441\u043d\u043e\u0432\u0430 \u0438 \u0441\u043d\u043e\u0432\u0430!  \u0437\u0434\u0435\u0441\u044c \u0432\u043e\u043f\u0440\u043e\u0441\u044b \u0434\u043e\u0441\u0442\u0430\u0432\u043a\u0438 \u0438 \u043e\u043f\u043b\u0430\u0442\u044b <a href=http://gepur-shop.ru/address>\u0438\u043d\u0442\u0435\u0440\u043d\u0435\u0442-\u043c\u0430\u0433\u0430\u0437\u0438\u043d \u043c\u043e\u0434\u043d\u043e\u0439 \u043e\u0434\u0435\u0436\u0434\u044b</a>\n"
       ]
      }
     ],
     "prompt_number": 45
    },
    {
     "cell_type": "code",
     "collapsed": false,
     "input": [
      "n = 3\n",
      "c1 = Counter(ngrams(data.ix[2].body, n))\n",
      "c2 = Counter(ngrams(data.ix[2].prev_msg_body, n))\n",
      "cosine(c1, c2)"
     ],
     "language": "python",
     "metadata": {},
     "outputs": [
      {
       "metadata": {},
       "output_type": "pyout",
       "prompt_number": 50,
       "text": [
        "0.9653887473001056"
       ]
      }
     ],
     "prompt_number": 50
    },
    {
     "cell_type": "code",
     "collapsed": false,
     "input": [
      "def ngrams_cosine(row, n=3):\n",
      "    body = row['body']\n",
      "    prev = row['prev_msg_body']\n",
      "\n",
      "    if pd.isnull(prev):\n",
      "        return 0.0\n",
      "    \n",
      "    c1 = Counter(ngrams(body, n))\n",
      "    c2 = Counter(ngrams(prev, n))\n",
      "    return cosine(c1, c2)"
     ],
     "language": "python",
     "metadata": {},
     "outputs": [],
     "prompt_number": 106
    },
    {
     "cell_type": "code",
     "collapsed": false,
     "input": [
      "data['prev_sim'] = data.apply(ngrams_cosine, axis=1)"
     ],
     "language": "python",
     "metadata": {},
     "outputs": [],
     "prompt_number": 57
    },
    {
     "cell_type": "code",
     "collapsed": false,
     "input": [
      "data.prev_sim.hist(bins=50)"
     ],
     "language": "python",
     "metadata": {},
     "outputs": [
      {
       "metadata": {},
       "output_type": "pyout",
       "prompt_number": 59,
       "text": [
        "<matplotlib.axes._subplots.AxesSubplot at 0x1627e940>"
       ]
      },
      {
       "metadata": {},
       "output_type": "display_data",
       "png": "[encoded data removed]",
       "text": [
        "<matplotlib.figure.Figure at 0x123d7198>"
       ]
      }
     ],
     "prompt_number": 59
    },
    {
     "cell_type": "markdown",
     "metadata": {},
     "source": [
      "Now let's see how the number of input PMs is distributed"
     ]
    },
    {
     "cell_type": "code",
     "collapsed": false,
     "input": [
      "data.pm_in_count.value_counts()"
     ],
     "language": "python",
     "metadata": {},
     "outputs": [
      {
       "metadata": {},
       "output_type": "pyout",
       "prompt_number": 60,
       "text": [
        "0    5279\n",
        "1      27\n",
        "3       1\n",
        "2       1\n",
        "4       1\n",
        "dtype: int64"
       ]
      }
     ],
     "prompt_number": 60
    },
    {
     "cell_type": "markdown",
     "metadata": {},
     "source": [
      "Most spammers have 0 incoming PMs at the moment when they wrote their spam PMs"
     ]
    },
    {
     "cell_type": "markdown",
     "metadata": {},
     "source": [
      "Now let's calculate number of external URL links in the PMs"
     ]
    },
    {
     "cell_type": "code",
     "collapsed": false,
     "input": [
      "# http://stackoverflow.com/questions/6883049/regex-to-find-urls-in-string-in-python\n",
      "import re\n",
      "url_regex = 'http[s]?://(?:[a-zA-Z]|[0-9]|[$-_@.&+]|[!*\\(\\),]|(?:%[0-9a-fA-F][0-9a-fA-F]))+'\n",
      "\n",
      "def url_count(string):\n",
      "    urls = re.findall(url_regex, string)\n",
      "    return len([url for url in urls if 'javatalks.ru' not in url])"
     ],
     "language": "python",
     "metadata": {},
     "outputs": [],
     "prompt_number": 61
    },
    {
     "cell_type": "code",
     "collapsed": false,
     "input": [
      "print data.body[6]\n",
      "url_count(data.body[6])"
     ],
     "language": "python",
     "metadata": {},
     "outputs": [
      {
       "output_type": "stream",
       "stream": "stdout",
       "text": [
        "nice to be here javatalks.ru owner discovered your website via search engine but it was hard to find and i see you could have more visitors because there are not so many comments yet. i have found website which offer to dramatically increase traffic to your blog http://insane-web-traffic.com they claim they managed to get close to 4000 visitors/day using their services you could also get lot more targeted traffic from search engines as you have now. i used their services and got significantly more visitors to my site. hope this helps :) they offer most cost effective services to increase website traffic at this website http://insane-web-traffic.com  to your success your friend  jessica\n"
       ]
      },
      {
       "metadata": {},
       "output_type": "pyout",
       "prompt_number": 62,
       "text": [
        "2"
       ]
      }
     ],
     "prompt_number": 62
    },
    {
     "cell_type": "code",
     "collapsed": false,
     "input": [
      "data['urls'] = data.body.apply(url_count)"
     ],
     "language": "python",
     "metadata": {},
     "outputs": [],
     "prompt_number": 63
    },
    {
     "cell_type": "code",
     "collapsed": false,
     "input": [
      "data.urls.hist(bins=50)"
     ],
     "language": "python",
     "metadata": {},
     "outputs": [
      {
       "metadata": {},
       "output_type": "pyout",
       "prompt_number": 64,
       "text": [
        "<matplotlib.axes._subplots.AxesSubplot at 0x12654b38>"
       ]
      },
      {
       "metadata": {},
       "output_type": "display_data",
       "png": "[encoded data removed]",
       "text": [
        "<matplotlib.figure.Figure at 0x123d71d0>"
       ]
      }
     ],
     "prompt_number": 64
    },
    {
     "cell_type": "code",
     "collapsed": false,
     "input": [
      "data.urls.describe()"
     ],
     "language": "python",
     "metadata": {},
     "outputs": [
      {
       "metadata": {},
       "output_type": "pyout",
       "prompt_number": 65,
       "text": [
        "count    5309.000000\n",
        "mean       41.328875\n",
        "std        30.720609\n",
        "min         0.000000\n",
        "25%        10.000000\n",
        "50%        56.000000\n",
        "75%        66.000000\n",
        "max       167.000000\n",
        "dtype: float64"
       ]
      }
     ],
     "prompt_number": 65
    },
    {
     "cell_type": "code",
     "collapsed": false,
     "input": [
      "(data.urls > 0).value_counts()"
     ],
     "language": "python",
     "metadata": {},
     "outputs": [
      {
       "metadata": {},
       "output_type": "pyout",
       "prompt_number": 66,
       "text": [
        "True     5203\n",
        "False     106\n",
        "dtype: int64"
       ]
      }
     ],
     "prompt_number": 66
    },
    {
     "cell_type": "markdown",
     "metadata": {},
     "source": [
      "Out of 5309 spam messages only 106 don't have any links, so link is a very good indicator of spam"
     ]
    },
    {
     "cell_type": "code",
     "collapsed": false,
     "input": [
      "for body in data.body[data.urls == 0][10:20]:\n",
      "    print '*', body[:200]"
     ],
     "language": "python",
     "metadata": {},
     "outputs": [
      {
       "output_type": "stream",
       "stream": "stdout",
       "text": [
        "* \u0442\u043e\u0440\u043e\u043f\u0438\u0442\u0435\u0441\u044c \u0434\u0435\u043b\u0430\u0442\u044c \u0434\u043e\u0431\u0440\u043e...\n",
        "* \u0437\u0434\u0440\u0430\u0432\u0441\u0442\u0432\u0443\u0439\u0442\u0435, \u0447\u0435\u0441\u0442\u043d\u043e \u0433\u043e\u0432\u043e\u0440\u044f \u044f \u0435\u0449\u0435 \u043c\u0430\u043b\u043e \u0432 \u044d\u0442\u043e\u043c \u0440\u0430\u0437\u0431\u0438\u0440\u0430\u044e\u0441\u044c, \u044f \u0443\u0447\u0443\u0441\u044c \u043f\u043e \u0441\u0430\u043c\u043e\u0443\u0447\u0438\u0442\u0435\u043b\u044f\u043c \u0438 \u0442\u0430\u043a\u043e\u0433\u043e \u0440\u043e\u0434\u0430 \u043f\u0440\u0430\u043a\u0442\u0438\u043a\u0435. \u0447\u0442\u043e \u043c\u043e\u0433 \u0441\u0434\u0435\u043b\u0430\u043b, \u0434\u0430\u043b\u044c\u0448\u0435 \u043d\u0443\u0436\u043d\u0430 \u043f\u043e\u043c\u043e\u0449\u044c. \u044f \u0433\u043e\u0442\u043e\u0432 \u0437\u0430\u043f\u043b\u0430\u0442\u0438\u0442\u044c, \u0447\u0442\u043e \u0431\u044b \u043a\u0430\u043a \u0442\u043e \u0441\u0434\u0432\u0438\u043d\u0443\u0442\u044c \u0434\u0435\u043b\u043e.\n",
        "* \u044d\u0442\u0430 \u0447\u0430\u0441\u0442\u044c \u0434\u0430, \u043d\u043e \u0435\u0441\u0442\u044c \u0438 javascript \u0432 \u0434\u0440\u0443\u0433\u043e\u0439 \u0447\u0430\u0441\u0442\u0438.\n",
        "* \u0442\u0430\u043a \u0435\u0441\u043b\u0438 \u043f\u043e \u043e\u0442\u0434\u0435\u043b\u044c\u043d\u043e\u0441\u0442\u0438 \u043a\u043e\u0434 \u0437\u0430\u0433\u0440\u0443\u0437\u043a\u0438 \u0444\u043e\u0442\u043e\u0433\u0440\u0430\u0444\u0438\u0439 \u0438 \u0441\u0430\u043c\u0430 \u0444\u043e\u0440\u043c\u0430 \u043f\u043e\u0434\u0430\u0447\u0438 \u043e\u0431\u044a\u044f\u0432\u043b\u0435\u043d\u0438\u0439 \u0440\u0430\u0431\u043e\u0442\u0430\u044e\u0442 \u0445\u043e\u0440\u043e\u0448\u043e. \u0432\u0441\u0435 \u0442\u0435\u0441\u0442\u0438\u0440\u0443\u044e \u043d\u0430 denwere.\n",
        "* \u0441\u043f\u0430\u043c \u0430\u0431\u0440\u0430\u043a\u0430\u0434\u0430\u0431\u0440\u0430 \u0441\u043f\u0430\u043c \u0430\u0431\u0440\u0430\u043a\u0430\u0434\u0430\u0431\u0440\u0430 \u0432\u043e\u0430\u043b\u043f\u043b \u043a\u043b\u0430\u043b\u043d\u0434\u0432 \u0430\u043e\u043f\u043b\u0434\u0432 \u0435\u043b\u043f\u0434\u0434\u0432\u0442\u043f \u0430\u043f \u043f\u043e\u043b\u0435\u043a\u0442\u0441\u0430 \u0430\u043f\u0440\u043d\u043e\u043b\n",
        "* \u044f \u0440\u0435\u0448\u0438\u043b \u0434\u043b\u044f \u0441\u0435\u0431\u044f - \u043d\u0430 \u0440\u044b\u043d\u043a\u0435 \u0444\u043e\u0440\u0435\u043a\u0441 \u0437\u0430\u0440\u0430\u0431\u0430\u0442\u044b\u0432\u0430\u0442\u044c \u043c\u043e\u0436\u043d\u043e, \u0438 \u043f\u0443\u0442\u044c \u043a \u0441\u0430\u043c\u043e \u0441\u043e\u0432\u0435\u0440\u0448\u0435\u043d\u0441\u0442\u0432\u0443, \u0444\u0438\u043d\u0430\u043d\u0441\u043e\u0432\u043e\u0439 \u0441\u0432\u043e\u0431\u043e\u0434\u0435, \u043a\u0430\u043a \u0443\u0433\u043e\u0434\u043d\u043e \u043d\u0430\u0437\u043e\u0432\u0438\u0442\u0435, \u044f \u043f\u0440\u043e\u043a\u043b\u0430\u0434\u044b\u0432\u0430\u044e. \u0442\u0435\u043f\u0435\u0440\u044c \u0431\u0443\u0434\u0435\u043c \u0436\u0434\u0430\u0442\u044c \u043d\u043e\u0432\u044b\u0445 \u043c\u0435\u0440 \u043f\u043e \u0443\u043a\u0440\u0435\u043f\u043b\u0435\u043d\u0438\u044e \u043d\u0430\u0446\u0438\u043e\u043d\u0430\u043b\u044c\u043d\u043e\u0439 \u0432\u0430\u043b\u044e\u0442\n",
        "* \u043a\u0430\u0436\u0434\u044b\u0439 \u0440\u044b\u043d\u043e\u043a \u0445\u0430\u0440\u0430\u043a\u0442\u0435\u0440\u0438\u0437\u0443\u0435\u0442\u0441\u044f \u0440\u0430\u0437\u043d\u043e\u043e\u0431\u0440\u0430\u0437\u0438\u0435\u043c \u0442\u043e\u0432\u0430\u0440\u043e\u0432, \u043f\u043e\u043a\u0443\u043f\u0430\u0442\u0435\u043b\u0435\u0439 \u0438 \u043f\u0440\u043e\u0434\u0430\u0432\u0446\u043e\u0432. \u044f \u0438\u043d\u043e\u0433\u0434\u0430 \u0434\u0443\u043c\u0430\u044e, \u0447\u0442\u043e \u043e\u043d \u0445\u043e\u0442\u0435\u043b \u0443\u043c\u0435\u0440\u0435\u0442\u044c. \u0438\u043d\u0434\u0438\u043a\u0430\u0442\u043e\u0440\u044b \u0434\u043b\u044f \u0441\u043a\u0430\u043b\u044c\u043f\u0438\u043d\u0433\u0430 \u0447\u0430\u0441\u0442\u044c. \u0441\u0440\u0430\u0432\u043d\u0438\u043b \u043e\u0434\u043d\u043e\u0432\u0440\u0435\u043c\u0435\u043d\u043d\u043e \u043a\u043e\u0442\u0438\u0440\u043e\u0432\u043a\u0438 \u043c\u04424, rumus \u0438 startfx \n",
        "* \u043d\u0435 \u0431\u044b\u0432\u0430\u0435\u0442 \u0445\u043e\u0440\u043e\u0448\u0435\u0439 \u0432\u043e\u0439\u043d\u044b \u0438 \u043f\u043b\u043e\u0445\u043e\u0433\u043e \u043c\u0438\u0440\u0430...\n",
        "* \u043d\u0435 \u0431\u044b\u0432\u0430\u0435\u0442 \u0445\u043e\u0440\u043e\u0448\u0435\u0439 \u0432\u043e\u0439\u043d\u044b \u0438 \u043f\u043b\u043e\u0445\u043e\u0433\u043e \u043c\u0438\u0440\u0430...\n",
        "* \u043d\u0435 \u0431\u044b\u0432\u0430\u0435\u0442 \u0445\u043e\u0440\u043e\u0448\u0435\u0439 \u0432\u043e\u0439\u043d\u044b \u0438 \u043f\u043b\u043e\u0445\u043e\u0433\u043e \u043c\u0438\u0440\u0430...\n"
       ]
      }
     ],
     "prompt_number": 67
    },
    {
     "cell_type": "markdown",
     "metadata": {},
     "source": [
      "Even in the spam dataset not everything appears to be spam"
     ]
    },
    {
     "cell_type": "heading",
     "level": 2,
     "metadata": {},
     "source": [
      "Probably Not Spam"
     ]
    },
    {
     "cell_type": "markdown",
     "metadata": {},
     "source": [
      "Let's try to have a look at messages that are (potentially) not spam: select users who left few posts (less than 2) and who aren't banned\n",
      "\n",
      "\tSELECT \n",
      "\t\t'id', 'username', 'reg_date', 'post_count', \n",
      "\t\t'pm_creation_date', 'pm_prev_message', 'pm_in_count', 'body', 'prev_msg_body', 'spam'\n",
      "\tUNION ALL\n",
      "\tSELECT \n",
      "\t\tu.ID,\n",
      "\t\tu.USERNAME,\n",
      "\t\tud.REGISTRATION_DATE,\n",
      "\t\tud.POST_COUNT,\n",
      "\t\tpm.CREATION_DATE,\n",
      "\t\t(SELECT pm1.CREATION_DATE\t\t\n",
      "\t\t\tFROM jtalks.PRIVATE_MESSAGE pm1 \n",
      "\t\t\tWHERE pm1.USER_FROM = u.ID \n",
      "\t\t\tAND pm1.PM_ID < pm.PM_ID \n",
      "\t\t\tORDER BY pm1.PM_ID desc LIMIT 1) as PM_PREV_SENT_MSG,\n",
      "\t\t(SELECT count(*) FROM\n",
      "\t\t\t\tjtalks.PRIVATE_MESSAGE pm1\n",
      "\t\t\tWHERE\n",
      "\t\t\t\tpm1.USER_TO = u.ID and pm1.CREATION_DATE < pm.CREATION_DATE) as IN_MSG_COUNT,\n",
      "\t\tREPLACE(REPLACE(REPLACE(pm.BODY, '\\t', ' '), '\\r', ''), '\\n', ' ') as BODY,\n",
      "\t\t(SELECT REPLACE(REPLACE(REPLACE(pm1.BODY, '\\t', ' '), '\\r', ''), '\\n', ' ')\t\t\n",
      "\t\t\tFROM jtalks.PRIVATE_MESSAGE pm1 \n",
      "\t\t\tWHERE pm1.USER_FROM = u.ID \n",
      "\t\t\tAND pm1.PM_ID < pm.PM_ID \n",
      "\t\t\tORDER BY pm1.PM_ID desc LIMIT 1) as PREV_SENT_MSG_BODY,\n",
      "\t\t'?' as SPAM\n",
      "\tFROM\n",
      "\t\tjtalks.USERS u\n",
      "\t\t\tLEFT JOIN\n",
      "\t\tjtalks.JC_USER_DETAILS ud ON u.ID = ud.USER_ID\n",
      "\t\t\tJOIN\n",
      "\t\tjtalks.PRIVATE_MESSAGE pm ON u.ID = pm.USER_FROM\n",
      "\t\t\tLEFT JOIN\n",
      "\t\tjtalks.GROUP_USER_REF gr ON u.ID = gr.USER_ID\n",
      "\tWHERE u.ID > 16000 AND \n",
      "\t\tgr.GROUP_ID != 3 AND\n",
      "\t\tud.POST_COUNT < 2\n",
      "\tINTO OUTFILE 'c:/tmp/spam-2.txt';"
     ]
    },
    {
     "cell_type": "code",
     "collapsed": false,
     "input": [
      "spam_file_2 = 'c:/tmp/spam-2.txt'\n",
      "data2 = read(spam_file_2)\n",
      "data2['time_from_last_pm'] = data2.pm_creation_date - data2.pm_prev_message"
     ],
     "language": "python",
     "metadata": {},
     "outputs": [],
     "prompt_number": 68
    },
    {
     "cell_type": "code",
     "collapsed": false,
     "input": [
      "data2[['username', 'post_count', 'pm_in_count', 'time_from_last_pm', 'body']][1000:1020]"
     ],
     "language": "python",
     "metadata": {},
     "outputs": [
      {
       "html": [
        "<div style=\"max-height:1000px;max-width:1500px;overflow:auto;\">\n",
        "<table border=\"1\" class=\"dataframe\">\n",
        "  <thead>\n",
        "    <tr style=\"text-align: right;\">\n",
        "      <th></th>\n",
        "      <th>username</th>\n",
        "      <th>post_count</th>\n",
        "      <th>pm_in_count</th>\n",
        "      <th>time_from_last_pm</th>\n",
        "      <th>body</th>\n",
        "    </tr>\n",
        "  </thead>\n",
        "  <tbody>\n",
        "    <tr>\n",
        "      <th>1000</th>\n",
        "      <td>    alinapopas</td>\n",
        "      <td> 0</td>\n",
        "      <td> 0</td>\n",
        "      <td>00:50:28</td>\n",
        "      <td> [center][size=15][url=http://best-online-tabs....</td>\n",
        "    </tr>\n",
        "    <tr>\n",
        "      <th>1001</th>\n",
        "      <td>   alkalosomZI</td>\n",
        "      <td> 0</td>\n",
        "      <td> 0</td>\n",
        "      <td>00:52:46</td>\n",
        "      <td> \u043d\u0438\u0447\u0435\u0433\u043e \u044f \u043d\u0435 \u0432\u0438\u0434\u0435\u043b \u0438 \u043d\u0438\u0447\u0435\u0433\u043e \u043d\u0435 \u043f\u043e\u043d\u0438\u043c\u0430\u043b. \u044f \u043d\u0438 \u043e ...</td>\n",
        "    </tr>\n",
        "    <tr>\n",
        "      <th>1002</th>\n",
        "      <td>    alinapopas</td>\n",
        "      <td> 0</td>\n",
        "      <td> 0</td>\n",
        "      <td>01:10:26</td>\n",
        "      <td> [center][size=15][url=http://best-online-tabs....</td>\n",
        "    </tr>\n",
        "    <tr>\n",
        "      <th>1003</th>\n",
        "      <td>    alinapopas</td>\n",
        "      <td> 0</td>\n",
        "      <td> 0</td>\n",
        "      <td>00:00:42</td>\n",
        "      <td> [center][size=15][url=http://best-online-tabs....</td>\n",
        "    </tr>\n",
        "    <tr>\n",
        "      <th>1004</th>\n",
        "      <td>   alkalosomZI</td>\n",
        "      <td> 0</td>\n",
        "      <td> 0</td>\n",
        "      <td>00:57:36</td>\n",
        "      <td> \u044f \u0432 \u043d\u0435\u043e\u043f\u043b\u0430\u0442\u043d\u043e\u043c \u0434\u043e\u043b\u0433\u0443 \u043f\u0435\u0440\u0435\u0434 \u0432\u0430\u043c\u0438! \u0431\u043e\u0436\u0435, \u0431\u043e\u0436\u0435, \u0441...</td>\n",
        "    </tr>\n",
        "    <tr>\n",
        "      <th>1005</th>\n",
        "      <td>    alinapopas</td>\n",
        "      <td> 0</td>\n",
        "      <td> 0</td>\n",
        "      <td>02:09:28</td>\n",
        "      <td> [center][size=15][url=http://best-online-tabs....</td>\n",
        "    </tr>\n",
        "    <tr>\n",
        "      <th>1006</th>\n",
        "      <td>    alinapopas</td>\n",
        "      <td> 0</td>\n",
        "      <td> 0</td>\n",
        "      <td>00:00:17</td>\n",
        "      <td> [center][size=15][url=http://best-online-tabs....</td>\n",
        "    </tr>\n",
        "    <tr>\n",
        "      <th>1007</th>\n",
        "      <td>   alkalosomZI</td>\n",
        "      <td> 0</td>\n",
        "      <td> 0</td>\n",
        "      <td>03:16:39</td>\n",
        "      <td> \u0430 \u044f \u0432\u0430\u043c \u0433\u043e\u0432\u043e\u0440\u044e \u0437\u0430\u0440\u0430\u043d\u0435\u0435, \u0447\u0442\u043e \u0443 \u043c\u0435\u043d\u044f \u043f\u043e\u0431\u043b\u0430\u0436\u0435\u043a \u043d\u0438...</td>\n",
        "    </tr>\n",
        "    <tr>\n",
        "      <th>1008</th>\n",
        "      <td>    alinapopas</td>\n",
        "      <td> 0</td>\n",
        "      <td> 0</td>\n",
        "      <td>02:28:47</td>\n",
        "      <td> [center][size=15][url=http://best-online-tabs....</td>\n",
        "    </tr>\n",
        "    <tr>\n",
        "      <th>1009</th>\n",
        "      <td>    alinapopas</td>\n",
        "      <td> 0</td>\n",
        "      <td> 0</td>\n",
        "      <td>00:00:19</td>\n",
        "      <td> [center][size=15][url=http://best-online-tabs....</td>\n",
        "    </tr>\n",
        "    <tr>\n",
        "      <th>1010</th>\n",
        "      <td> RomaZhbanchik</td>\n",
        "      <td> 0</td>\n",
        "      <td> 0</td>\n",
        "      <td>12:20:34</td>\n",
        "      <td> [url=http://bit.ly/1aime6z ][img]http://bit.ly...</td>\n",
        "    </tr>\n",
        "    <tr>\n",
        "      <th>1011</th>\n",
        "      <td>    Byssyncsyi</td>\n",
        "      <td> 0</td>\n",
        "      <td> 0</td>\n",
        "      <td>     NaT</td>\n",
        "      <td> \u0437\u0434\u0440\u0430\u0432\u0441\u0432\u0443\u0439\u0442\u0435  \u043f\u043e\u043b\u044c\u0437\u043e\u0432\u0430\u0442\u0435\u043b\u0438 \u0438 \u0433\u043e\u0441\u0442\u0438 \u0444\u043e\u0440\u0443\u043c\u0430 pda.j...</td>\n",
        "    </tr>\n",
        "    <tr>\n",
        "      <th>1012</th>\n",
        "      <td>    alinapopas</td>\n",
        "      <td> 0</td>\n",
        "      <td> 0</td>\n",
        "      <td>02:21:18</td>\n",
        "      <td> [center][size=15][url=http://best-online-tabs....</td>\n",
        "    </tr>\n",
        "    <tr>\n",
        "      <th>1013</th>\n",
        "      <td>    alinapopas</td>\n",
        "      <td> 0</td>\n",
        "      <td> 0</td>\n",
        "      <td>00:00:17</td>\n",
        "      <td> [center][size=15][url=http://best-online-tabs....</td>\n",
        "    </tr>\n",
        "    <tr>\n",
        "      <th>1014</th>\n",
        "      <td>    alinapopas</td>\n",
        "      <td> 0</td>\n",
        "      <td> 0</td>\n",
        "      <td>02:20:22</td>\n",
        "      <td> [center][size=15][url=http://best-online-tabs....</td>\n",
        "    </tr>\n",
        "    <tr>\n",
        "      <th>1015</th>\n",
        "      <td>    alinapopas</td>\n",
        "      <td> 0</td>\n",
        "      <td> 0</td>\n",
        "      <td>00:00:26</td>\n",
        "      <td> [center][size=15][url=http://best-online-tabs....</td>\n",
        "    </tr>\n",
        "    <tr>\n",
        "      <th>1016</th>\n",
        "      <td>    alinapopas</td>\n",
        "      <td> 0</td>\n",
        "      <td> 0</td>\n",
        "      <td>02:19:51</td>\n",
        "      <td> [center][size=15][url=http://best-online-tabs....</td>\n",
        "    </tr>\n",
        "    <tr>\n",
        "      <th>1017</th>\n",
        "      <td>    alinapopas</td>\n",
        "      <td> 0</td>\n",
        "      <td> 0</td>\n",
        "      <td>00:00:17</td>\n",
        "      <td> [center][size=15][url=http://best-online-tabs....</td>\n",
        "    </tr>\n",
        "    <tr>\n",
        "      <th>1018</th>\n",
        "      <td>      Dimonren</td>\n",
        "      <td> 0</td>\n",
        "      <td> 0</td>\n",
        "      <td>     NaT</td>\n",
        "      <td> [url=http://www.biocci.ru/][img]http://www.bio...</td>\n",
        "    </tr>\n",
        "    <tr>\n",
        "      <th>1019</th>\n",
        "      <td>    alinapopas</td>\n",
        "      <td> 0</td>\n",
        "      <td> 0</td>\n",
        "      <td>02:24:55</td>\n",
        "      <td> [center][size=15][url=http://best-online-tabs....</td>\n",
        "    </tr>\n",
        "  </tbody>\n",
        "</table>\n",
        "</div>"
       ],
       "metadata": {},
       "output_type": "pyout",
       "prompt_number": 69,
       "text": [
        "           username  post_count  pm_in_count  time_from_last_pm  \\\n",
        "1000     alinapopas           0            0           00:50:28   \n",
        "1001    alkalosomZI           0            0           00:52:46   \n",
        "1002     alinapopas           0            0           01:10:26   \n",
        "1003     alinapopas           0            0           00:00:42   \n",
        "1004    alkalosomZI           0            0           00:57:36   \n",
        "1005     alinapopas           0            0           02:09:28   \n",
        "1006     alinapopas           0            0           00:00:17   \n",
        "1007    alkalosomZI           0            0           03:16:39   \n",
        "1008     alinapopas           0            0           02:28:47   \n",
        "1009     alinapopas           0            0           00:00:19   \n",
        "1010  RomaZhbanchik           0            0           12:20:34   \n",
        "1011     Byssyncsyi           0            0                NaT   \n",
        "1012     alinapopas           0            0           02:21:18   \n",
        "1013     alinapopas           0            0           00:00:17   \n",
        "1014     alinapopas           0            0           02:20:22   \n",
        "1015     alinapopas           0            0           00:00:26   \n",
        "1016     alinapopas           0            0           02:19:51   \n",
        "1017     alinapopas           0            0           00:00:17   \n",
        "1018       Dimonren           0            0                NaT   \n",
        "1019     alinapopas           0            0           02:24:55   \n",
        "\n",
        "                                                   body  \n",
        "1000  [center][size=15][url=http://best-online-tabs....  \n",
        "1001  \u043d\u0438\u0447\u0435\u0433\u043e \u044f \u043d\u0435 \u0432\u0438\u0434\u0435\u043b \u0438 \u043d\u0438\u0447\u0435\u0433\u043e \u043d\u0435 \u043f\u043e\u043d\u0438\u043c\u0430\u043b. \u044f \u043d\u0438 \u043e ...  \n",
        "1002  [center][size=15][url=http://best-online-tabs....  \n",
        "1003  [center][size=15][url=http://best-online-tabs....  \n",
        "1004  \u044f \u0432 \u043d\u0435\u043e\u043f\u043b\u0430\u0442\u043d\u043e\u043c \u0434\u043e\u043b\u0433\u0443 \u043f\u0435\u0440\u0435\u0434 \u0432\u0430\u043c\u0438! \u0431\u043e\u0436\u0435, \u0431\u043e\u0436\u0435, \u0441...  \n",
        "1005  [center][size=15][url=http://best-online-tabs....  \n",
        "1006  [center][size=15][url=http://best-online-tabs....  \n",
        "1007  \u0430 \u044f \u0432\u0430\u043c \u0433\u043e\u0432\u043e\u0440\u044e \u0437\u0430\u0440\u0430\u043d\u0435\u0435, \u0447\u0442\u043e \u0443 \u043c\u0435\u043d\u044f \u043f\u043e\u0431\u043b\u0430\u0436\u0435\u043a \u043d\u0438...  \n",
        "1008  [center][size=15][url=http://best-online-tabs....  \n",
        "1009  [center][size=15][url=http://best-online-tabs....  \n",
        "1010  [url=http://bit.ly/1aime6z ][img]http://bit.ly...  \n",
        "1011  \u0437\u0434\u0440\u0430\u0432\u0441\u0432\u0443\u0439\u0442\u0435  \u043f\u043e\u043b\u044c\u0437\u043e\u0432\u0430\u0442\u0435\u043b\u0438 \u0438 \u0433\u043e\u0441\u0442\u0438 \u0444\u043e\u0440\u0443\u043c\u0430 pda.j...  \n",
        "1012  [center][size=15][url=http://best-online-tabs....  \n",
        "1013  [center][size=15][url=http://best-online-tabs....  \n",
        "1014  [center][size=15][url=http://best-online-tabs....  \n",
        "1015  [center][size=15][url=http://best-online-tabs....  \n",
        "1016  [center][size=15][url=http://best-online-tabs....  \n",
        "1017  [center][size=15][url=http://best-online-tabs....  \n",
        "1018  [url=http://www.biocci.ru/][img]http://www.bio...  \n",
        "1019  [center][size=15][url=http://best-online-tabs....  "
       ]
      }
     ],
     "prompt_number": 69
    },
    {
     "cell_type": "code",
     "collapsed": false,
     "input": [
      "print data2.body[1000][:200]"
     ],
     "language": "python",
     "metadata": {},
     "outputs": [
      {
       "output_type": "stream",
       "stream": "stdout",
       "text": [
        "[center][size=15][url=http://best-online-tabs.com/search/?q=colcrys][b]click here to [color=red]buy colcrys online[/color] right now!!![/b][/url]      [url=http://best-online-tabs.com/search/?q=colcry\n"
       ]
      }
     ],
     "prompt_number": 70
    },
    {
     "cell_type": "markdown",
     "metadata": {},
     "source": [
      "Anyway looks like spam"
     ]
    },
    {
     "cell_type": "markdown",
     "metadata": {},
     "source": [
      "First, let's calculate the 3-gram similarity"
     ]
    },
    {
     "cell_type": "code",
     "collapsed": false,
     "input": [
      "data2['prev_sim'] = data2.apply(ngrams_cosine, axis=1)"
     ],
     "language": "python",
     "metadata": {},
     "outputs": [],
     "prompt_number": 74
    },
    {
     "cell_type": "markdown",
     "metadata": {},
     "source": [
      "Then let's calculate the number of URL links in PMs"
     ]
    },
    {
     "cell_type": "code",
     "collapsed": false,
     "input": [
      "data2['urls'] = data2.body.apply(url_count)"
     ],
     "language": "python",
     "metadata": {},
     "outputs": [],
     "prompt_number": 71
    },
    {
     "cell_type": "code",
     "collapsed": false,
     "input": [
      "(data2.urls > 0).value_counts()"
     ],
     "language": "python",
     "metadata": {},
     "outputs": [
      {
       "metadata": {},
       "output_type": "pyout",
       "prompt_number": 72,
       "text": [
        "True     9211\n",
        "False     923\n",
        "dtype: int64"
       ]
      }
     ],
     "prompt_number": 72
    },
    {
     "cell_type": "code",
     "collapsed": false,
     "input": [
      "for body in data2[data2.urls == 1][:8].body:\n",
      "    print '*', body[:200]"
     ],
     "language": "python",
     "metadata": {},
     "outputs": [
      {
       "output_type": "stream",
       "stream": "stdout",
       "text": [
        "* \u0434\u0430\u0432\u0430\u0439\u0442\u0435 \u044f \u043e\u0431\u044a\u044f\u0441\u043d\u044e \u0447\u0442\u043e \u043d\u0443\u0436\u043d\u043e, \u0430 \u0442\u0430\u043c \u0432\u044b \u043f\u043e\u0441\u043c\u043e\u0442\u0440\u0438\u0442\u0435 \u043d\u0430 \u0447\u0451\u043c \u044d\u0442\u043e \u043b\u0443\u0447\u0448\u0435 \u0431\u0443\u0434\u0435\u0442 \u043d\u0430\u043f\u0438\u0441\u0430\u0442\u044c.  1) \u0431\u043b\u0430\u043d\u043a \u043d\u0443\u0436\u0435\u043d \u044d\u043b\u0435\u043a\u0442\u0440\u043e\u043d\u043d\u044b\u0439 \u0431\u043b\u0430\u043d\u043a \u043d\u0430 \u043f\u043e\u0434\u043e\u0431\u0438\u0435 [url=http://yadi.sk/d/dfamaytv4ikdu]\u043f\u0440\u0438\u043a\u0440\u0435\u043f\u043b\u0451\u043d\u043d\u043e\u0433\u043e \u043f\u0434\u0444[/url] (\u0434\u0430\u0436\u0435 \u0441\u043a\u0430\u0436\u0435\u043c\n",
        "* \u0434\u043e\u0431\u0440\u044b\u0439 \u0434\u0435\u043d\u044c! :) \u043e \u0432\u0430\u0441 \u0443\u0437\u043d\u0430\u043b \u0438\u0437 \u043f\u043e\u0441\u0442\u043e\u0432 \u0444\u043e\u0440\u0443\u043c\u0430, \u0433\u0434\u0435 \u0432\u044b \u0434\u0430\u0435\u0442\u0435 \u0432\u0435\u0440\u043d\u044b\u0435 \u0441\u043e\u0432\u0435\u0442\u044b \u0443\u0447\u0430\u0441\u0442\u043d\u0438\u043a\u0430\u043c, \u044d\u0442\u0438 \u0441\u043e\u0432\u0435\u0442\u044b \u043f\u043e\u0441\u0447\u0438\u0442\u0430\u043b \u0446\u0435\u043d\u043d\u044b\u043c\u0438, \u0430 \u0442\u0430\u043a\u0436\u0435 \u0432\u044b\u0434\u0435\u043b\u0438\u043b \u0432\u0430\u0441 \u043a\u0430\u043a \u043e\u043f\u044b\u0442\u043d\u043e\u0433\u043e \u043f\u0440\u043e\u0433\u0440\u0430\u043c\u043c\u0438\u0441\u0442\u0430.  \u043c\u043d\u0435 \u043d\u0435\u043e\u0431\u0445\u043e\u0434\u0438\u043c\u043e \u043d\u0430\u043f\u0438\u0441\u0430\u0442\u044c \u043d\u0435\u0431\u043e\u043b\u044c\u0448\u043e\u0435 \u043f\u0440\u0438\u043b\n",
        "* \u0434\u043e\u0431\u0440\u044b\u0439 \u0434\u0435\u043d\u044c! :) \u043e \u0432\u0430\u0441 \u0443\u0437\u043d\u0430\u043b \u0438\u0437 \u043f\u043e\u0441\u0442\u043e\u0432 \u0444\u043e\u0440\u0443\u043c\u0430, \u0433\u0434\u0435 \u0432\u044b \u0434\u0430\u0435\u0442\u0435 \u0432\u0435\u0440\u043d\u044b\u0435 \u0441\u043e\u0432\u0435\u0442\u044b \u0443\u0447\u0430\u0441\u0442\u043d\u0438\u043a\u0430\u043c, \u044d\u0442\u0438 \u0441\u043e\u0432\u0435\u0442\u044b \u043f\u043e\u0441\u0447\u0438\u0442\u0430\u043b \u0446\u0435\u043d\u043d\u044b\u043c\u0438, \u0430 \u0442\u0430\u043a\u0436\u0435 \u0432\u044b\u0434\u0435\u043b\u0438\u043b \u0432\u0430\u0441 \u043a\u0430\u043a \u043e\u043f\u044b\u0442\u043d\u043e\u0433\u043e \u043f\u0440\u043e\u0433\u0440\u0430\u043c\u043c\u0438\u0441\u0442\u0430. \u043c\u043d\u0435 \u043d\u0435\u043e\u0431\u0445\u043e\u0434\u0438\u043c\u043e \u043d\u0430\u043f\u0438\u0441\u0430\u0442\u044c \u043d\u0435\u0431\u043e\u043b\u044c\u0448\u043e\u0435 \u043f\u0440\u0438\u043b\u043e\n",
        "* \u0434\u043e\u0431\u0440\u044b\u0439 \u0434\u0435\u043d\u044c! :) \u043c\u043d\u0435 \u043d\u0435\u043e\u0431\u0445\u043e\u0434\u0438\u043c\u043e \u043d\u0430\u043f\u0438\u0441\u0430\u0442\u044c \u043d\u0435\u0431\u043e\u043b\u044c\u0448\u043e\u0435 \u043f\u0440\u0438\u043b\u043e\u0436\u0435\u043d\u0438\u0435 \u0438\u043d\u0442\u0435\u0440\u043d\u0435\u0442-\u0442\u0435\u043b\u0435\u0436\u043a\u0430 (\u0441\u0438\u043b\u044c\u043d\u043e \u0443\u0440\u0435\u0437\u0430\u043d\u043d\u0430\u044f \u0432\u0435\u0440\u0441\u0438\u044f \u0438\u043d\u0442\u0435\u0440\u043d\u0435\u0442-\u043c\u0430\u0433\u0430\u0437\u0438\u043d\u0430) \u0434\u043b\u044f android, \u0440\u0430\u0437\u0443\u043c\u0435\u0435\u0442\u0441\u044f \u0437\u0430 \u0434\u0435\u043d\u044c\u0433\u0438.  \u0438\u043d\u0442\u0435\u0440\u043d\u0435\u0442-\u0442\u0435\u043b\u0435\u0436\u043a\u0430 \u0438\u043c\u0435\u0435\u0442 \u0441\u043b\u0435\u0434\u0443\u044e\u0449\u0438\u0439 \u0444\u0443\u043d\u043a\u0446\u0438\u043e\u043d\u0430\n",
        "* \u0434\u043e\u0431\u0440\u044b\u0439 \u0434\u0435\u043d\u044c! :) \u043c\u043d\u0435 \u043d\u0435\u043e\u0431\u0445\u043e\u0434\u0438\u043c\u043e \u043d\u0430\u043f\u0438\u0441\u0430\u0442\u044c \u043d\u0435\u0431\u043e\u043b\u044c\u0448\u043e\u0435 \u043f\u0440\u0438\u043b\u043e\u0436\u0435\u043d\u0438\u0435 \u0438\u043d\u0442\u0435\u0440\u043d\u0435\u0442-\u0442\u0435\u043b\u0435\u0436\u043a\u0430 (\u0441\u0438\u043b\u044c\u043d\u043e \u0443\u0440\u0435\u0437\u0430\u043d\u043d\u0430\u044f \u0432\u0435\u0440\u0441\u0438\u044f \u0438\u043d\u0442\u0435\u0440\u043d\u0435\u0442-\u043c\u0430\u0433\u0430\u0437\u0438\u043d\u0430) \u0434\u043b\u044f android, \u0440\u0430\u0437\u0443\u043c\u0435\u0435\u0442\u0441\u044f \u0437\u0430 \u0434\u0435\u043d\u044c\u0433\u0438.  \u0438\u043d\u0442\u0435\u0440\u043d\u0435\u0442-\u0442\u0435\u043b\u0435\u0436\u043a\u0430 \u0438\u043c\u0435\u0435\u0442 \u0441\u043b\u0435\u0434\u0443\u044e\u0449\u0438\u0439 \u0444\u0443\u043d\u043a\u0446\u0438\u043e\u043d\u0430\n",
        "* \u0434\u043e\u0431\u0440\u044b\u0439 \u0434\u0435\u043d\u044c! :) \u043c\u043d\u0435 \u043d\u0435\u043e\u0431\u0445\u043e\u0434\u0438\u043c\u043e \u043d\u0430\u043f\u0438\u0441\u0430\u0442\u044c \u043d\u0435\u0431\u043e\u043b\u044c\u0448\u043e\u0435 \u043f\u0440\u0438\u043b\u043e\u0436\u0435\u043d\u0438\u0435 \u0438\u043d\u0442\u0435\u0440\u043d\u0435\u0442-\u0442\u0435\u043b\u0435\u0436\u043a\u0430 (\u0441\u0438\u043b\u044c\u043d\u043e \u0443\u0440\u0435\u0437\u0430\u043d\u043d\u0430\u044f \u0432\u0435\u0440\u0441\u0438\u044f \u0438\u043d\u0442\u0435\u0440\u043d\u0435\u0442-\u043c\u0430\u0433\u0430\u0437\u0438\u043d\u0430) \u0434\u043b\u044f android, \u0440\u0430\u0437\u0443\u043c\u0435\u0435\u0442\u0441\u044f \u0437\u0430 \u0434\u0435\u043d\u044c\u0433\u0438.  \u0438\u043d\u0442\u0435\u0440\u043d\u0435\u0442-\u0442\u0435\u043b\u0435\u0436\u043a\u0430 \u0438\u043c\u0435\u0435\u0442 \u0441\u043b\u0435\u0434\u0443\u044e\u0449\u0438\u0439 \u0444\u0443\u043d\u043a\u0446\u0438\u043e\u043d\u0430\n",
        "* \u0434\u043e\u0431\u0440\u044b\u0439 \u0434\u0435\u043d\u044c! :) \u043c\u043d\u0435 \u043d\u0435\u043e\u0431\u0445\u043e\u0434\u0438\u043c\u043e \u043d\u0430\u043f\u0438\u0441\u0430\u0442\u044c \u043d\u0435\u0431\u043e\u043b\u044c\u0448\u043e\u0435 \u043f\u0440\u0438\u043b\u043e\u0436\u0435\u043d\u0438\u0435 \u0438\u043d\u0442\u0435\u0440\u043d\u0435\u0442-\u0442\u0435\u043b\u0435\u0436\u043a\u0430 (\u0441\u0438\u043b\u044c\u043d\u043e \u0443\u0440\u0435\u0437\u0430\u043d\u043d\u0430\u044f \u0432\u0435\u0440\u0441\u0438\u044f \u0438\u043d\u0442\u0435\u0440\u043d\u0435\u0442-\u043c\u0430\u0433\u0430\u0437\u0438\u043d\u0430) \u0434\u043b\u044f android, \u0440\u0430\u0437\u0443\u043c\u0435\u0435\u0442\u0441\u044f \u0437\u0430 \u0434\u0435\u043d\u044c\u0433\u0438.  \u0438\u043d\u0442\u0435\u0440\u043d\u0435\u0442-\u0442\u0435\u043b\u0435\u0436\u043a\u0430 \u0438\u043c\u0435\u0435\u0442 \u0441\u043b\u0435\u0434\u0443\u044e\u0449\u0438\u0439 \u0444\u0443\u043d\u043a\u0446\u0438\u043e\u043d\u0430\n",
        "* \u044f \u043e\u0441\u0442\u0430\u0432\u0438\u043b \u043a\u043e\u043c\u0435\u043d\u0442\u0430\u0440\u0438\u0438 \u043e \u043f\u0440\u043e\u0434\u0430\u0436\u0435 \u0432\u0435\u0440\u0441\u0438\u0438, \u0432 \u0441\u0442\u0430\u043d\u0434\u0430\u0440\u0442\u043d\u043e\u0439 \u0432\u0435\u0440\u0441\u0438\u0438 30\u0441\u0435\u043a \u043e\u0431\u043d\u043e\u0432\u043b\u0435\u043d\u0438\u0435  \u044d\u0442\u0430 \u043f\u0440\u043e\u0433\u0440\u0430\u043c\u043c\u0430 infinity taxi mobile x 2.15\\\\2.10 (\u0434\u043b\u044f \u0442\u0430\u043a\u0441\u0438\u0441\u0442\u043e\u0432) \u0434\u043b\u044f \u0442\u0435\u043b\u0435\u0444\u043e\u043d\u043e\u0432 \u0441 \u043f\u043e\u0434\u0434\u0435\u0440\u0436\u043a\u043e\u0439 java, \u0430\u0432\u0442\u043e\u043c\u0430\u0442\u0438\u0447\u0435\u0441\u043a\u0438 \u043e\u0431\u043d\u043e\u0432\u043b\u044f\u0435\u0442 \u0441\n"
       ]
      }
     ],
     "prompt_number": 75
    },
    {
     "cell_type": "markdown",
     "metadata": {},
     "source": [
      "This doesn't look like spam, so one link per message might be ok"
     ]
    },
    {
     "cell_type": "code",
     "collapsed": false,
     "input": [
      "for body in data2[data2.urls == 2][:10].body:\n",
      "    print '*', body[:200]"
     ],
     "language": "python",
     "metadata": {},
     "outputs": [
      {
       "output_type": "stream",
       "stream": "stdout",
       "text": [
        "* <b><font color=#004000>\u043e\u0442\u043b\u0438\u0447\u043d\u044b\u0439 \u0441\u0435\u0440\u0432\u0438\u0441 \u043f\u043e \u043f\u0440\u0438\u0432\u043b\u0435\u0447\u0435\u043d\u0438\u044e \u043b\u044e\u0434\u0435\u0439 \u0432 \u0432\u0430\u0448\u0443 \u0433\u0440\u0443\u043f\u043f\u0443 \u0438\u043b\u0438 \u043f\u0440\u0438\u0432\u043b\u0435\u0447\u0435\u043d\u0438\u0435 \u043f\u043e\u0434\u043f\u0438\u0441\u0447\u0438\u043a\u043e\u0432</font></b>.  \u0441\u043e\u0446\u0438\u0430\u043b\u044c\u043d\u044b\u0435 \u0441\u0435\u0442\u0438 vkontakte, \u043e\u0434\u043d\u043e\u043a\u043b\u0430\u0441\u0441\u043d\u0438\u043a\u0438, \u043c\u043e\u0439 \u043c\u0438\u0440, facebook, \u0442\u0432\u0438\u0442\u0442\u0435\u0440, \u044e\u0442\u0443\u0431, \u0433\u0443\u0433\u043b \u043f\u043b\u044e\u0441\n",
        "* <b><font color=#004000>\u043e\u0442\u043b\u0438\u0447\u043d\u044b\u0439 \u0441\u0435\u0440\u0432\u0438\u0441 \u043f\u043e \u043f\u0440\u0438\u0432\u043b\u0435\u0447\u0435\u043d\u0438\u044e \u043b\u044e\u0434\u0435\u0439 \u0432 \u0432\u0430\u0448\u0443 \u0433\u0440\u0443\u043f\u043f\u0443 \u0438\u043b\u0438 \u043f\u0440\u0438\u0432\u043b\u0435\u0447\u0435\u043d\u0438\u0435 \u043f\u043e\u0434\u043f\u0438\u0441\u0447\u0438\u043a\u043e\u0432</font></b>.  \u0441\u043e\u0446\u0438\u0430\u043b\u044c\u043d\u044b\u0435 \u0441\u0435\u0442\u0438 vkontakte, \u043e\u0434\u043d\u043e\u043a\u043b\u0430\u0441\u0441\u043d\u0438\u043a\u0438, \u043c\u043e\u0439 \u043c\u0438\u0440, facebook, \u0442\u0432\u0438\u0442\u0442\u0435\u0440, \u044e\u0442\u0443\u0431, \u0433\u0443\u0433\u043b \u043f\u043b\u044e\u0441\n",
        "* \u043f\u0440\u0435\u0434\u043b\u0430\u0433\u0430\u0435\u043c \u043d\u0430\u0448\u0438\u043c \u043b\u044e\u0431\u0438\u043c\u044b\u043c \u0438 \u0434\u043e\u0440\u043e\u0433\u0438\u043c \u043a\u043b\u0438\u0435\u043d\u0442\u0430\u043c, \u0442\u0435\u043c\u0430\u0442\u0438\u043a\u0443 <a href=http://gepur-shop.ru>\u0438\u0437\u0432\u0435\u0441\u0442\u043d\u044b\u0435 \u0442\u0443\u0440\u0435\u0446\u043a\u0438\u0435 \u043c\u0430\u0440\u043a\u0438 \u043e\u0434\u0435\u0436\u0434\u044b</a>  \u043c\u043e\u0434\u043d\u0438\u0446\u044b \u0438 \u043c\u043e\u0434\u043d\u0438\u043a\u0438 \u0432\u0441\u0435\u0433\u0434\u0430 \u0437\u0430\u0434\u0430\u044e\u0442\u0441\u044f \u0442\u0430\u043a\u0438\u043c \u0432\u043e\u043f\u0440\u043e\u0441\u043e\u043c, \u043f\u0440\u0438 \u043f\u043e\u0438\u0441\u043a\u0435 \u0432 \u0438\u043d\u0442\u0435\u0440\u043d\u0435\u0442\u0435, \u043d\u043e \u044d\u0442\u0438\n",
        "* \u043f\u0440\u0435\u0434\u043b\u0430\u0433\u0430\u0435\u043c \u043d\u0430\u0448\u0438\u043c \u043b\u044e\u0431\u0438\u043c\u044b\u043c \u0438 \u0434\u043e\u0440\u043e\u0433\u0438\u043c \u043a\u043b\u0438\u0435\u043d\u0442\u0430\u043c, \u0442\u0435\u043c\u0430\u0442\u0438\u043a\u0443 <a href=http://gepur-shop.ru>\u043c\u0430\u0433\u0430\u0437\u0438\u043d \u043b\u044e\u0446\u0438\u044f</a>  \u043c\u043e\u0434\u043d\u0438\u0446\u044b \u0438 \u043c\u043e\u0434\u043d\u0438\u043a\u0438 \u0432\u0441\u0435\u0433\u0434\u0430 \u0437\u0430\u0434\u0430\u044e\u0442\u0441\u044f \u0442\u0430\u043a\u0438\u043c \u0432\u043e\u043f\u0440\u043e\u0441\u043e\u043c, \u043f\u0440\u0438 \u043f\u043e\u0438\u0441\u043a\u0435 \u0432 \u0438\u043d\u0442\u0435\u0440\u043d\u0435\u0442\u0435, \u043d\u043e \u044d\u0442\u0438 \u043e\u0442\u0432\u0435\u0442\u044b \u0432\u044b \u043c\u043e\u0436\u0435\u0442\u0435 \n",
        "* nice to be here javatalks.ru owner discovered your website via search engine but it was hard to find and i see you could have more visitors because there are not so many comments yet. i have found web\n",
        "* \u043f\u0440\u0438\u0432\u0435\u0442 \u0432\u0441\u0435\u043c \u0443\u0447\u0430\u0441\u0442\u043d\u0438\u043a\u0430\u043c \u0444\u043e\u0440\u0443\u043c\u0430! \u043a\u0442\u043e-\u043d\u0438\u0431\u0443\u0434\u044c \u0438\u0437 \u0432\u0430\u0441 \u0441\u043c\u043e\u0442\u0440\u0435\u043b \u0441\u0435\u0440\u0438\u0430\u043b \u043e\u0442\u0431\u0440\u043e\u0441\u044b? \u0444\u0438\u043b\u044c\u043c \u0441\u0443\u043f\u0435\u0440! \u0435\u0441\u043b\u0438 \u043a\u0442\u043e \u0441\u043c\u043e\u0442\u0440\u0435\u043b, \u0440\u0430\u0441\u0441\u043a\u0430\u0436\u0438\u0442\u0435 \u0432\u0430\u0448\u0435 \u0432\u043f\u0435\u0447\u0430\u0442\u043b\u0435\u043d\u0438\u0435 \u043e \u043a\u0438\u043d\u043e. \u0430 \u0435\u0441\u043b\u0438 \u0432\u044b \u0438\u0449\u0435\u0442\u0435 \u0438\u043d\u0444\u043e\u0440\u043c\u0430\u0446\u0438\u044e \u043e \u0441\u0435\u0440\u0438\u0430\u043b\u0435 \u043d\u0435\u0443\u0434\u0430\u0447\u043d\u0438\u043a\u0438 \u0442\u043e\u0433\u0434\u0430 \u0432\u0430\u043c \u043d\u0430\n",
        "* \u0432\u043d\u0438\u043c\u0430\u043d\u0438\u0435 \u0445\u0438\u0442! \u0432\u0430\u0441 \u043f\u0440\u0438\u0433\u043b\u0430\u0448\u0430\u0435\u0442 \u0434\u0435\u0442\u0441\u043a\u0438\u0439 \u0438\u043d\u0442\u0435\u0440\u043d\u0435\u0442 \u043c\u0430\u0433\u0430\u0437\u0438\u043d \u00ab[url=http://www.discountbaby63.ru/]\u0434\u0438\u0441\u043a\u043e\u043d\u0442 \u0431\u0435\u0431\u0438[/url]\u00bb!  \u043c\u0438\u043b\u044b\u0435 \u043c\u0430\u043c\u043e\u0447\u043a\u0438 \u0438 \u0431\u0443\u0434\u0443\u0449\u0438\u0435 \u043c\u0430\u043c\u044b! \u0441\u043a\u043e\u0440\u043e \u043e\u0441\u0435\u043d\u044c, \u0430 \u043f\u043e\u0441\u043b\u0435 \u0438 \u0437\u0438\u043c\u0430, \u043c\u044b \u043f\u043e\u0434\u0443\u043c\u0430\u043b\u0438 \u0437\u0430\u0440\u0430\u043d\u0435\u0435 \u043e \u0432\u0430\u0441! \u043e\u0431\n",
        "* \u043f\u0440\u0438\u0432\u0435\u0442\u0441\u0442\u0432\u0443\u044e \u043b\u044e\u0431\u0438\u0442\u0435\u043b\u0438 \u0441\u043f\u043e\u0440\u0442\u0430 \u043e\u0441\u043c\u0435\u043b\u0438\u043b\u0441\u044f \u044f \u0442\u0443\u0442 \u0437\u0430\u043d\u044f\u0442\u044c\u0441\u044f \u0441\u043f\u043e\u0440\u0442\u043e\u043c \u0438 \u043e\u0441\u0442\u0440\u043e \u0432\u0441\u0442\u0430\u043b \u0432\u043e\u043f\u0440\u043e\u0441 \u043e \u043d\u0430\u0441\u0443\u0449\u043d\u043e\u043c, \u044d\u0442\u043e [url=http://sportnos.ru/category/vse-tovaryi/sport-pitanie]\u0434\u0435\u0448\u0435\u0432\u043e\u0435 \u0441\u043f\u043e\u0440\u0442\u0438\u0432\u043d\u043e\u0435 \u043f\u0438\u0442\u0430\u043d\u0438\u0435[/url]  \u043b\u044e\u0434\u044f\u043c \u043d\u0435\u043e\n",
        "* \u0434\u043e\u0431\u0440\u044b\u0439 \u0434\u0435\u043d\u044c \u0447\u0438\u0442\u0430\u0442\u0435\u043b\u0438 \u0440\u0435\u0448\u0438\u043b \u044f \u0442\u0443\u0442 \u0437\u0430\u043d\u044f\u0442\u044c\u0441\u044f \u0441\u043f\u043e\u0440\u0442\u043e\u043c \u0438 \u043e\u0441\u0442\u0440\u043e \u0432\u0441\u0442\u0430\u043b \u0432\u043e\u043f\u0440\u043e\u0441 \u043e \u043d\u0430\u0441\u0443\u0449\u043d\u043e\u043c, \u044d\u0442\u043e [url=http://sportnos.ru/category/vse-tovaryi/sport-pitanie]\u0436\u0438\u0440\u043e\u0441\u0436\u0438\u0433\u0430\u0442\u0435\u043b\u0438[/url]  \u0432\u0441\u0435\u043c \u0430\u043a\u0442\u0438\u0432\u043d\u044b\u043c \u0432 \u043e\u0431\u044f\u0437\u0430\u0442\u0435\u043b\u044c\u043d\u043e\u043c \u043f\u043e\u0440\u044f\n",
        "* wiz  derate s a la carte. cubical  and seamanly  strayer  modify ing her stevedore  shorten ed and dive-bomb ed very eerily. skin-deep  oceanic  roll off ing his caitra  gut ed and bard ed very interm\n"
       ]
      }
     ],
     "prompt_number": 76
    },
    {
     "cell_type": "markdown",
     "metadata": {},
     "source": [
      "But messages with two links certainly look like spam"
     ]
    },
    {
     "cell_type": "code",
     "collapsed": false,
     "input": [
      "data2.urls.hist(bins=200)\n",
      "plt.xlim([0, 50])\n",
      "plt.show()"
     ],
     "language": "python",
     "metadata": {},
     "outputs": [
      {
       "metadata": {},
       "output_type": "display_data",
       "png": "[encoded data removed]",
       "text": [
        "<matplotlib.figure.Figure at 0x11e04f60>"
       ]
      }
     ],
     "prompt_number": 77
    },
    {
     "cell_type": "markdown",
     "metadata": {},
     "source": [
      "Let's look at messages with no links from users who received no incoming messages"
     ]
    },
    {
     "cell_type": "code",
     "collapsed": false,
     "input": [
      "data2[(data2.urls == 0) & (data2.pm_in_count == 0)].body"
     ],
     "language": "python",
     "metadata": {},
     "outputs": [
      {
       "metadata": {},
       "output_type": "pyout",
       "prompt_number": 78,
       "text": [
        "1     \u0437\u0434\u0440\u0430\u0432\u0441\u0442\u0432\u0443\u0439\u0442\u0435,  \u043d\u0435 \u043c\u043e\u0433\u043b\u0438 \u0431\u044b \u043f\u043e\u043c\u043e\u0447\u044c \u0440\u0430\u0437\u043e\u0431\u0440\u0430\u0442\u044c\u0441\u044f?...\n",
        "2     \u0434\u0435\u043d\u044c \u0434\u043e\u0431\u0440\u044b\u0439. \u0441\u043b\u0443\u0447\u0430\u0439\u043d\u043e \u0432\u044b\u043b\u043e\u0432\u0438\u043b\u0430 \u0432\u0430\u0441 \u0432 \u0442\u0435\u043c\u0435 \"\u0434\u0435\u043b...\n",
        "5     \u0437\u0434\u0430\u0440\u043e\u0432\u0430. \u043c\u043d\u0435 \u0442\u0440\u0435\u0431\u0443\u0435\u0442\u0441\u044f \u0432\u044b\u0432\u0435\u0441\u0442\u0438 \u043f\u0435\u0440\u0435\u043c\u0435\u043d\u043d\u044b\u0435 \u043f\u043e \u0437...\n",
        "12    \u0437\u0434\u0440\u0430\u0432\u0441\u0442\u0432\u0443\u0439\u0442\u0435, \u044f \u043d\u0430\u0448\u043b\u0430 \u0432\u0430\u0448 \u0434\u0430\u0432\u043d\u0438\u0448\u043d\u0438\u0439 \u043f\u043e\u0441\u0442 \"\u043a\u0440\u0435\u0441...\n",
        "13    \u043f\u0440\u0438\u0432\u0435\u0442 ! \u0442\u044b \u043c\u043d\u0435 \u043d\u0435 \u043f\u043e\u043c\u043e\u0436\u0435\u0448\u044c \u043d\u0430\u043f\u0438\u0441\u0430\u0442\u044c \u043f\u0440\u043e\u0433\u0443 \u043f\u043e ...\n",
        "14                       you have a time for help me  ?\n",
        "15    \u0437\u0434\u0440\u0430\u0432\u0441\u0442\u0432\u0443\u0439 \u043c\u043e\u0436\u0435\u0442\u0435 \u0434\u0430\u0442\u044c  \u0441\u043e\u0432\u0435\u0442 \u043a\u0430\u043a \u0432\u0437\u043b\u043e\u043c\u0430\u0442\u044c \u043f\u043e\u0447...\n",
        "16    \u0437\u0434\u0440\u0430\u0441\u0442\u0432\u0443\u0439\u0442\u0435, \u043f\u043e\u043c\u043e\u0433\u0438\u0442\u0435 \u0440\u0430\u0437\u043e\u0431\u0440\u0430\u0442\u044c\u0441\u044f \u0441 sql \u0437\u0430\u043f\u0440\u043e\u0441...\n",
        "17    \u0437\u0434\u0440\u0430\u0432\u0441\u0442\u0432\u0443\u0439\u0442\u0435. \u043a\u0443\u0440\u0441\u043e\u0432\u044b\u0435 \u0434\u0435\u043b\u0430\u0435\u0442\u0435 \u043d\u0430 java mysql s...\n",
        "28    \u043f\u0440\u0438\u0432\u0435\u0442, \u0441\u0447\u0435\u0442\u0447\u0438\u043a \u0431\u0438\u043e\u0440\u0438\u0442\u043c\u043e\u0432 \u043f\u043e\u043d\u0440\u0430\u0432\u0438\u043b\u0441\u044f. \u043c\u043e\u0436\u0435\u0448\u044c \u0441...\n",
        "29    \u0434\u043e\u0431\u0440\u044b\u0439 \u0434\u0435\u043d\u044c! \u043a\u0430\u0441\u0430\u0442\u0435\u043b\u044c\u043d\u043e \u0432\u043e\u043f\u0440\u043e\u0441\u043e \u043f\u0440\u043e regex - \u0447\u0442...\n",
        "31    \u0445\u043e\u0442\u0435\u043b \u0443 \u0432\u0430\u0441 \u043f\u043e\u0438\u043d\u0442\u0435\u0440\u0435\u0441\u043e\u0432\u0430\u0442\u044c\u0441\u044f \u0432\u044b \u043d\u0430\u0448\u043b\u0438 \u0440\u0435\u0448\u0435\u043d\u0438\u0435 ...\n",
        "33    \u043f\u0440\u0438\u0432\u0435\u0442, \u043c\u043d\u0435 \u043d\u0443\u0436\u043d\u043e \u0447\u0442\u043e \u0431\u044b \u043a\u0442\u043e \u043d\u0438\u0431\u0443\u0434\u044c \u043c\u043d\u0435 \u0441\u0434\u0435\u043b\u0430\u043b...\n",
        "34    \u043f\u0440\u0438\u0432\u0435\u0442, \u043c\u043d\u0435 \u043d\u0443\u0436\u043d\u043e \u0447\u0442\u043e \u0431\u044b \u043a\u0442\u043e \u043d\u0438\u0431\u0443\u0434\u044c \u043c\u043d\u0435 \u0441\u0434\u0435\u043b\u0430\u043b...\n",
        "35    \u043f\u0440\u0438\u0432\u0435\u0442, \u043c\u043d\u0435 \u043d\u0443\u0436\u043d\u043e \u0447\u0442\u043e \u0431\u044b \u043a\u0442\u043e \u043d\u0438\u0431\u0443\u0434\u044c \u043c\u043d\u0435 \u0441\u0434\u0435\u043b\u0430\u043b...\n",
        "...\n",
        "9973     \u0430\u0440\u0442\u0435\u043c, \u0434\u043e\u0431\u0440\u044b\u0439! \u044d\u0442\u043e \u0434\u0435\u043d\u0438\u0441. \u043c\u044b \u0441 \u0432\u0430\u043c\u0438 \u0440\u0430\u0431\u043e\u0442\u0430\u043b\u0438. ...\n",
        "9986                                                  \u0444\u044b\u0432\u0430\n",
        "9989     \u043f\u043e\u0434\u0441\u043a\u0430\u0436\u0438\u0442\u0435 \u043f\u0440\u043e\u0433\u0440\u0430\u043c\u043c\u0443 \u0434\u043b\u044f \u043a\u043e\u043d\u0444\u0435\u0440\u0435\u043d\u0446\u0438\u0439, \u0434\u0435\u0448\u0435\u0432\u043b\u0435 ...\n",
        "10005    download awesome big boobs galleries absolutel...\n",
        "10010    get awesome big boobs galleries free now # fdz...\n",
        "10017    \u043f\u043e\u0434\u0441\u043a\u0430\u0436\u0438\u0442\u0435, \u043f\u043e\u0436\u0430\u043b\u0443\u0439\u0441\u0442\u0430, \u0437\u0430\u0431\u043b\u043e\u043a\u0438\u0440\u043e\u0432\u0430\u043b\u0438 \u0430\u043a\u043a\u0430\u0443\u043d\u0442 ...\n",
        "10046    download amazing big boobs galleries absolutel...\n",
        "10060    download geatest black boobs movies free today...\n",
        "10073    download awesome black boobs movies absolutely...\n",
        "10076    \u0437\u0434\u0440\u0430\u0432\u0441\u0442\u0432\u0443\u0439\u0442\u0435. \u0433\u043e\u0442\u043e\u0432 \u0432\u0437\u044f\u0442\u044c\u0441\u044f \u0437\u0430 \u0434\u0430\u043d\u043d\u0443\u044e \u0440\u0430\u0431\u043e\u0442\u0443. ...\n",
        "10090    \u043f\u0440\u0438\u0432\u0435\u0442! \u0437\u0430\u043d\u0438\u043c\u0430\u0435\u0442\u0435\u0441\u044c \u043b\u0438 \u0432\u044b \u0440\u0435\u043f\u0435\u0442\u0438\u0442\u043e\u0440\u0441\u0442\u0432\u043e\u043c? \u043d\u0443\u0436\u0435...\n",
        "10104                                        incoterms cif\n",
        "10114    \u043f\u0440\u0438\u0432\u0435\u0442 !  \u0440\u0435\u0448\u0438\u043b \u043f\u043e\u0438\u043d\u0442\u0435\u0440\u0435\u0441\u043e\u0432\u0430\u0442\u044c\u0441\u044f \u043f\u0440\u0435\u0436\u0434\u0435 \u0447\u0435\u043c \u043f\u043e...\n",
        "10129                         \u0440\u043e\u0434\u0438\u043e\u043d, \u043e\u0442\u0432\u0435\u0442\u044c\u0442\u0435 \u043f\u043e\u0436\u0430\u043b\u0443\u0439\u0441\u0442\u0430!\n",
        "10133    \u0437\u0434\u0440\u0430\u0432\u0441\u0442\u0432\u0443\u0439\u0442\u0435, \u0445\u043e\u0442\u0435\u043b\u043e\u0441\u044c \u0431\u044b \u043f\u043e\u0443\u0447\u0430\u0441\u0442\u0432\u043e\u0432\u0430\u0442\u044c \u0432 \u043f\u0440\u043e\u0435...\n",
        "Name: body, Length: 537, dtype: object"
       ]
      }
     ],
     "prompt_number": 78
    },
    {
     "cell_type": "markdown",
     "metadata": {},
     "source": [
      "Some messages look like spam - especially ones with English. Let's try to look at English ones only"
     ]
    },
    {
     "cell_type": "code",
     "collapsed": false,
     "input": [
      "en = set(u'abcdefghijklmnopqrstuvwxyz')\n",
      "ru = set(u'\u0430\u0431\u0432\u0433\u0434\u0435\u0451\u0436\u0437\u0438\u0439\u043a\u043b\u043c\u043d\u043e\u043f\u0440\u0441\u0442\u0443\u0444\u0445\u0446\u0447\u0448\u0449\u044a\u044b\u044c\u044d\u044e\u044f')\n",
      "\n",
      "def rus_letters(text):\n",
      "    if not text:\n",
      "        return 0.0\n",
      "    cnt = Counter(text)\n",
      "    return sum(cnt[letter] for letter in ru) * 1.0 / sum(cnt[letter] for letter in cnt)\n",
      "\n",
      "def en_letters(text):\n",
      "    if not text:\n",
      "        return 0.0\n",
      "    cnt = Counter(text)\n",
      "    return sum(cnt[letter] for letter in en)  * 1.0 / sum(cnt[letter] for letter in cnt)"
     ],
     "language": "python",
     "metadata": {},
     "outputs": [],
     "prompt_number": 79
    },
    {
     "cell_type": "code",
     "collapsed": false,
     "input": [
      "data2['rus_letters'] = data2.body.apply(rus_letters)\n",
      "data2['en_letters'] = data2.body.apply(en_letters)\n",
      "data2['not_russian'] = data2['rus_letters'] == 0.0"
     ],
     "language": "python",
     "metadata": {},
     "outputs": [],
     "prompt_number": 80
    },
    {
     "cell_type": "code",
     "collapsed": false,
     "input": [
      "data2.not_russian.value_counts()"
     ],
     "language": "python",
     "metadata": {},
     "outputs": [
      {
       "metadata": {},
       "output_type": "pyout",
       "prompt_number": 81,
       "text": [
        "False    5812\n",
        "True     4322\n",
        "dtype: int64"
       ]
      }
     ],
     "prompt_number": 81
    },
    {
     "cell_type": "code",
     "collapsed": false,
     "input": [
      "data2.body[data2.not_russian & (data2.urls == 0) & (data2.pm_in_count == 0)]"
     ],
     "language": "python",
     "metadata": {},
     "outputs": [
      {
       "metadata": {},
       "output_type": "pyout",
       "prompt_number": 82,
       "text": [
        "14                          you have a time for help me  ?\n",
        "181      offer sustanon steroid - at a bargain price on...\n",
        "695                       http://javatalks.ru/topics/39672\n",
        "4115                                                 hello\n",
        "4116                                                   123\n",
        "4122                                                   123\n",
        "4420                                                    11\n",
        "4551                                                    qq\n",
        "5695      unamobbwak        gkvyedadyd         hello world\n",
        "5696      lpmrqvzfoz        qqibqjzhbz         hello world\n",
        "5697      dnlqzmvriq        ogcilgwqmp         hello world\n",
        "5698      feqglojsgt        arzndnqgbf         hello world\n",
        "6222     www.linkedin.com/pub/saidbakhram-akhrarov/4a/5...\n",
        "6736                                     skype: aokunevich\n",
        "7194        where he is producing educational  media aimed\n",
        "9499                                                  asfd\n",
        "9676     download awesome black boobs movies absolutely...\n",
        "9677     get awesome black boobs galleries absolutely f...\n",
        "9695     get geatest big boobs movies free now # i11724...\n",
        "9696     download amazing big boobs movies absolutely f...\n",
        "9712     download geatest big boobs galleries absolutel...\n",
        "9713     download geatest big boobs galleries free toda...\n",
        "9720     download geatest black boobs galleries free no...\n",
        "9721     download geatest black boobs galleries free no...\n",
        "9730     videos porno gaby elizalde  delete plz  ygprbx...\n",
        "9731     get geatest big boobs movies free tomorrow # n...\n",
        "9732     download amazing black boobs movies free tomor...\n",
        "9735     get geatest black boobs movies free today # n7...\n",
        "9736     get awesome big boobs galleries absolutely fre...\n",
        "9738     maa aaj se ban gayi meri randi   my blog [url=...\n",
        "9775     hi! i take to appeal to you. where can i buy z...\n",
        "9777     hi! i receive to ask you. where can i buy zyvo...\n",
        "9795     hi, i'm looking for cheap sunglasses chords   ...\n",
        "9802     gizur ya chital vashe obyavlenie v forume, i e...\n",
        "9803     stella ya chital vashe obyavlenie v forume, i ...\n",
        "9804     ilya ya chital vashe obyavlenie v forume, i et...\n",
        "9805     empire ya chital vashe obyavlenie v forume, i ...\n",
        "9806     bzn ya chital vashe obyavlenie v forume, i eto...\n",
        "10005    download awesome big boobs galleries absolutel...\n",
        "10010    get awesome big boobs galleries free now # fdz...\n",
        "10046    download amazing big boobs galleries absolutel...\n",
        "10060    download geatest black boobs movies free today...\n",
        "10073    download awesome black boobs movies absolutely...\n",
        "10104                                        incoterms cif\n",
        "Name: body, dtype: object"
       ]
      }
     ],
     "prompt_number": 82
    },
    {
     "cell_type": "markdown",
     "metadata": {},
     "source": [
      "Also spammers seem to use HTML tags. Let's find messages with HTML"
     ]
    },
    {
     "cell_type": "code",
     "collapsed": false,
     "input": [
      "data2['tags'] = data2.body.str.findall(r'<\\w+?\\s?.+?/?\\s?>').apply(len)"
     ],
     "language": "python",
     "metadata": {},
     "outputs": [],
     "prompt_number": 83
    },
    {
     "cell_type": "code",
     "collapsed": false,
     "input": [
      "for body in data2.body[data2.tags > 0].head(n=10):\n",
      "    print '*', body[:200]"
     ],
     "language": "python",
     "metadata": {},
     "outputs": [
      {
       "output_type": "stream",
       "stream": "stdout",
       "text": [
        "* \u0437\u0434\u0440\u0430\u0441\u0442\u0432\u0443\u0439\u0442\u0435, \u043f\u043e\u043c\u043e\u0433\u0438\u0442\u0435 \u0440\u0430\u0437\u043e\u0431\u0440\u0430\u0442\u044c\u0441\u044f \u0441 sql \u0437\u0430\u043f\u0440\u043e\u0441\u0430\u043c\u0438 \u0432 javascript. \u043a\u0430\u043a \u043f\u043e\u0434\u043a\u043b\u044e\u0447\u0438\u0442\u0441\u044f \u043a \u0431\u0430\u0437\u0435 \u0434\u0430\u043d\u044b\u0445, \u0438 \u0434\u0435\u043b\u0430\u0442\u044c \u0437\u0430\u043f\u0440\u043e\u0441\u0438? \u043c\u043e\u0436\u043d\u0430 \u043b\u0438 \u0438\u043d\u0444\u043e\u0440\u043c\u0430\u0446\u0438\u044e \u0441\u043e\u0445\u0440\u0430\u043d\u0438\u0442\u044c \u0432 json?  [code=js]var connection = new activexobject(\"adod\n",
        "* <a href=http://www.august-ecolog.ru/>\u043e\u0447\u0438\u0441\u0442\u043d\u044b\u0435 \u0441\u043e\u043e\u0440\u0443\u0436\u0435\u043d\u0438\u044f \u0434\u043b\u044f \u0437\u0430\u0433\u043e\u0440\u043e\u0434\u043d\u043e\u0433\u043e \u0434\u043e\u043c\u0430</a>  \u043e\u0447\u0438\u0441\u0442\u043d\u044b\u0435 \u0441\u043e\u043e\u0440\u0443\u0436\u0435\u043d\u0438\u044f. \u043f\u0440\u043e\u0438\u0437\u0432\u043e\u0434\u0441\u0442\u0432\u043e \u043e\u0447\u0438\u0441\u0442\u043d\u044b\u0445 \u0441\u043e\u043e\u0440\u0443\u0436\u0435\u043d\u0438\u0439 \u0442\u043e\u043f\u0430\u0441\n",
        "* <a href=http://vipoc.ru/>\u043f\u0440\u043e\u0434\u0432\u0438\u0436\u0435\u043d\u0438\u0435 web \u0441\u0430\u0439\u0442\u0430 \u043a\u043e\u043c\u043f\u0430\u043d\u0438\u044f</a>  \u043f\u0440\u043e\u0434\u0432\u0438\u0436\u0435\u043d\u0438\u0435 \u0441\u0430\u0439\u0442\u043e\u0432. \u0438\u0437\u0433\u043e\u0442\u043e\u0432\u043b\u0435\u043d\u0438\u0435 \u0438 \u043f\u0440\u043e\u0434\u0432\u0438\u0436\u0435\u043d\u0438\u0435 \u0441\u0430\u0439\u0442\u043e\u0432\n",
        "* vr quest \u2013 \u0442\u0440\u0435\u0445\u043c\u0435\u0440\u043d\u044b\u0439 \u043a\u043e\u043d\u0441\u0442\u0440\u0443\u043a\u0442\u043e\u0440 \u0434\u043b\u044f \u0441\u043e\u0437\u0434\u0430\u043d\u0438\u044f \u0438\u0433\u0440, \u0434\u043e\u0441\u0442\u0430\u0442\u043e\u0447\u043d\u043e \u043f\u0440\u043e\u0441\u0442\u043e\u0439 \u0434\u043b\u044f \u043f\u043e\u043d\u0438\u043c\u0430\u043d\u0438\u044f. \u0435\u0433\u043e \u043c\u043e\u0436\u043d\u043e \u0438\u0441\u043f\u043e\u043b\u044c\u0437\u043e\u0432\u0430\u0442\u044c \u043a\u0430\u043a \u0434\u043b\u044f \u0438\u0433\u0440, \u0442\u0430\u043a \u0438 \u0434\u043b\u044f \u0441\u043e\u0437\u0434\u0430\u043d\u0438\u044f 3d \u0433\u0430\u043b\u0435\u0440\u0435\u0439, \u043f\u0440\u043e\u0435\u043a\u0442\u043e\u0432 \u0434\u043e\u043c\u043e\u0432, \u043f\u0430\u043d\u043e\u0440\u0430\u043c \u0438 \u0442. \u0434.. \u0441\u043d\u0430\u0447\u0430\u043b\u0430 \u043f\u0440\u043e\u0435\u043a\u0442\n",
        "* <a href=http://vipoc.ru/>\u0442\u0440\u0435\u0431\u0443\u0435\u0442\u0441\u044f \u043f\u0440\u043e\u0434\u0432\u0438\u0436\u0435\u043d\u0438\u0435 \u0441\u0430\u0439\u0442\u0430</a>  \u044d\u0444\u0444\u0435\u043a\u0442\u0438\u0432\u043d\u043e\u0435 \u043f\u0440\u043e\u0434\u0432\u0438\u0436\u0435\u043d\u0438\u0435 \u0443\u0441\u043b\u0443\u0433\n",
        "* <a href=http://vipoc.ru/>\u0447\u0435\u0441\u0442\u043d\u043e\u0435 \u043f\u0440\u043e\u0434\u0432\u0438\u0436\u0435\u043d\u0438\u0435 \u0441\u0430\u0439\u0442\u043e\u0432</a>  \u0437\u0430\u044f\u0432\u043a\u0430 \u043d\u0430 \u043f\u0440\u043e\u0434\u0432\u0438\u0436\u0435\u043d\u0438\u0435\n",
        "* <b><font color=#004000>\u043e\u0442\u043b\u0438\u0447\u043d\u044b\u0439 \u0441\u0435\u0440\u0432\u0438\u0441 \u043f\u043e \u043f\u0440\u0438\u0432\u043b\u0435\u0447\u0435\u043d\u0438\u044e \u043b\u044e\u0434\u0435\u0439 \u0432 \u0432\u0430\u0448\u0443 \u0433\u0440\u0443\u043f\u043f\u0443 \u0438\u043b\u0438 \u043f\u0440\u0438\u0432\u043b\u0435\u0447\u0435\u043d\u0438\u0435 \u043f\u043e\u0434\u043f\u0438\u0441\u0447\u0438\u043a\u043e\u0432</font></b>.  \u0441\u043e\u0446\u0438\u0430\u043b\u044c\u043d\u044b\u0435 \u0441\u0435\u0442\u0438 vkontakte, \u043e\u0434\u043d\u043e\u043a\u043b\u0430\u0441\u0441\u043d\u0438\u043a\u0438, \u043c\u043e\u0439 \u043c\u0438\u0440, facebook, \u0442\u0432\u0438\u0442\u0442\u0435\u0440, \u044e\u0442\u0443\u0431, \u0433\u0443\u0433\u043b \u043f\u043b\u044e\u0441\n",
        "* \u0437\u0434\u0440\u0430\u0432\u0441\u0442\u0432\u0443\u0439\u0442\u0435 \u0443\u0447\u0430\u0441\u0442\u043d\u0438\u043a\u0438 javatalks.ru  \u043c\u043e\u0436\u0435\u0442 \u0437\u0430\u043f\u043e\u0441\u0442\u0438\u043b \u043d\u0435 \u0432 \u043f\u0440\u0430\u0432\u0438\u043b\u044c\u043d\u043e\u0439 \u043a\u0430\u0442\u0435\u0433\u043e\u0440\u0438\u0438 \u0438 \u043f\u0438\u0448\u0443 \u043d\u0435 \u0442\u0430\u043c, \u043f\u0440\u043e\u0441\u0442\u0438\u0442\u0435, \u043d\u043e \u044d\u0442\u043e \u0432\u0440\u043e\u0434\u0435 \u0441\u0430\u043c\u0430\u044f \u043f\u043e\u0434\u0445\u043e\u0434\u044f\u0449\u0430\u044f \u0442\u0435\u043c\u0430 - \"http://javatalks.ru/\"  \u043e\u0442\u043a\u0440\u044b\u043b\u0441\u044f <a href=http://sportnos.ru>\n",
        "* <a href=http://snowboardlife.ru/velosipedy/20-prokat-i-prodazha-velosipedov-eto-deystvitelno-to-chto-vam-nuzhno.html>\u043f\u0440\u043e\u043a\u0430\u0442 \u0432\u0435\u043b\u043e\u0441\u0438\u043f\u0435\u0434\u043e\u0432 \u043c\u043e\u0441\u043a\u0432\u0430 \u0441\u043a\u0432\u0435\u0440 \u0433\u043e\u0440\u044c\u043a\u043e\u0433\u043e</a>  \u043f\u0440\u043e\u043a\u0430\u0442 \u0432\u0435\u043b\u043e\u0441\u0438\u043f\u0435\u0434\u043e\u0432. \u0443\u043b\u0443\u0447\u0448\u0435\u043d\u0438\u0435 \u0438 \u043f\u0440\u043e\u043a\u0430\n",
        "* <a href=http://snowboardlife.ru/velosipedy/20-prokat-i-prodazha-velosipedov-eto-deystvitelno-to-chto-vam-nuzhno.html>\u043f\u0440\u043e\u043a\u0430\u0442 \u0432\u0435\u043b\u043e\u0441\u0438\u043f\u0435\u0434\u043e\u0432 \u0432 \u043a\u0443\u0437\u044c\u043c\u0438\u043d\u0441\u043a\u043e\u043c \u043f\u0430\u0440\u043a\u0435</a>  \u0441\u043f\u0438\u0441\u043e\u043a \u0432\u0435\u043b\u043e\u0441\u0438\u043f\u0435\u0434\u043e\u0432. \u043e\u043d\u043b\u0430\u0439\u043d-\u043f\u0440\u043e\u0434\u0430\u0436\u0430 \u0432\u0435\u043b\u043e\n"
       ]
      }
     ],
     "prompt_number": 84
    },
    {
     "cell_type": "markdown",
     "metadata": {},
     "source": [
      "Indeed, it looks like spammers use HTML tags, but not all of these messages look like spam"
     ]
    },
    {
     "cell_type": "markdown",
     "metadata": {},
     "source": [
      "Let's try to figure out manually which are spam and which are not"
     ]
    },
    {
     "cell_type": "markdown",
     "metadata": {},
     "source": [
      "**Good pm messages**\n",
      "\n",
      "* with incoming messages\n",
      "* with no links \n",
      "* only in russian\n",
      "* no HTML tags\n",
      "\n",
      "The rest can be potentially spam"
     ]
    },
    {
     "cell_type": "code",
     "collapsed": false,
     "input": [
      "data2[data2.pm_in_count > 0].pm_in_count.hist(bins=25)"
     ],
     "language": "python",
     "metadata": {},
     "outputs": [
      {
       "metadata": {},
       "output_type": "pyout",
       "prompt_number": 85,
       "text": [
        "<matplotlib.axes._subplots.AxesSubplot at 0x16373128>"
       ]
      },
      {
       "metadata": {},
       "output_type": "display_data",
       "png": "[encoded data removed]",
       "text": [
        "<matplotlib.figure.Figure at 0x11dc99e8>"
       ]
      }
     ],
     "prompt_number": 85
    },
    {
     "cell_type": "code",
     "collapsed": false,
     "input": [
      "for body in data2[(data2.pm_in_count > 0) & (data2.urls > 3)].body:\n",
      "    print '*', body[:200]"
     ],
     "language": "python",
     "metadata": {},
     "outputs": [
      {
       "output_type": "stream",
       "stream": "stdout",
       "text": [
        "* \u0430 \u044f \u043d\u0435 \u043f\u043e\u043d\u0438\u043c\u0430\u044e, \u0441\u043a\u0430\u0437\u0430\u043b\u0430 \u0437\u0438\u043d\u0430 \u043a\u0440\u0443\u0433\u043b\u043e\u0432\u0430, \u043a\u0430\u043a\u0438\u0435 \u044d\u0442\u043e \u043e\u0441\u043e\u0431\u044b\u0435 \u0440\u0430\u0431\u043e\u0447\u0438\u0435, \u043f\u0440\u043e\u043b\u0435\u0442\u0430\u0440\u0441\u043a\u0438\u0435 \u043a\u0430\u0447\u0435\u0441\u0442\u0432\u0430? \u043e\u0431\u0430, \u043f\u043e \u0435\u0433\u043e \u0441\u043b\u043e\u0432\u0430\u043c, \u0440\u0430\u0431\u043e\u0442\u0430\u044e\u0442 \u043d\u0430 \u0442\u043e\u0440\u043b\u043e\u043d\u0438. \u043c\u0430\u043b\u044c\u0447\u0438\u043a\u0438 \u0440\u0430\u0437\u0432\u044f\u0437\u0430\u043b\u0438 \u043b\u0435\u043d\u0442\u043e\u0447\u043a\u0443 \u0438 \u0440\u0430\u0437\u0432\u0435\u0440\u043d\u0443\u043b\u0438 \u0447\u0435\u0440\u0442\u0435\u0436. \u043d\u0443 \u0441\u043f\u0430\u0441\u0438\u0431\u043e, \u043e\u0447\u0435\u043d\u044c \u043c\u0438\u043b\u043e\n",
        "* \u043d\u0430\u0434\u043e, \u0442\u043e\u0436\u0435 \u0443\u043a\u043b\u043e\u043d\u0447\u0438\u0432\u043e \u043e\u0442\u0432\u0435\u0442\u0438\u043b \u0441\u043b\u0430\u0432\u0430. \u0443\u0436 \u0447\u0435\u0433\u043e \u0432\u0441\u0435\u0433\u0434\u0430 \u0432 \u0438\u0437\u0431\u044b\u0442\u043a\u0435 \u043d\u0430 \u0432\u0435\u0440\u0444\u0438, \u0442\u0430\u043a \u044d\u0442\u043e \u0432\u0435\u0440\u0435\u0432\u043e\u043a. \u0447\u0435\u0440\u043d\u043e\u043a\u043e\u0436\u0438\u0435 \u0443\u043f\u043b\u044b\u043b\u0438 \u043a\u0443\u0434\u0430\u0442\u043e \u043f\u043e \u044d\u0442\u043e\u0439 \u0440\u0435\u0447\u043a\u0435.  , \u0437\u043d\u0430\u0447\u0438\u0442, \u043d\u0430\u0440\u043e\u0434 \u0440\u0435\u0448\u0438\u0442\u0435\u043b\u044c\u043d\u043e \u043d\u0430\u0441\u0442\u0443\u043f\u0430\u0435\u0442 \u043d\u0430 \u0434\u0432\u043e\u0440\u0435\u0446? \u044f \u0431\u044b\u043b \u0442\u0435\u043f\u0435\u0440\u044c \u0432\u043d\u0435 \u043e\u043f\u0430\u0441\u043d\u043e\n",
        "* [url=http://fecezat.ndctest.net/?c=populyarnoe&topic=1436][img]http://www.ethnospb.ru/photo/people/81265706c1e42e358e6f.jpg[/img][/url]   \u043d\u0443, \u0437\u043d\u0430\u0447\u0438\u0442, \u0432\u044b \u0441\u043e\u0432\u0441\u0435\u043c \u043d\u0435\u0432\u0435\u0440\u0443\u044e\u0449\u0430\u044f \u043c\u043d\u0435 \u044d\u0442\u043e \u0434\u0430\u0436\u0435 \u0431\u043e\u043b\u044c\u0448\u0435 \u043d\u0440\u0430\u0432\u0438\u0442\u0441\u044f,\n",
        "* [url=http://lypak.besthostingpro.com/novinki igri/kak-otregulirovat-sceplenie-na-alfe.php][img]http://img-fotki.yandex.ru/get/4104/oksanka-terentieva.a/0_44cb2_583ed344_xl[/img][/url]   \u043d\u0443 \u0438 \u0447\u0442\u043e \u0436\u0435? \u044d\n",
        "* \u0432\u044b \u0441\u043b\u044b\u0448\u0430\u043b\u0438 \u0441\u043b\u043e\u0432\u043e \u0432\u043e\u0436\u0434\u044f. \u043d\u0438\u043a\u0442\u043e \u0435\u0449\u0435 \u043d\u0435 \u0437\u0430\u043c\u0435\u0447\u0430\u043b \u044d\u0442\u0438\u0445 \u043f\u0440\u0438\u0437\u043d\u0430\u043a\u043e\u0432. \u0432\u0437\u0434\u043e\u0445 \u043e\u0431\u043b\u0435\u0433\u0447\u0435\u043d\u0438\u044f, \u043a\u043e\u0442\u043e\u0440\u044b\u0439 \u043c\u043e\u0436\u043d\u043e \u0431\u044b\u043b\u043e \u0431\u044b \u043f\u0440\u0438\u043d\u044f\u0442\u044c \u0437\u0430 \u0432\u0437\u0434\u043e\u0445 \u0431\u0438\u0437\u043e\u043d\u0430, \u0432\u044b\u0440\u0432\u0430\u043b\u0441\u044f \u0438\u0437 \u0433\u0440\u0443\u0434\u0438 \u043a\u043b\u0430\u0430\u0441\u0430. \u0430\u043d\u0434\u0436\u0435\u043b\u0430 \u0431\u0435\u0437\u0443\u0447\u0430\u0441\u0442\u043d\u043e \u0441\u043c\u043e\u0442\u0440\u0435\u043b\u0430 \u0432 \u043e\u043a\u043d\u043e. \u043c\u043d\u043e\u0433\u043e \u043c\u0435\u0440\u0442\u0432\u0435\n",
        "* [url=http://woneze.aspie.se/?c=fantastika&topic=94][img]http://i073.radikal.ru/1209/d8/5ae032f57362.jpg[/img][/url]   \u043e\u0442 \u0431\u044e\u0440\u0435\u043d\u0430 \u0434\u043e \u043f\u0430\u0434\u0435\u0440\u0431\u043e\u0440\u043d\u0430 \u043c\u0435\u0441\u0442\u043d\u043e\u0441\u0442\u044c \u043f\u0440\u043e\u0447\u0435\u0441\u044b\u0432\u0430\u043b\u0438 \u043f\u0430\u0442\u0440\u0443\u043b\u0438 \u0438 \u043f\u043e\u0438\u0441\u043a\u043e\u0432\u044b\u0435 \u0433\u0440\u0443\u043f\u043f\u044b. \u0435\u0441\u043b\u0438 \u043a\u043e\u043d\n",
        "* \u0441\u0430\u043c\u043e\u0435 \u0431\u043e\u043b\u044c\u0448\u0435\u0435 \u0437\u0430 \u0441\u0435\u043c\u044c\u0432\u043e\u0441\u0435\u043c\u044c \u043b\u044c\u0435. \u0432 \u043a\u0430\u0447\u0435\u0441\u0442\u0432\u0435 \u0438\u043d\u0436\u0435\u043d\u0435\u0440\u0430 \u0431\u0435\u043b\u044c\u0438\u043b\u044f, \u0447\u0435\u0440\u0442 \u0432\u043e\u0437\u044c\u043c\u0438? \u0434\u0430\u0430\u0440\u0442\u0430\u043d\u044c\u044f\u043d \u0443\u0432\u0438\u0434\u0435\u043b \u0434\u0432\u0435\u0440\u044c \u0438 \u043d\u0430\u0436\u0430\u043b \u043d\u0430 \u0440\u0443\u0447\u043a\u0443. \u043d\u0435 \u043f\u0440\u043e\u0448\u043b\u043e \u0431 \u0438 \u043d\u0435\u0434\u0435\u043b\u0438, \u043a\u0430\u043a \u0433\u043e\u043b\u043e\u0432\u044b \u0432\u0441\u0435\u0445 \u044d\u0442\u0438\u0445 \u0442\u0435\u0443\u043b\u0435\u0439 \u0438\u0437 \u0447\u043e\u043b\u0443\u043b\u0443 \u0443\u0436\u0435 \u0443\u043a\u0440\u0430\u0448\u0430\u043b\u0438 \u0431\u044b \u043a\u0430\u0440\u043d\u0438\u0437\u044b\n",
        "* \u043d\u0430\u043f\u0440\u043e\u0442\u0438\u0432, \u044f \u0433\u043e\u0432\u043e\u0440\u044e \u0442\u0430\u043a, \u043f\u043e\u0442\u043e\u043c\u0443 \u0447\u0442\u043e \u0437\u043d\u0430\u044e \u0435\u0435. \u0442\u044b \u0432\u0435\u0434\u044c \u0447\u0435\u043b\u043e\u0432\u0435\u043a \u0441 \u0432\u043e\u043e\u0431\u0440\u0430\u0436\u0435\u043d\u0438\u0435\u043c. \u043b\u043e\u0431\u0438\u043a \u0443\u0441\u0442\u0430\u043b\u043e \u0437\u0430\u043a\u0440\u044b\u043b \u0433\u043b\u0430\u0437\u0430.  , \u043f\u043e\u0439\u0434\u0435\u043c, \u043f\u043e\u0433\u043e\u0432\u043e\u0440\u0438\u043c \u0441 \u0432\u043e\u0436\u0434\u0435\u043c. \u0434\u0440\u0443\u0433\u043e\u0439 \u043f\u0438\u0440\u0430\u0442 \u0432\u043d\u0435\u0437\u0430\u043f\u043d\u043e \u043f\u043e\u0432\u0435\u0440\u043d\u0443\u043b \u043a \u0432\u0435\u0442\u0440\u0443 \u0438 \u043c\u0435\u0434\u043b\u0435\u043d\u043d\u043e \u0434\u0440\u0435\u0439\u0444\u043e\u0432\u0430\u043b, \u043f\u043e\u0434\u0436\u0438\n",
        "* \u0432\u043e\u0441\u043a\u043b\u0438\u0446\u0430\u043b \u043f\u0430\u0433\u0430\u043d\u0435\u043b\u044c, \u0432\u044b\u0440\u044b\u0432\u0430\u044f \u043d\u0430 \u0441\u0435\u0431\u0435 \u0432\u043e\u043b\u043e\u0441\u044b. \u0442\u043e\u043b\u044c\u043a\u043e \u0432 \u043d\u0430\u0441\u0442\u043e\u044f\u0449\u0443\u044e \u043c\u0438\u043d\u0443\u0442\u0443 \u0443 \u043d\u0435\u0433\u043e \u0441\u0435\u043a\u0440\u0435\u0442\u043d\u0430\u044f \u0431\u0435\u0441\u0435\u0434\u0430 \u0441 \u043d\u0435\u043a\u0438\u043c \u0433\u043e\u0441\u043f\u043e\u0434\u0438\u043d\u043e\u043c \u0434\u0435 \u0431\u0440\u044e\u0438. \u0438\u0437\u0432\u0438\u043d\u0438\u0442\u0435 \u0432\u0435\u043b\u0438\u043a\u043e\u0434\u0443\u0448\u043d\u043e, \u0432\u0430\u0448\u0430 \u043c\u0438\u043b\u043e\u0441\u0442\u044c, \u043d\u0435 \u043f\u0440\u0438\u043f\u043e\u043c\u0438\u043d\u0430\u044e.  , \u0440\u0430\u0437\u0432\u0435 \u0442\u0430\u043a \u043d\u0430\u0441\u0442\u043e\u044f\u0449\u0438\u0435 \u043c\u043e\u0440\u044f\n",
        "* [url=http://sukyw.ed3i.com/616/][img]http://cs10770.vkontakte.ru/u78305136/-14/x_a2d9922f.jpg[/img][/url]   \u044d\u0442\u043e\u0442 \u0441\u0430\u043c\u044b\u0439 \u0441\u0432\u044f\u0449\u0435\u043d\u043d\u0438\u043a \u0431\u044b\u043b \u0441\u0435\u0439\u0447\u0430\u0441 \u043f\u0435\u0440\u0435\u0434\u043e \u043c\u043d\u043e\u0439! \u043d\u0435\u0442, \u0441\u044d\u043b \u0443\u043c\u0435\u0440\u043b\u0430, \u043d\u0435 \u0440\u043e\u0434\u0438\u0432 \u043c\u043d\u0435 \u043d\u0438 \u043e\u0434\u043d\u043e\u0433\u043e. \u0437\u0430 \u0434\u0435\u0441\n",
        "* \u043a\u0430\u043a \u0438 \u043d\u0430 \u0434\u043e\u043b\u0433\u043e\u0432\u0443\u044e \u0440\u0430\u0441\u043f\u0438\u0441\u043a\u0443, \u0438\u0437\u0440\u0435\u043a \u0431\u0435\u0442\u0442\u043b\u0437. \u0442\u043e \u0436\u0435 \u0438\u0441\u043f\u044b\u0442\u0430\u043b\u0430 \u0438 \u0434\u0436\u0435\u043d\u0435\u0432\u044c\u0435\u0432\u0430. \u0430, \u043a\u0441\u0442\u0430\u0442\u0438, \u043d\u0435 \u043f\u043e\u0441\u0432\u044f\u0442\u044f\u0442 \u043b\u0438 \u043c\u0435\u043d\u044f \u043f\u043e\u0447\u0442\u0435\u043d\u043d\u044b\u0435 \u0434\u0430\u043c\u044b \u0432 \u043f\u043e\u0434\u0440\u043e\u0431\u043d\u043e\u0441\u0442\u0438 \u044d\u0442\u043e\u0433\u043e \u0441\u043f\u043e\u0441\u043e\u0431\u0430? \u043a\u0430\u0437\u0430\u043b\u043e\u0441\u044c \u0431\u044b, \u0443\u0434\u043e\u0431\u043d\u044b\u0439 \u0441\u043b\u0443\u0447\u0430\u0439 \u043d\u0430\u0441\u0442\u0430\u043b, \u043d\u043e \u043c\u0430\u0443\u043a\u0438 \u043f\u043e\u0447\u0435\u043c\u0443\u0442\u043e \n",
        "* [url=http://zoqekif.1eko.com/?c=fantastika&topic=gdz-geometriya-9kl-atanasyan-n1012][img]http://cs5088.vkontakte.ru/u6076450/-5/x_2bb36737.jpg[/img][/url]   \u0432\u044b \u043f\u043e\u0440\u0438\u0446\u0430\u0435\u0442\u0435 \u043c\u0435\u043d\u044f, \u0430 \u044f \u0432\u0430\u0441 \u043d\u0435 \u043f\u043e\u0440\u0438\u0446\u0430\u044e, \u0445\u043e\u0442\u044f\n",
        "* [url=http://xaqoz.hst.im/?c=anime&topic=406][img]http://img-fotki.yandex.ru/get/4512/blumens.a2/0_91dc9_29398979_xl[/img][/url]   \u0441 \u043a\u0430\u043a\u0438\u043c \u0443\u0441\u043b\u043e\u0432\u0438\u0435\u043c \u043e\u043d \u0432\u0440\u0443\u0447\u0438\u043b \u0432\u0430\u043c \u044d\u0442\u043e \u043f\u0440\u0438\u0437\u043d\u0430\u043d\u0438\u0435? \u0442\u043e\u043b\u044c\u043a\u043e \u044d\u0442\u043e \u044f \u043f\u043e\u043b\u0443\u0447\u0438\u043b\u0430 \u043e\u0442\n",
        "* [url=http://nodaz.hubwe.net/?c=anime&topic=425][img]http://www.kodges.ru/uploads/posts/4f56dfe8ecdf0.jpg[/img][/url]   \u0436\u0438\u043b\u044c\u0431\u0435\u0440 \u043e\u043a\u043e\u043d\u0447\u0430\u0442\u0435\u043b\u044c\u043d\u043e \u043f\u043e\u0432\u0435\u0440\u0438\u043b, \u0447\u0442\u043e \u043d\u0435\u0431\u043e \u0435\u043c\u0443 \u043f\u043e\u043a\u0440\u043e\u0432\u0438\u0442\u0435\u043b\u044c\u0441\u0442\u0432\u0443\u0435\u0442. \u0437\u0430\u0442\u0435\u043c \u043c\u044b \u043f\u043e\u0433\u0430\u0441\u0438\u043b\u0438 \u043b\n",
        "* \u043f\u043e\u0437\u043e\u0432\u0438\u0442\u0435 \u043c\u043d\u0435 \u0433\u0440\u0430\u0444\u0430 \u0434\u0435 \u043b\u0430 \u0444\u0435\u0440, \u0441\u043a\u0430\u0437\u0430\u043b\u0430 \u043a\u043e\u0430\u0434\u044a\u044e\u0442\u043e\u0440\u0443 \u0433\u0435\u0440\u0446\u043e\u0433\u0438\u043d\u044f \u0434\u0435 \u0448\u0435\u0432\u0440\u0435\u0437. \u0432 \u0442\u0435\u0447\u0435\u043d\u0438\u0435 \u043f\u044f\u0442\u044c\u0434\u0435\u0441\u044f\u0442 \u043f\u0435\u0440\u0432\u043e\u0433\u043e \u0433\u043e\u0434\u0430 \u0435\u0435 \u0441\u0435\u043c\u044c\u044f \u043f\u043e\u043b\u0443\u0447\u0430\u043b\u0430 \u043f\u0435\u043d\u0441\u0438\u044e \u0432 \u043f\u044f\u0442\u044c\u0434\u0435\u0441\u044f\u0442 \u0442\u044b\u0441\u044f\u0447 \u043b\u0438\u0432\u0440\u043e\u0432. \u0434\u043e\u0440\u043e\u0433\u0438 \u043f\u043b\u043e\u0445\u043e\u0439, \u0441\u043e\u0433\u043b\u0430\u0441\u0438\u043b\u0441\u044f \u043e\u043d.  , \u0431\u0430\u0448\u0438\u0440 \u0440\u0435\u0437\u043a\u043e \u0437\n",
        "* [url=http://hasewap.ndctest.net/2014-6-19-1/94.php][img]http://www.digimedia.ru/userfiles/image/materials/2008/08/suprise/mouse_mousepad.jpg[/img][/url]   \u0436\u0430\u043b\u043a\u043e, \u0441\u043a\u0430\u0437\u0430\u043b \u0441\u0430\u0448\u0430, \u0432\u044b\u0441\u043b\u0443\u0448\u0430\u0432 \u0437\u043e\u043e\u043b\u043e\u0433\u0430. \u043a\u043e\u0433\u043e \u043e\u043d\n",
        "* [url=http://nolifu.8u8.me/video/shablon-dlya-prezentacii-sport.php][img]http://attachments-blog.tut.by/237/files/2008/10/4_1.png[/img][/url]   \u0438 \u0435\u0449\u0435 \u043e\u0434\u0438\u043d\u043e\u043a\u0430\u044f \u0433\u043e\u0440\u0443\u0448\u043a\u0430, \u043f\u043e\u0445\u043e\u0436\u0430\u044f \u043d\u0430 \u043e\u0441\u0442\u0440\u043e\u0432\u0435\u0440\u0445\u0438\u0439 \u0448\u0430\u0442\u0435\u0440, \u043f\u043e\u043f\n",
        "* [url=http://tegik.wink.ws/?c=2014-5-30-3&topic=754][img]http://media.getgreatcostumes.com/product_images/12-groovy-hippie-60s-70s-costume-trick-or-treat-tattoos-ritatrep__1.jpg[/img][/url]   \u043d\u043e \u0430\u0447\u0443\u043d \u0438\n",
        "* [url=http://sufuhor.wwco.co/?c=muzika&topic=842][img]http://pics.lj.ivanovo.ru/disk2/uploads16/gbdr2hrefyio64xahnzm/02.jpeg[/img][/url]   \u0447\u0442\u043e\u0431\u044b \u0438 \u044f, \u0438 \u043e\u043a\u0440\u0443\u0436\u0430\u044e\u0449\u0438\u0435 \u043d\u0435 \u043f\u043e\u0434\u0443\u043c\u0430\u043b\u0438, \u0447\u0442\u043e \u043e\u043d \u0445\u043e\u0447\u0435\u0442 \u0436\u0435\u043d\u0438\u0442\u044c\u0441\u044f \u043d\u0430 \n",
        "* \u043e\u043d \u0441 \u0441\u043e\u0436\u0430\u043b\u0435\u043d\u0438\u0435\u043c \u043f\u043e\u0441\u043c\u043e\u0442\u0440\u0435\u043b \u043d\u0430 \u0433\u0435\u043d\u043a\u0443, \u043d\u0435\u0442 \u0443 \u043d\u0430\u0441 \u043f\u043e\u0434\u0445\u043e\u0434\u044f\u0449\u0438\u0445. \u0442\u044b \u043c\u043e\u0433 \u0431\u044b \u043d\u0430\u0439\u0442\u0438 \u0435\u0433\u043e, \u043f\u043e\u0433\u043e\u0432\u043e\u0440\u0438\u0442\u044c. \u043e\u043d \u0441\u043c\u043e\u0442\u0440\u0435\u043b \u0432 \u043d\u0430\u043f\u0440\u044f\u0436\u0435\u043d\u043d\u044b\u0435 \u043e\u0442 \u043b\u044e\u0431\u043e\u043f\u044b\u0442\u0441\u0442\u0432\u0430 \u043b\u0438\u0446\u0430 \u0440\u0435\u0431\u044f\u0442. \u044d\u0442\u0438 \u0441\u0442\u0440\u043e\u043a\u0438 \u044f \u043f\u0438\u0448\u0443 \u0432 \u0433\u043e\u043d\u043e\u043b\u0443\u043b\u0443, \u043d\u0430 \u0433\u0430\u0432\u0430\u0439\u044f\u0445.  , \u043e\u0441\u0442\u0430\u043b\u044c\u043d\u044b\u0435 \u0441\u0434\n",
        "* \u0432\u0441\u044f \u0441\u0443\u0434\u044c\u0431\u0430 \u044d\u0442\u043e\u0439 \u0432\u0435\u043d\u0446\u0435\u043d\u043e\u0441\u043d\u043e\u0439 \u0441\u0442\u0440\u0430\u0434\u0430\u043b\u0438\u0446\u044b \u043e\u0442\u0440\u0430\u0437\u0438\u043b\u0430\u0441\u044c \u0432 \u0435\u0435 \u0434\u0443\u0448\u0435\u0432\u043d\u043e\u043c \u0441\u043c\u044f\u0442\u0435\u043d\u0438\u0438 \u0442\u043e\u0439 \u043d\u043e\u0447\u044c\u044e. \u043d\u043e \u043f\u0440\u0435\u0436\u0434\u0435 \u044f \u0434\u043e\u043b\u0436\u0435\u043d \u043f\u0440\u0435\u0434\u0443\u043f\u0440\u0435\u0434\u0438\u0442\u044c \u0432\u0430\u0448\u0435 \u0432\u0435\u043b\u0438\u0447\u0435\u0441\u0442\u0432\u043e \u043e\u0431 \u043e\u0434\u043d\u043e\u0439 \u0432\u0435\u0449\u0438. \u043e\u043d \u0440\u0430\u0437\u0433\u043b\u044f\u0434\u044b\u0432\u0430\u043b \u0441\u043b\u0435\u0434\u044b \u044d\u0442\u043e\u0433\u043e \u0447\u0435\u043b\u043e\u0432\u0435\u043a\u0430 \u0441 \u0442\u0435\u043c \u0445\u043e\u043b\u043e\u0434\u043d\u044b\u043c \u0432\u043d\n",
        "* [url=http://sufuhor.wwco.co/?c=kino&topic=kak-poluchit-konami-one-time-passor][img]http://amywitting.files.wordpress.com/2009/12/mouse-helmet-trap.jpg[/img][/url]   \u0445\u043e\u0431\u0430 \u0442\u043e\u043b\u044c\u043a\u043e \u0438 \u0436\u0434\u0430\u043b \u044d\u0442\u043e\u0433\u043e \u0433\u043e\u043b\u043e\u0441\u0430. \u0434\u043e\n",
        "* \u043c\u0435\u043d\u044f \u0437\u043e\u0432\u0443\u0442 \u043d\u0438\u043a\u0438\u0442\u0430 \u043a\u043e\u0440\u043d\u044e\u0448\u043a\u043e, \u043c\u043e\u0439 \u043f\u043e\u0447\u0442\u043e\u0432\u044b\u0439 \u044f\u0449\u0438\u043a: pr@flops.ru \u044f \u043f\u0440\u0435\u0434\u0441\u0442\u0430\u0432\u043b\u044f\u044e \u043e\u0431\u043b\u0430\u0447\u043d\u044b\u0439 \u0445\u043e\u0441\u0442\u0438\u043d\u0433 flops.ru (http://flops.ru/).  \u043c\u044b \u0437\u0430\u043d\u0438\u043c\u0430\u0435\u043c\u0441\u044f \u0440\u0430\u0437\u0440\u0430\u0431\u043e\u0442\u043a\u043e\u0439 \u043c\u0430\u0441\u0441\u043e\u0432\u043e\u0433\u043e vds \u0445\u043e\u0441\u0442\u0438\u043d\u0433\u0430 \u0432 \u043e\u0431\u043b\u0430\u043a\u0435 \u0441 \u0440\u044f\u0434\u043e\u043c \u0440\u0430\u0437\u043b\u0438\u0447\u043d\u044b\u0445 \u043f\u0435\u0440\u0435\n",
        "* \u0434\u043e\u0431\u0440\u044b\u0439 \u0434\u0435\u043d\u044c. \u043c\u0435\u043d\u044f \u0437\u043e\u0432\u0443\u0442 \u043d\u0438\u043a\u0438\u0442\u0430 \u043a\u043e\u0440\u043d\u044e\u0448\u043a\u043e, \u043c\u043e\u0439 \u043f\u043e\u0447\u0442\u043e\u0432\u044b\u0439 \u044f\u0449\u0438\u043a: pr@flops.ru \u044f \u043f\u0440\u0435\u0434\u0441\u0442\u0430\u0432\u043b\u044f\u044e \u043e\u0431\u043b\u0430\u0447\u043d\u044b\u0439 \u0445\u043e\u0441\u0442\u0438\u043d\u0433 flops.ru (http://flops.ru/).  \u043c\u044b \u0437\u0430\u043d\u0438\u043c\u0430\u0435\u043c\u0441\u044f \u0440\u0430\u0437\u0440\u0430\u0431\u043e\u0442\u043a\u043e\u0439 \u043c\u0430\u0441\u0441\u043e\u0432\u043e\u0433\u043e vds \u0445\u043e\u0441\u0442\u0438\u043d\u0433\u0430 \u0432 \u043e\u0431\u043b\u0430\u043a\u0435 \u0441 \u0440\u044f\u0434\u043e\u043c \u0440\n"
       ]
      }
     ],
     "prompt_number": 86
    },
    {
     "cell_type": "markdown",
     "metadata": {},
     "source": [
      "Even when there are some input messages, the number of links is a good indicator that it's spam. So we can mark as spam all these messages."
     ]
    },
    {
     "cell_type": "code",
     "collapsed": false,
     "input": [
      "data2.ix[(data2.pm_in_count > 0) & (data2.urls > 3), 'spam'] = 'Y'"
     ],
     "language": "python",
     "metadata": {},
     "outputs": [],
     "prompt_number": 87
    },
    {
     "cell_type": "markdown",
     "metadata": {},
     "source": [
      "But when there are no links, not tags, russian is used it's unlikely spam"
     ]
    },
    {
     "cell_type": "code",
     "collapsed": false,
     "input": [
      "not_spam = (data2.tags == 0) & (data2.urls == 0) & (~data2.not_russian) & (data2.pm_in_count == 0)\n",
      "print data2.body[not_spam].count()\n",
      "data2.body[not_spam].head()"
     ],
     "language": "python",
     "metadata": {},
     "outputs": [
      {
       "output_type": "stream",
       "stream": "stdout",
       "text": [
        "487\n"
       ]
      },
      {
       "metadata": {},
       "output_type": "pyout",
       "prompt_number": 88,
       "text": [
        "1     \u0437\u0434\u0440\u0430\u0432\u0441\u0442\u0432\u0443\u0439\u0442\u0435,  \u043d\u0435 \u043c\u043e\u0433\u043b\u0438 \u0431\u044b \u043f\u043e\u043c\u043e\u0447\u044c \u0440\u0430\u0437\u043e\u0431\u0440\u0430\u0442\u044c\u0441\u044f?...\n",
        "2     \u0434\u0435\u043d\u044c \u0434\u043e\u0431\u0440\u044b\u0439. \u0441\u043b\u0443\u0447\u0430\u0439\u043d\u043e \u0432\u044b\u043b\u043e\u0432\u0438\u043b\u0430 \u0432\u0430\u0441 \u0432 \u0442\u0435\u043c\u0435 \"\u0434\u0435\u043b...\n",
        "5     \u0437\u0434\u0430\u0440\u043e\u0432\u0430. \u043c\u043d\u0435 \u0442\u0440\u0435\u0431\u0443\u0435\u0442\u0441\u044f \u0432\u044b\u0432\u0435\u0441\u0442\u0438 \u043f\u0435\u0440\u0435\u043c\u0435\u043d\u043d\u044b\u0435 \u043f\u043e \u0437...\n",
        "12    \u0437\u0434\u0440\u0430\u0432\u0441\u0442\u0432\u0443\u0439\u0442\u0435, \u044f \u043d\u0430\u0448\u043b\u0430 \u0432\u0430\u0448 \u0434\u0430\u0432\u043d\u0438\u0448\u043d\u0438\u0439 \u043f\u043e\u0441\u0442 \"\u043a\u0440\u0435\u0441...\n",
        "13    \u043f\u0440\u0438\u0432\u0435\u0442 ! \u0442\u044b \u043c\u043d\u0435 \u043d\u0435 \u043f\u043e\u043c\u043e\u0436\u0435\u0448\u044c \u043d\u0430\u043f\u0438\u0441\u0430\u0442\u044c \u043f\u0440\u043e\u0433\u0443 \u043f\u043e ...\n",
        "Name: body, dtype: object"
       ]
      }
     ],
     "prompt_number": 88
    },
    {
     "cell_type": "code",
     "collapsed": false,
     "input": [
      "data2.ix[not_spam, 'spam'] = 'N'"
     ],
     "language": "python",
     "metadata": {},
     "outputs": [],
     "prompt_number": 89
    },
    {
     "cell_type": "markdown",
     "metadata": {},
     "source": [
      "10 Links or more is certainly spam"
     ]
    },
    {
     "cell_type": "code",
     "collapsed": false,
     "input": [
      "print data2.body[data2.urls >= 10].count()\n",
      "data2.ix[data2.urls >= 1, 'spam'] = 'Y'"
     ],
     "language": "python",
     "metadata": {},
     "outputs": [
      {
       "output_type": "stream",
       "stream": "stdout",
       "text": [
        "6200\n"
       ]
      }
     ],
     "prompt_number": 90
    },
    {
     "cell_type": "code",
     "collapsed": false,
     "input": [
      "data2.spam.value_counts()"
     ],
     "language": "python",
     "metadata": {},
     "outputs": [
      {
       "metadata": {},
       "output_type": "pyout",
       "prompt_number": 91,
       "text": [
        "Y    9211\n",
        "N     487\n",
        "?     436\n",
        "dtype: int64"
       ]
      }
     ],
     "prompt_number": 91
    },
    {
     "cell_type": "code",
     "collapsed": false,
     "input": [
      "data2[data2.spam == '?'][['username', 'post_count', 'pm_in_count', 'time_from_last_pm', 'tags', 'body']].head()"
     ],
     "language": "python",
     "metadata": {},
     "outputs": [
      {
       "html": [
        "<div style=\"max-height:1000px;max-width:1500px;overflow:auto;\">\n",
        "<table border=\"1\" class=\"dataframe\">\n",
        "  <thead>\n",
        "    <tr style=\"text-align: right;\">\n",
        "      <th></th>\n",
        "      <th>username</th>\n",
        "      <th>post_count</th>\n",
        "      <th>pm_in_count</th>\n",
        "      <th>time_from_last_pm</th>\n",
        "      <th>tags</th>\n",
        "      <th>body</th>\n",
        "    </tr>\n",
        "  </thead>\n",
        "  <tbody>\n",
        "    <tr>\n",
        "      <th>0</th>\n",
        "      <td>  Igrikis</td>\n",
        "      <td> 1</td>\n",
        "      <td> 1</td>\n",
        "      <td>     NaT</td>\n",
        "      <td> 0</td>\n",
        "      <td>                                 \u0441\u043a\u0430\u0439\u043f igrikis1989</td>\n",
        "    </tr>\n",
        "    <tr>\n",
        "      <th>4</th>\n",
        "      <td> klicucha</td>\n",
        "      <td> 0</td>\n",
        "      <td> 2</td>\n",
        "      <td>02:17:12</td>\n",
        "      <td> 0</td>\n",
        "      <td> [quote=\"beowulf13th\"] \u0437\u0430\u043f\u043e\u043b\u043d\u0435\u043d\u043d\u044b\u0439 \u0431\u043b\u0430\u043d\u043a \u043c\u043e\u0436\u043d\u043e ...</td>\n",
        "    </tr>\n",
        "    <tr>\n",
        "      <th>6</th>\n",
        "      <td> klicucha</td>\n",
        "      <td> 0</td>\n",
        "      <td> 3</td>\n",
        "      <td>01:12:10</td>\n",
        "      <td> 0</td>\n",
        "      <td> \u0442\u0430\u043a\u0441. \u0447\u0443\u0432\u0441\u0442\u0432\u0443\u044e \u0441\u0435\u0431\u044f \u0443\u0436\u0435 \u0431\u043b\u043e\u043d\u0434\u0438\u043d\u043a\u043e\u0439 \u0438\u0437 \u043a\u043e\u043c\u0438\u043a\u0441\u043e\u0432...</td>\n",
        "    </tr>\n",
        "    <tr>\n",
        "      <th>7</th>\n",
        "      <td> klicucha</td>\n",
        "      <td> 0</td>\n",
        "      <td> 4</td>\n",
        "      <td>21:30:29</td>\n",
        "      <td> 0</td>\n",
        "      <td> [quote=\"beowulf13th\"] \u0435\u0441\u043b\u0438 \u044d\u0442\u043e \u0431\u0443\u0434\u0435\u0442 pdf - \u0442\u043e ...</td>\n",
        "    </tr>\n",
        "    <tr>\n",
        "      <th>8</th>\n",
        "      <td> klicucha</td>\n",
        "      <td> 0</td>\n",
        "      <td> 5</td>\n",
        "      <td>00:45:24</td>\n",
        "      <td> 0</td>\n",
        "      <td> \u043e\u043a\u0435\u0439.  \u0442\u043e\u0433\u0434\u0430 \u043e\u0442\u043d\u043e\u0441\u0438\u0442\u0435\u043b\u044c\u043d\u043e \u0431\u043b\u0430\u043d\u043a\u0430 \u043c\u043d\u0435 \u043d\u0443\u0436\u043d\u043e \u0431\u0443\u0434...</td>\n",
        "    </tr>\n",
        "  </tbody>\n",
        "</table>\n",
        "</div>"
       ],
       "metadata": {},
       "output_type": "pyout",
       "prompt_number": 92,
       "text": [
        "   username  post_count  pm_in_count  time_from_last_pm  tags  \\\n",
        "0   Igrikis           1            1                NaT     0   \n",
        "4  klicucha           0            2           02:17:12     0   \n",
        "6  klicucha           0            3           01:12:10     0   \n",
        "7  klicucha           0            4           21:30:29     0   \n",
        "8  klicucha           0            5           00:45:24     0   \n",
        "\n",
        "                                                body  \n",
        "0                                  \u0441\u043a\u0430\u0439\u043f igrikis1989  \n",
        "4  [quote=\"beowulf13th\"] \u0437\u0430\u043f\u043e\u043b\u043d\u0435\u043d\u043d\u044b\u0439 \u0431\u043b\u0430\u043d\u043a \u043c\u043e\u0436\u043d\u043e ...  \n",
        "6  \u0442\u0430\u043a\u0441. \u0447\u0443\u0432\u0441\u0442\u0432\u0443\u044e \u0441\u0435\u0431\u044f \u0443\u0436\u0435 \u0431\u043b\u043e\u043d\u0434\u0438\u043d\u043a\u043e\u0439 \u0438\u0437 \u043a\u043e\u043c\u0438\u043a\u0441\u043e\u0432...  \n",
        "7  [quote=\"beowulf13th\"] \u0435\u0441\u043b\u0438 \u044d\u0442\u043e \u0431\u0443\u0434\u0435\u0442 pdf - \u0442\u043e ...  \n",
        "8  \u043e\u043a\u0435\u0439.  \u0442\u043e\u0433\u0434\u0430 \u043e\u0442\u043d\u043e\u0441\u0438\u0442\u0435\u043b\u044c\u043d\u043e \u0431\u043b\u0430\u043d\u043a\u0430 \u043c\u043d\u0435 \u043d\u0443\u0436\u043d\u043e \u0431\u0443\u0434...  "
       ]
      }
     ],
     "prompt_number": 92
    },
    {
     "cell_type": "code",
     "collapsed": false,
     "input": [
      "_2mins = pd.to_timedelta('00:02:00')\n",
      "cols = ['username', 'post_count', 'pm_in_count', 'time_from_last_pm', 'tags', 'body']\n",
      "print data2[(data2.spam == '?') & (data2.time_from_last_pm < _2mins)].id.count()\n",
      "data2[(data2.spam == '?') & (data2.time_from_last_pm < _2mins)][cols].head()"
     ],
     "language": "python",
     "metadata": {},
     "outputs": [
      {
       "output_type": "stream",
       "stream": "stdout",
       "text": [
        "152\n"
       ]
      },
      {
       "html": [
        "<div style=\"max-height:1000px;max-width:1500px;overflow:auto;\">\n",
        "<table border=\"1\" class=\"dataframe\">\n",
        "  <thead>\n",
        "    <tr style=\"text-align: right;\">\n",
        "      <th></th>\n",
        "      <th>username</th>\n",
        "      <th>post_count</th>\n",
        "      <th>pm_in_count</th>\n",
        "      <th>time_from_last_pm</th>\n",
        "      <th>tags</th>\n",
        "      <th>body</th>\n",
        "    </tr>\n",
        "  </thead>\n",
        "  <tbody>\n",
        "    <tr>\n",
        "      <th>50 </th>\n",
        "      <td> JackRGPRO</td>\n",
        "      <td> 1</td>\n",
        "      <td> 1</td>\n",
        "      <td>00:00:34</td>\n",
        "      <td> 0</td>\n",
        "      <td>                  http://javatalks.ru/topics/37480</td>\n",
        "    </tr>\n",
        "    <tr>\n",
        "      <th>412</th>\n",
        "      <td>   SaskeCR</td>\n",
        "      <td> 1</td>\n",
        "      <td> 1</td>\n",
        "      <td>00:00:47</td>\n",
        "      <td> 0</td>\n",
        "      <td> \u0434\u043e\u0431\u0440\u0438\u0439 \u0434\u0435\u043d\u044c, \u0434\u0435\u043d\u0438\u0441!  \u044f \u0445\u043e\u0447\u0443 \u0437\u0430\u043f\u0440\u043e\u043f\u043e\u043d\u0443\u0432\u0430\u0442\u0438 \u0432\u0430\u043c ...</td>\n",
        "    </tr>\n",
        "    <tr>\n",
        "      <th>414</th>\n",
        "      <td>   SaskeCR</td>\n",
        "      <td> 1</td>\n",
        "      <td> 1</td>\n",
        "      <td>00:01:02</td>\n",
        "      <td> 0</td>\n",
        "      <td> \u0434\u043e\u0431\u0440\u0438\u0439 \u0434\u0435\u043d\u044c!  \u044f \u0445\u043e\u0447\u0443 \u0437\u0430\u043f\u0440\u043e\u043f\u043e\u043d\u0443\u0432\u0430\u0442\u0438 \u0432\u0430\u043c \u0440\u043e\u0437\u0433\u043b\u044f\u043d...</td>\n",
        "    </tr>\n",
        "    <tr>\n",
        "      <th>416</th>\n",
        "      <td>   SaskeCR</td>\n",
        "      <td> 1</td>\n",
        "      <td> 1</td>\n",
        "      <td>00:00:37</td>\n",
        "      <td> 0</td>\n",
        "      <td> \u0434\u043e\u0431\u0440\u0438\u0439 \u0434\u0435\u043d\u044c!  \u044f \u0445\u043e\u0447\u0443 \u0437\u0430\u043f\u0440\u043e\u043f\u043e\u043d\u0443\u0432\u0430\u0442\u0438 \u0432\u0430\u043c \u0440\u043e\u0437\u0433\u043b\u044f\u043d...</td>\n",
        "    </tr>\n",
        "    <tr>\n",
        "      <th>417</th>\n",
        "      <td>   SaskeCR</td>\n",
        "      <td> 1</td>\n",
        "      <td> 1</td>\n",
        "      <td>00:00:51</td>\n",
        "      <td> 0</td>\n",
        "      <td> \u0434\u043e\u0431\u0440\u0438\u0439 \u0434\u0435\u043d\u044c!  \u044f \u0445\u043e\u0447\u0443 \u0437\u0430\u043f\u0440\u043e\u043f\u043e\u043d\u0443\u0432\u0430\u0442\u0438 \u0432\u0430\u043c \u0440\u043e\u0437\u0433\u043b\u044f\u043d...</td>\n",
        "    </tr>\n",
        "  </tbody>\n",
        "</table>\n",
        "</div>"
       ],
       "metadata": {},
       "output_type": "pyout",
       "prompt_number": 93,
       "text": [
        "      username  post_count  pm_in_count  time_from_last_pm  tags  \\\n",
        "50   JackRGPRO           1            1           00:00:34     0   \n",
        "412    SaskeCR           1            1           00:00:47     0   \n",
        "414    SaskeCR           1            1           00:01:02     0   \n",
        "416    SaskeCR           1            1           00:00:37     0   \n",
        "417    SaskeCR           1            1           00:00:51     0   \n",
        "\n",
        "                                                  body  \n",
        "50                    http://javatalks.ru/topics/37480  \n",
        "412  \u0434\u043e\u0431\u0440\u0438\u0439 \u0434\u0435\u043d\u044c, \u0434\u0435\u043d\u0438\u0441!  \u044f \u0445\u043e\u0447\u0443 \u0437\u0430\u043f\u0440\u043e\u043f\u043e\u043d\u0443\u0432\u0430\u0442\u0438 \u0432\u0430\u043c ...  \n",
        "414  \u0434\u043e\u0431\u0440\u0438\u0439 \u0434\u0435\u043d\u044c!  \u044f \u0445\u043e\u0447\u0443 \u0437\u0430\u043f\u0440\u043e\u043f\u043e\u043d\u0443\u0432\u0430\u0442\u0438 \u0432\u0430\u043c \u0440\u043e\u0437\u0433\u043b\u044f\u043d...  \n",
        "416  \u0434\u043e\u0431\u0440\u0438\u0439 \u0434\u0435\u043d\u044c!  \u044f \u0445\u043e\u0447\u0443 \u0437\u0430\u043f\u0440\u043e\u043f\u043e\u043d\u0443\u0432\u0430\u0442\u0438 \u0432\u0430\u043c \u0440\u043e\u0437\u0433\u043b\u044f\u043d...  \n",
        "417  \u0434\u043e\u0431\u0440\u0438\u0439 \u0434\u0435\u043d\u044c!  \u044f \u0445\u043e\u0447\u0443 \u0437\u0430\u043f\u0440\u043e\u043f\u043e\u043d\u0443\u0432\u0430\u0442\u0438 \u0432\u0430\u043c \u0440\u043e\u0437\u0433\u043b\u044f\u043d...  "
       ]
      }
     ],
     "prompt_number": 93
    },
    {
     "cell_type": "markdown",
     "metadata": {},
     "source": [
      "These things may look like spam, but let's leave them like this and won't include in the analysis."
     ]
    },
    {
     "cell_type": "code",
     "collapsed": false,
     "input": [
      "print data2[(data2.spam == '?') & (data2.time_from_last_pm.isnull()) & (~data2.not_russian)].id.count()\n",
      "data2[(data2.spam == '?') & (data2.time_from_last_pm.isnull()) & (~data2.not_russian)][cols]"
     ],
     "language": "python",
     "metadata": {},
     "outputs": [
      {
       "output_type": "stream",
       "stream": "stdout",
       "text": [
        "20\n"
       ]
      },
      {
       "html": [
        "<div style=\"max-height:1000px;max-width:1500px;overflow:auto;\">\n",
        "<table border=\"1\" class=\"dataframe\">\n",
        "  <thead>\n",
        "    <tr style=\"text-align: right;\">\n",
        "      <th></th>\n",
        "      <th>username</th>\n",
        "      <th>post_count</th>\n",
        "      <th>pm_in_count</th>\n",
        "      <th>time_from_last_pm</th>\n",
        "      <th>tags</th>\n",
        "      <th>body</th>\n",
        "    </tr>\n",
        "  </thead>\n",
        "  <tbody>\n",
        "    <tr>\n",
        "      <th>0    </th>\n",
        "      <td>        Igrikis</td>\n",
        "      <td> 1</td>\n",
        "      <td> 1</td>\n",
        "      <td>NaT</td>\n",
        "      <td> 0</td>\n",
        "      <td>                                 \u0441\u043a\u0430\u0439\u043f igrikis1989</td>\n",
        "    </tr>\n",
        "    <tr>\n",
        "      <th>16   </th>\n",
        "      <td>   kulikovsky93</td>\n",
        "      <td> 1</td>\n",
        "      <td> 0</td>\n",
        "      <td>NaT</td>\n",
        "      <td> 4</td>\n",
        "      <td> \u0437\u0434\u0440\u0430\u0441\u0442\u0432\u0443\u0439\u0442\u0435, \u043f\u043e\u043c\u043e\u0433\u0438\u0442\u0435 \u0440\u0430\u0437\u043e\u0431\u0440\u0430\u0442\u044c\u0441\u044f \u0441 sql \u0437\u0430\u043f\u0440\u043e\u0441...</td>\n",
        "    </tr>\n",
        "    <tr>\n",
        "      <th>55   </th>\n",
        "      <td>   marina.dyrda</td>\n",
        "      <td> 1</td>\n",
        "      <td> 1</td>\n",
        "      <td>NaT</td>\n",
        "      <td> 0</td>\n",
        "      <td> \u043f\u0440\u0438\u0432\u0435\u0442! \u0432\u043e\u0442 \u043f\u0440\u044f\u043c\u043e \u0441\u0435\u0439\u0447\u0430\u0441, \u043a \u0441\u043e\u0436\u0430\u043b\u0435\u043d\u0438\u044e, \u0431\u043e\u043b\u044c\u0448\u0435 ...</td>\n",
        "    </tr>\n",
        "    <tr>\n",
        "      <th>111  </th>\n",
        "      <td>       elena_gr</td>\n",
        "      <td> 1</td>\n",
        "      <td> 1</td>\n",
        "      <td>NaT</td>\n",
        "      <td> 0</td>\n",
        "      <td>                               \u043f\u0440\u0438\u0432\u0435\u0442, elena_gr77.</td>\n",
        "    </tr>\n",
        "    <tr>\n",
        "      <th>129  </th>\n",
        "      <td>           sjke</td>\n",
        "      <td> 1</td>\n",
        "      <td> 1</td>\n",
        "      <td>NaT</td>\n",
        "      <td> 0</td>\n",
        "      <td> \u043f\u0440\u043e\u0441\u0442\u043e \u0432\u0435\u043b\u0438\u043a\u043e\u043b\u0435\u043f\u043d\u043e \u0432\u044b \u0443\u043c\u0435\u0435\u0442\u0435 \u043e\u0431\u044a\u044f\u0441\u043d\u044f\u0442\u044c \u0441\u0443\u0442\u044c \u043f\u0440...</td>\n",
        "    </tr>\n",
        "    <tr>\n",
        "      <th>130  </th>\n",
        "      <td>         XrMsDD</td>\n",
        "      <td> 0</td>\n",
        "      <td> 0</td>\n",
        "      <td>NaT</td>\n",
        "      <td> 1</td>\n",
        "      <td> \u0440\u0435\u043c\u043e\u043d\u0442 \u043a\u043e\u043c\u043f\u044c\u044e\u0442\u0435\u0440\u043e\u0432 \u043c\u043e\u0441\u043a\u0432\u0430 \u0438 \u043c\u043e\u0441\u043a\u043e\u0432\u0441\u043a\u0430\u044f \u043e\u0431\u043b\u0430\u0441\u0442\u044c...</td>\n",
        "    </tr>\n",
        "    <tr>\n",
        "      <th>134  </th>\n",
        "      <td>      Jackobson</td>\n",
        "      <td> 0</td>\n",
        "      <td> 0</td>\n",
        "      <td>NaT</td>\n",
        "      <td> 6</td>\n",
        "      <td> \u0437\u0434\u0440\u0430\u0432\u0441\u0442\u0432\u0443\u0439\u0442\u0435. \u044f \u0440\u0430\u0437\u0431\u0438\u0440\u0430\u044e\u0441\u044c \u0441 \u043f\u043e\u0442\u043e\u043a\u043e\u0437\u0430\u0449\u0438\u0449\u0435\u043d\u043d\u044b\u043c\u0438...</td>\n",
        "    </tr>\n",
        "    <tr>\n",
        "      <th>4740 </th>\n",
        "      <td>       iPioneer</td>\n",
        "      <td> 1</td>\n",
        "      <td> 1</td>\n",
        "      <td>NaT</td>\n",
        "      <td> 0</td>\n",
        "      <td>              \u0434\u0430, \u043a\u043e\u043d\u0435\u0447\u043d\u043e - ka020682seb- \u043c\u043e\u0439 \u0441\u043a\u0430\u0439\u043f</td>\n",
        "    </tr>\n",
        "    <tr>\n",
        "      <th>4779 </th>\n",
        "      <td>         Slavus</td>\n",
        "      <td> 1</td>\n",
        "      <td> 1</td>\n",
        "      <td>NaT</td>\n",
        "      <td> 0</td>\n",
        "      <td>                                   \u043f\u0440\u0438\u0432\u0435\u0442! hislava</td>\n",
        "    </tr>\n",
        "    <tr>\n",
        "      <th>4975 </th>\n",
        "      <td>       venompro</td>\n",
        "      <td> 1</td>\n",
        "      <td> 2</td>\n",
        "      <td>NaT</td>\n",
        "      <td> 0</td>\n",
        "      <td> [quote=\"agny\"]\u0437\u0434\u0440\u0430\u0432\u0441\u0442\u0432\u0443\u0439\u0442\u0435! \u043f\u043e\u043a\u0430 \u0447\u0438\u0442\u0430\u043b \u0432\u0430\u0448\u0435 \u0441\u043e...</td>\n",
        "    </tr>\n",
        "    <tr>\n",
        "      <th>5284 </th>\n",
        "      <td>        MobiDev</td>\n",
        "      <td> 1</td>\n",
        "      <td> 1</td>\n",
        "      <td>NaT</td>\n",
        "      <td> 0</td>\n",
        "      <td> \u043e\u043a, \u0441\u043f\u0430\u0441\u0438\u0431\u043e! \u0443 \u043c\u0435\u043d\u044f \u043d\u0435 \u043f\u043e\u043b\u0443\u0447\u0430\u0435\u0442\u0441\u044f \u0443\u0434\u0430\u043b\u0438\u0442\u044c \u043b\u0438\u0448\u043d...</td>\n",
        "    </tr>\n",
        "    <tr>\n",
        "      <th>6230 </th>\n",
        "      <td> envionsofrware</td>\n",
        "      <td> 1</td>\n",
        "      <td> 1</td>\n",
        "      <td>NaT</td>\n",
        "      <td> 0</td>\n",
        "      <td> \u0434\u043e\u0431\u0440\u043e\u0433\u043e \u0432\u0440\u0435\u043c\u0435\u043d\u0438 \u0441\u0443\u0442\u043e\u043a, \u043c\u043e\u0433\u043b\u0438 \u0431\u044b \u0432\u044b \u043e\u0442\u043f\u0440\u0430\u0432\u0438\u0442\u044c \u0441...</td>\n",
        "    </tr>\n",
        "    <tr>\n",
        "      <th>6265 </th>\n",
        "      <td>         ROM710</td>\n",
        "      <td> 1</td>\n",
        "      <td> 1</td>\n",
        "      <td>NaT</td>\n",
        "      <td> 0</td>\n",
        "      <td> \u0437\u0434\u0440\u0430\u0432\u0441\u0442\u0432\u0443\u0439\u0442\u0435, \u0447\u0435\u0441\u0442\u043d\u043e \u0433\u043e\u0432\u043e\u0440\u044f \u044f \u0435\u0449\u0435 \u043c\u0430\u043b\u043e \u0432 \u044d\u0442\u043e\u043c ...</td>\n",
        "    </tr>\n",
        "    <tr>\n",
        "      <th>7025 </th>\n",
        "      <td>      fedul1121</td>\n",
        "      <td> 1</td>\n",
        "      <td> 1</td>\n",
        "      <td>NaT</td>\n",
        "      <td> 0</td>\n",
        "      <td>                             \u0441\u043f\u0430\u0441\u0438\u0431\u043e, \u0443\u0436\u0435 \u043d\u0435 \u043d\u0443\u0436\u043d\u044b</td>\n",
        "    </tr>\n",
        "    <tr>\n",
        "      <th>7131 </th>\n",
        "      <td>    Dmitriyflef</td>\n",
        "      <td> 0</td>\n",
        "      <td> 0</td>\n",
        "      <td>NaT</td>\n",
        "      <td> 2</td>\n",
        "      <td> \u0432\u0441\u0435\u043c \u043f\u0440\u0438\u0432\u0435\u0442! \u043d\u043e\u0432\u0435\u043d\u044c\u043a\u0438\u0445 \u043d\u0435 \u043e\u0431\u0438\u0436\u0430\u0435\u0442\u0435&lt;a style=\"te...</td>\n",
        "    </tr>\n",
        "    <tr>\n",
        "      <th>7931 </th>\n",
        "      <td>     danilstepa</td>\n",
        "      <td> 1</td>\n",
        "      <td> 1</td>\n",
        "      <td>NaT</td>\n",
        "      <td> 0</td>\n",
        "      <td>                          \u0434\u043e\u0431\u0440\u044b\u0439, \u0432 \u043f\u0440\u0438\u043d\u0446\u0438\u043f\u0435 \u043d\u0443\u0436\u0435\u043d</td>\n",
        "    </tr>\n",
        "    <tr>\n",
        "      <th>9344 </th>\n",
        "      <td>         mixa.s</td>\n",
        "      <td> 1</td>\n",
        "      <td> 1</td>\n",
        "      <td>NaT</td>\n",
        "      <td> 0</td>\n",
        "      <td> \u0434\u043e\u0431\u0440\u044b\u0439 \u0434\u0435\u043d\u044c,  \u0438\u0449\u0435\u043c, \u043d\u043e \u0441\u043e \u0441\u0442\u0430\u0440\u0442\u043e\u043c \u043d\u0435 \u043f\u0440\u044f\u043c\u043e \u0441\u0435\u0439...</td>\n",
        "    </tr>\n",
        "    <tr>\n",
        "      <th>9371 </th>\n",
        "      <td>       Antaniel</td>\n",
        "      <td> 0</td>\n",
        "      <td> 0</td>\n",
        "      <td>NaT</td>\n",
        "      <td> 1</td>\n",
        "      <td> \u0434\u043e\u0431\u0440\u043e\u0433\u043e \u0432\u0440\u0435\u043c\u0435\u043d\u0438 \u0441\u0443\u0442\u043e\u043a :)  \u0432\u043e\u0437\u043d\u0438\u043a \u0432\u043e\u043f\u0440\u043e\u0441 \u043f\u043e \u043f\u043e\u0441...</td>\n",
        "    </tr>\n",
        "    <tr>\n",
        "      <th>9449 </th>\n",
        "      <td>     sasha00000</td>\n",
        "      <td> 0</td>\n",
        "      <td> 1</td>\n",
        "      <td>NaT</td>\n",
        "      <td> 0</td>\n",
        "      <td>                                    \u043f\u0440\u043e\u0448\u0443 \u043f\u0440\u043e\u0449\u0435\u043d\u0438\u044f</td>\n",
        "    </tr>\n",
        "    <tr>\n",
        "      <th>10075</th>\n",
        "      <td>     Discepless</td>\n",
        "      <td> 1</td>\n",
        "      <td> 2</td>\n",
        "      <td>NaT</td>\n",
        "      <td> 0</td>\n",
        "      <td> \u044f \u0432\u0441\u0435 \u0442\u0430\u043a\u0438 \u0432\u044b\u0441\u043f\u0430\u043b\u0441\u044f \u0438 \u0441\u043f\u0440\u0430\u0432\u0438\u043b\u0441\u044f \u0441\u0430\u043c  =) \u043d\u043e \u0432\u0441\u0435...</td>\n",
        "    </tr>\n",
        "  </tbody>\n",
        "</table>\n",
        "</div>"
       ],
       "metadata": {},
       "output_type": "pyout",
       "prompt_number": 94,
       "text": [
        "             username  post_count  pm_in_count  time_from_last_pm  tags  \\\n",
        "0             Igrikis           1            1                NaT     0   \n",
        "16       kulikovsky93           1            0                NaT     4   \n",
        "55       marina.dyrda           1            1                NaT     0   \n",
        "111          elena_gr           1            1                NaT     0   \n",
        "129              sjke           1            1                NaT     0   \n",
        "130            XrMsDD           0            0                NaT     1   \n",
        "134         Jackobson           0            0                NaT     6   \n",
        "4740         iPioneer           1            1                NaT     0   \n",
        "4779           Slavus           1            1                NaT     0   \n",
        "4975         venompro           1            2                NaT     0   \n",
        "5284          MobiDev           1            1                NaT     0   \n",
        "6230   envionsofrware           1            1                NaT     0   \n",
        "6265           ROM710           1            1                NaT     0   \n",
        "7025        fedul1121           1            1                NaT     0   \n",
        "7131      Dmitriyflef           0            0                NaT     2   \n",
        "7931       danilstepa           1            1                NaT     0   \n",
        "9344           mixa.s           1            1                NaT     0   \n",
        "9371         Antaniel           0            0                NaT     1   \n",
        "9449       sasha00000           0            1                NaT     0   \n",
        "10075      Discepless           1            2                NaT     0   \n",
        "\n",
        "                                                    body  \n",
        "0                                      \u0441\u043a\u0430\u0439\u043f igrikis1989  \n",
        "16     \u0437\u0434\u0440\u0430\u0441\u0442\u0432\u0443\u0439\u0442\u0435, \u043f\u043e\u043c\u043e\u0433\u0438\u0442\u0435 \u0440\u0430\u0437\u043e\u0431\u0440\u0430\u0442\u044c\u0441\u044f \u0441 sql \u0437\u0430\u043f\u0440\u043e\u0441...  \n",
        "55     \u043f\u0440\u0438\u0432\u0435\u0442! \u0432\u043e\u0442 \u043f\u0440\u044f\u043c\u043e \u0441\u0435\u0439\u0447\u0430\u0441, \u043a \u0441\u043e\u0436\u0430\u043b\u0435\u043d\u0438\u044e, \u0431\u043e\u043b\u044c\u0448\u0435 ...  \n",
        "111                                  \u043f\u0440\u0438\u0432\u0435\u0442, elena_gr77.  \n",
        "129    \u043f\u0440\u043e\u0441\u0442\u043e \u0432\u0435\u043b\u0438\u043a\u043e\u043b\u0435\u043f\u043d\u043e \u0432\u044b \u0443\u043c\u0435\u0435\u0442\u0435 \u043e\u0431\u044a\u044f\u0441\u043d\u044f\u0442\u044c \u0441\u0443\u0442\u044c \u043f\u0440...  \n",
        "130    \u0440\u0435\u043c\u043e\u043d\u0442 \u043a\u043e\u043c\u043f\u044c\u044e\u0442\u0435\u0440\u043e\u0432 \u043c\u043e\u0441\u043a\u0432\u0430 \u0438 \u043c\u043e\u0441\u043a\u043e\u0432\u0441\u043a\u0430\u044f \u043e\u0431\u043b\u0430\u0441\u0442\u044c...  \n",
        "134    \u0437\u0434\u0440\u0430\u0432\u0441\u0442\u0432\u0443\u0439\u0442\u0435. \u044f \u0440\u0430\u0437\u0431\u0438\u0440\u0430\u044e\u0441\u044c \u0441 \u043f\u043e\u0442\u043e\u043a\u043e\u0437\u0430\u0449\u0438\u0449\u0435\u043d\u043d\u044b\u043c\u0438...  \n",
        "4740                \u0434\u0430, \u043a\u043e\u043d\u0435\u0447\u043d\u043e - ka020682seb- \u043c\u043e\u0439 \u0441\u043a\u0430\u0439\u043f  \n",
        "4779                                     \u043f\u0440\u0438\u0432\u0435\u0442! hislava  \n",
        "4975   [quote=\"agny\"]\u0437\u0434\u0440\u0430\u0432\u0441\u0442\u0432\u0443\u0439\u0442\u0435! \u043f\u043e\u043a\u0430 \u0447\u0438\u0442\u0430\u043b \u0432\u0430\u0448\u0435 \u0441\u043e...  \n",
        "5284   \u043e\u043a, \u0441\u043f\u0430\u0441\u0438\u0431\u043e! \u0443 \u043c\u0435\u043d\u044f \u043d\u0435 \u043f\u043e\u043b\u0443\u0447\u0430\u0435\u0442\u0441\u044f \u0443\u0434\u0430\u043b\u0438\u0442\u044c \u043b\u0438\u0448\u043d...  \n",
        "6230   \u0434\u043e\u0431\u0440\u043e\u0433\u043e \u0432\u0440\u0435\u043c\u0435\u043d\u0438 \u0441\u0443\u0442\u043e\u043a, \u043c\u043e\u0433\u043b\u0438 \u0431\u044b \u0432\u044b \u043e\u0442\u043f\u0440\u0430\u0432\u0438\u0442\u044c \u0441...  \n",
        "6265   \u0437\u0434\u0440\u0430\u0432\u0441\u0442\u0432\u0443\u0439\u0442\u0435, \u0447\u0435\u0441\u0442\u043d\u043e \u0433\u043e\u0432\u043e\u0440\u044f \u044f \u0435\u0449\u0435 \u043c\u0430\u043b\u043e \u0432 \u044d\u0442\u043e\u043c ...  \n",
        "7025                               \u0441\u043f\u0430\u0441\u0438\u0431\u043e, \u0443\u0436\u0435 \u043d\u0435 \u043d\u0443\u0436\u043d\u044b  \n",
        "7131   \u0432\u0441\u0435\u043c \u043f\u0440\u0438\u0432\u0435\u0442! \u043d\u043e\u0432\u0435\u043d\u044c\u043a\u0438\u0445 \u043d\u0435 \u043e\u0431\u0438\u0436\u0430\u0435\u0442\u0435<a style=\"te...  \n",
        "7931                            \u0434\u043e\u0431\u0440\u044b\u0439, \u0432 \u043f\u0440\u0438\u043d\u0446\u0438\u043f\u0435 \u043d\u0443\u0436\u0435\u043d  \n",
        "9344   \u0434\u043e\u0431\u0440\u044b\u0439 \u0434\u0435\u043d\u044c,  \u0438\u0449\u0435\u043c, \u043d\u043e \u0441\u043e \u0441\u0442\u0430\u0440\u0442\u043e\u043c \u043d\u0435 \u043f\u0440\u044f\u043c\u043e \u0441\u0435\u0439...  \n",
        "9371   \u0434\u043e\u0431\u0440\u043e\u0433\u043e \u0432\u0440\u0435\u043c\u0435\u043d\u0438 \u0441\u0443\u0442\u043e\u043a :)  \u0432\u043e\u0437\u043d\u0438\u043a \u0432\u043e\u043f\u0440\u043e\u0441 \u043f\u043e \u043f\u043e\u0441...  \n",
        "9449                                      \u043f\u0440\u043e\u0448\u0443 \u043f\u0440\u043e\u0449\u0435\u043d\u0438\u044f  \n",
        "10075  \u044f \u0432\u0441\u0435 \u0442\u0430\u043a\u0438 \u0432\u044b\u0441\u043f\u0430\u043b\u0441\u044f \u0438 \u0441\u043f\u0440\u0430\u0432\u0438\u043b\u0441\u044f \u0441\u0430\u043c  =) \u043d\u043e \u0432\u0441\u0435...  "
       ]
      }
     ],
     "prompt_number": 94
    },
    {
     "cell_type": "markdown",
     "metadata": {},
     "source": [
      "One is spam (130), one is weird (7131), let's mark it as spam as well. The rest are fine. "
     ]
    },
    {
     "cell_type": "code",
     "collapsed": false,
     "input": [
      "data2.ix[(130, 7131), 'spam'] = 'Y'\n",
      "data2.ix[(data2.spam == '?') & (data2.time_from_last_pm.isnull()) & (~data2.not_russian), 'spam'] = 'N'"
     ],
     "language": "python",
     "metadata": {},
     "outputs": [],
     "prompt_number": 95
    },
    {
     "cell_type": "code",
     "collapsed": false,
     "input": [
      "data2.spam.value_counts()"
     ],
     "language": "python",
     "metadata": {},
     "outputs": [
      {
       "metadata": {},
       "output_type": "pyout",
       "prompt_number": 96,
       "text": [
        "Y    9213\n",
        "N     505\n",
        "?     416\n",
        "dtype: int64"
       ]
      }
     ],
     "prompt_number": 96
    },
    {
     "cell_type": "code",
     "collapsed": false,
     "input": [
      "_15min = pd.to_timedelta('00:15:00')\n",
      "print data2[(data2.spam == '?') & (data2.time_from_last_pm >= _15min) & (data2.pm_in_count >=2)].id.count()\n",
      "data2[(data2.spam == '?') & (data2.time_from_last_pm >= _15min) & (data2.pm_in_count >=2)][cols]"
     ],
     "language": "python",
     "metadata": {},
     "outputs": [
      {
       "output_type": "stream",
       "stream": "stdout",
       "text": [
        "112\n"
       ]
      },
      {
       "html": [
        "<div style=\"max-height:1000px;max-width:1500px;overflow:auto;\">\n",
        "<table border=\"1\" class=\"dataframe\">\n",
        "  <thead>\n",
        "    <tr style=\"text-align: right;\">\n",
        "      <th></th>\n",
        "      <th>username</th>\n",
        "      <th>post_count</th>\n",
        "      <th>pm_in_count</th>\n",
        "      <th>time_from_last_pm</th>\n",
        "      <th>tags</th>\n",
        "      <th>body</th>\n",
        "    </tr>\n",
        "  </thead>\n",
        "  <tbody>\n",
        "    <tr>\n",
        "      <th>4    </th>\n",
        "      <td>     klicucha</td>\n",
        "      <td> 0</td>\n",
        "      <td>  2</td>\n",
        "      <td> 0 days, 02:17:12</td>\n",
        "      <td> 0</td>\n",
        "      <td> [quote=\"beowulf13th\"] \u0437\u0430\u043f\u043e\u043b\u043d\u0435\u043d\u043d\u044b\u0439 \u0431\u043b\u0430\u043d\u043a \u043c\u043e\u0436\u043d\u043e ...</td>\n",
        "    </tr>\n",
        "    <tr>\n",
        "      <th>6    </th>\n",
        "      <td>     klicucha</td>\n",
        "      <td> 0</td>\n",
        "      <td>  3</td>\n",
        "      <td> 0 days, 01:12:10</td>\n",
        "      <td> 0</td>\n",
        "      <td> \u0442\u0430\u043a\u0441. \u0447\u0443\u0432\u0441\u0442\u0432\u0443\u044e \u0441\u0435\u0431\u044f \u0443\u0436\u0435 \u0431\u043b\u043e\u043d\u0434\u0438\u043d\u043a\u043e\u0439 \u0438\u0437 \u043a\u043e\u043c\u0438\u043a\u0441\u043e\u0432...</td>\n",
        "    </tr>\n",
        "    <tr>\n",
        "      <th>7    </th>\n",
        "      <td>     klicucha</td>\n",
        "      <td> 0</td>\n",
        "      <td>  4</td>\n",
        "      <td> 0 days, 21:30:29</td>\n",
        "      <td> 0</td>\n",
        "      <td> [quote=\"beowulf13th\"] \u0435\u0441\u043b\u0438 \u044d\u0442\u043e \u0431\u0443\u0434\u0435\u0442 pdf - \u0442\u043e ...</td>\n",
        "    </tr>\n",
        "    <tr>\n",
        "      <th>8    </th>\n",
        "      <td>     klicucha</td>\n",
        "      <td> 0</td>\n",
        "      <td>  5</td>\n",
        "      <td> 0 days, 00:45:24</td>\n",
        "      <td> 0</td>\n",
        "      <td> \u043e\u043a\u0435\u0439.  \u0442\u043e\u0433\u0434\u0430 \u043e\u0442\u043d\u043e\u0441\u0438\u0442\u0435\u043b\u044c\u043d\u043e \u0431\u043b\u0430\u043d\u043a\u0430 \u043c\u043d\u0435 \u043d\u0443\u0436\u043d\u043e \u0431\u0443\u0434...</td>\n",
        "    </tr>\n",
        "    <tr>\n",
        "      <th>10   </th>\n",
        "      <td>     klicucha</td>\n",
        "      <td> 0</td>\n",
        "      <td>  7</td>\n",
        "      <td> 0 days, 00:26:46</td>\n",
        "      <td> 0</td>\n",
        "      <td> [quote=\"beowulf13th\"][quote=\"klicucha\"]\u0444\u043e\u0440\u043c\u0430\u0442?...</td>\n",
        "    </tr>\n",
        "    <tr>\n",
        "      <th>11   </th>\n",
        "      <td>     klicucha</td>\n",
        "      <td> 0</td>\n",
        "      <td>  8</td>\n",
        "      <td> 0 days, 05:15:02</td>\n",
        "      <td> 0</td>\n",
        "      <td>                \u0434\u043e\u0433\u043e\u0432\u043e\u0440\u0438\u043b\u0438\u0441\u044c) \u0437\u0430\u0432\u0442\u0440\u0430 \u0441\u0434\u0435\u043b\u0430\u044e \u0441\u043a\u0438\u043d\u0443.</td>\n",
        "    </tr>\n",
        "    <tr>\n",
        "      <th>27   </th>\n",
        "      <td>    arzobispo</td>\n",
        "      <td> 1</td>\n",
        "      <td>  6</td>\n",
        "      <td> 0 days, 00:30:18</td>\n",
        "      <td> 0</td>\n",
        "      <td> [quote=\"ghmulti\"]\u0434\u0430 \u043c\u043e\u0436\u043d\u043e \u043f\u0440\u044f\u043c \u0441\u0435\u0433\u043e\u0434\u043d\u044f \u043f\u0440\u0438\u0441\u043b\u0430\u0442...</td>\n",
        "    </tr>\n",
        "    <tr>\n",
        "      <th>56   </th>\n",
        "      <td> marina.dyrda</td>\n",
        "      <td> 1</td>\n",
        "      <td>  2</td>\n",
        "      <td> 1 days, 03:53:29</td>\n",
        "      <td> 0</td>\n",
        "      <td>                            \u043c\u043e\u0439 \u0441\u043a\u0430\u0439\u043f: dyrdamarina</td>\n",
        "    </tr>\n",
        "    <tr>\n",
        "      <th>59   </th>\n",
        "      <td>     exis19ce</td>\n",
        "      <td> 0</td>\n",
        "      <td>  2</td>\n",
        "      <td> 0 days, 18:14:41</td>\n",
        "      <td> 0</td>\n",
        "      <td> \u044f \u0442\u0430\u043a \u043f\u043e\u043d\u0438\u043c\u0430\u044e \u0442\u044b \u043f\u0440\u043e\u0445\u043e\u0434\u0438\u043b \u0441\u043e\u0431\u0435\u0441\u0435\u0434\u043e\u0432\u0430\u043d\u0438\u0435 \u0432 sysg...</td>\n",
        "    </tr>\n",
        "    <tr>\n",
        "      <th>60   </th>\n",
        "      <td>     exis19ce</td>\n",
        "      <td> 0</td>\n",
        "      <td>  3</td>\n",
        "      <td> 0 days, 04:35:18</td>\n",
        "      <td> 0</td>\n",
        "      <td> \u0440\u0435\u0448\u0438\u043b \u0437\u0430\u0434\u0430\u0447\u0443... \u0442\u043e\u043b\u044c\u043a\u043e \u043d\u0435\u043c\u043d\u043e\u0433\u043e \u0434\u0440\u0443\u0433\u0438\u043c \u0441\u043f\u043e\u0441\u043e\u0431\u043e\u043c...</td>\n",
        "    </tr>\n",
        "    <tr>\n",
        "      <th>61   </th>\n",
        "      <td>     exis19ce</td>\n",
        "      <td> 0</td>\n",
        "      <td>  4</td>\n",
        "      <td> 0 days, 00:28:52</td>\n",
        "      <td> 0</td>\n",
        "      <td> \u044f \u0432 \u043f\u0430\u0441\u043a\u0430\u043b\u0435 \u0440\u0435\u0448\u0430\u043b! \u043d\u0430\u0448\u0435\u043b 1\u044e \u0435\u0434\u0438\u043d\u0438\u0446\u0443 \u043f\u0440\u0438\u0441\u0432\u043e\u0438\u043b \u0435...</td>\n",
        "    </tr>\n",
        "    <tr>\n",
        "      <th>62   </th>\n",
        "      <td>    JackRGPRO</td>\n",
        "      <td> 1</td>\n",
        "      <td>  2</td>\n",
        "      <td>21 days, 12:00:47</td>\n",
        "      <td> 0</td>\n",
        "      <td> \u043f\u0440\u0438\u0432\u0435\u0442, \u0432\u044b \u043c\u043d\u0435 \u043e\u0431\u044a\u044f\u0441\u043d\u044f\u043b\u0438  \u043a\u0430\u043a \u043c\u043e\u0436\u043d\u043e \u0430\u0432\u0442\u043e\u0440\u0438\u0437\u043e\u0432\u0430...</td>\n",
        "    </tr>\n",
        "    <tr>\n",
        "      <th>64   </th>\n",
        "      <td>    JackRGPRO</td>\n",
        "      <td> 1</td>\n",
        "      <td>  3</td>\n",
        "      <td> 1 days, 13:54:53</td>\n",
        "      <td> 0</td>\n",
        "      <td> \u044f \u0431\u044b \u0441\u0440\u0430\u0437\u0443 \u0445\u043e\u0442\u0435\u043b \u0431\u044b \u043f\u0440\u043e\u0441\u0442\u043e \u043f\u043e\u0433\u043e\u0432\u043e\u0440\u0438\u0442\u044c, \u0447\u0442\u043e \u0431\u044b ...</td>\n",
        "    </tr>\n",
        "    <tr>\n",
        "      <th>65   </th>\n",
        "      <td>    JackRGPRO</td>\n",
        "      <td> 1</td>\n",
        "      <td>  3</td>\n",
        "      <td> 0 days, 00:38:49</td>\n",
        "      <td> 0</td>\n",
        "      <td> \u043f\u0440\u043e\u0441\u0442\u043e \u043f\u043e \u043c\u0438\u043c\u043e \u044d\u0442\u043e\u0433\u043e \u0432\u043e\u043f\u0440\u043e\u0441\u0430 \u0435\u0449\u0435 \u0435\u0449\u0435 \u043d\u0435\u043a\u043e\u0442\u043e\u0440\u044b\u0435...</td>\n",
        "    </tr>\n",
        "    <tr>\n",
        "      <th>66   </th>\n",
        "      <td>           !3</td>\n",
        "      <td> 0</td>\n",
        "      <td>  2</td>\n",
        "      <td>15 days, 01:38:42</td>\n",
        "      <td> 0</td>\n",
        "      <td>               \u0441\u043f\u0430\u0441\u0438\u0431\u043e. \u043f\u043e\u0442\u0435\u0441\u0442\u0438\u0440\u0443\u0435\u043c. \u0432\u044b - \u043c\u043e\u043b\u043e\u0434\u0435\u0446.</td>\n",
        "    </tr>\n",
        "    <tr>\n",
        "      <th>97   </th>\n",
        "      <td>   Art | Arth</td>\n",
        "      <td> 0</td>\n",
        "      <td>  2</td>\n",
        "      <td> 1 days, 03:25:18</td>\n",
        "      <td> 0</td>\n",
        "      <td>                         \u043e\u043a, \u043f\u0443\u0441\u0442\u044c \u0431\u0443\u0434\u0443 art | arth</td>\n",
        "    </tr>\n",
        "    <tr>\n",
        "      <th>99   </th>\n",
        "      <td>   Partizanin</td>\n",
        "      <td> 0</td>\n",
        "      <td>  2</td>\n",
        "      <td> 1 days, 22:46:57</td>\n",
        "      <td> 0</td>\n",
        "      <td> \u0432\u043e\u0442 \u043d\u0430\u0441\u0447\u0435\u0442 \u043f\u0440\u0430\u043a\u0442\u0438\u043a\u0438 \u0441\u043e\u0433\u043b\u0430\u0441\u0435\u043d,\u043d\u0443 \u0438 \u043f\u043e\u0447\u0438\u0442\u0430\u0442\u044c \u043a\u043d\u0438...</td>\n",
        "    </tr>\n",
        "    <tr>\n",
        "      <th>104  </th>\n",
        "      <td>   Art | Arth</td>\n",
        "      <td> 0</td>\n",
        "      <td>  3</td>\n",
        "      <td> 7 days, 09:23:30</td>\n",
        "      <td> 0</td>\n",
        "      <td>                                          \u0441\u043f\u0430\u0441\u0438\u0431\u043e.</td>\n",
        "    </tr>\n",
        "    <tr>\n",
        "      <th>171  </th>\n",
        "      <td>         sjke</td>\n",
        "      <td> 1</td>\n",
        "      <td>  2</td>\n",
        "      <td>16 days, 10:49:17</td>\n",
        "      <td> 0</td>\n",
        "      <td> \u0437\u0434\u0440\u0430\u0432\u0441\u0442\u0432\u0443\u0439\u0442\u0435, \u043f\u043e\u043a\u0430 \u0441\u043e \u0432\u0440\u0435\u043c\u0435\u043d\u0435\u043c \u0437\u0430\u0432\u0430\u043b, \u043d\u0435 \u043c\u043e\u0433\u0443 ...</td>\n",
        "    </tr>\n",
        "    <tr>\n",
        "      <th>186  </th>\n",
        "      <td>     Khlipper</td>\n",
        "      <td> 0</td>\n",
        "      <td>  2</td>\n",
        "      <td> 0 days, 03:52:05</td>\n",
        "      <td> 0</td>\n",
        "      <td>                       \u0430 \u043e\u0431\u0449\u0430\u044f \u0441\u0442\u043e\u0438\u043c\u043e\u0441\u0442\u044c-\u0442\u043e \u043a\u0430\u043a\u0430\u044f?</td>\n",
        "    </tr>\n",
        "    <tr>\n",
        "      <th>203  </th>\n",
        "      <td>           !3</td>\n",
        "      <td> 0</td>\n",
        "      <td>  2</td>\n",
        "      <td>61 days, 22:35:03</td>\n",
        "      <td> 0</td>\n",
        "      <td> \u0437\u0434\u0440\u0430\u0432\u0441\u0442\u0432\u0443\u0439\u0442\u0435, \u043f\u0430\u0432\u0435\u043b.  \u0431\u043e\u043b\u044c\u0448\u043e\u0435 \u0441\u043f\u0430\u0441\u0438\u0431\u043e \u0437\u0430 \u043f\u0430\u0442\u0447!...</td>\n",
        "    </tr>\n",
        "    <tr>\n",
        "      <th>420  </th>\n",
        "      <td>      SaskeCR</td>\n",
        "      <td> 1</td>\n",
        "      <td>  2</td>\n",
        "      <td> 0 days, 00:53:24</td>\n",
        "      <td> 0</td>\n",
        "      <td> \u0434\u043e\u0431\u0440\u0438\u0439 \u0434\u0435\u043d\u044c!  \u044f \u0445\u043e\u0447\u0443 \u0437\u0430\u043f\u0440\u043e\u043f\u043e\u043d\u0443\u0432\u0430\u0442\u0438 \u0432\u0430\u043c \u0440\u043e\u0437\u0433\u043b\u044f\u043d...</td>\n",
        "    </tr>\n",
        "    <tr>\n",
        "      <th>453  </th>\n",
        "      <td>      SaskeCR</td>\n",
        "      <td> 1</td>\n",
        "      <td>  2</td>\n",
        "      <td> 0 days, 00:39:39</td>\n",
        "      <td> 0</td>\n",
        "      <td> \u0434\u043e\u0431\u0440\u0438\u0439 \u0434\u0435\u043d\u044c!  \u044f \u0445\u043e\u0447\u0443 \u0437\u0430\u043f\u0440\u043e\u043f\u043e\u043d\u0443\u0432\u0430\u0442\u0438 \u0432\u0430\u043c \u0440\u043e\u0437\u0433\u043b\u044f\u043d...</td>\n",
        "    </tr>\n",
        "    <tr>\n",
        "      <th>467  </th>\n",
        "      <td>      SaskeCR</td>\n",
        "      <td> 1</td>\n",
        "      <td>  5</td>\n",
        "      <td> 2 days, 19:16:19</td>\n",
        "      <td> 0</td>\n",
        "      <td> \u0434\u043e\u0431\u0440\u0438\u0439 \u0434\u0435\u043d\u044c!  \u044f \u0445\u043e\u0447\u0443 \u0437\u0430\u043f\u0440\u043e\u043f\u043e\u043d\u0443\u0432\u0430\u0442\u0438 \u0432\u0430\u043c \u0440\u043e\u0437\u0433\u043b\u044f\u043d...</td>\n",
        "    </tr>\n",
        "    <tr>\n",
        "      <th>530  </th>\n",
        "      <td>      SaskeCR</td>\n",
        "      <td> 1</td>\n",
        "      <td>  8</td>\n",
        "      <td> 0 days, 00:32:25</td>\n",
        "      <td> 0</td>\n",
        "      <td> \u0441\u043f\u0430\u0441\u0438\u0431\u043e, \u0447\u0442\u043e \u043e\u0442\u0432\u0435\u0442\u0438\u043b\u0438:) \u0438\u0437\u0432\u0438\u043d\u0438\u0442\u0435, \u044f \u043d\u0435 \u0437\u043d\u0430\u043b\u0430, ...</td>\n",
        "    </tr>\n",
        "    <tr>\n",
        "      <th>550  </th>\n",
        "      <td>      SaskeCR</td>\n",
        "      <td> 1</td>\n",
        "      <td> 11</td>\n",
        "      <td> 0 days, 00:19:55</td>\n",
        "      <td> 0</td>\n",
        "      <td> \u043c\u043e\u0436\u0435\u0442\u0435 \u043d\u0430\u0434\u0456\u0441\u043b\u0430\u0442\u0438 \u043c\u0435\u043d\u0456, \u0431\u0443\u0434\u044c-\u043b\u0430\u0441\u043a\u0430, \u043d\u0430 \u0435-\u043c\u0435\u0439\u043b a...</td>\n",
        "    </tr>\n",
        "    <tr>\n",
        "      <th>552  </th>\n",
        "      <td>      SaskeCR</td>\n",
        "      <td> 1</td>\n",
        "      <td> 12</td>\n",
        "      <td> 0 days, 00:47:37</td>\n",
        "      <td> 0</td>\n",
        "      <td> \u044f \u0432\u0436\u0435 \u0440\u043e\u0437\u043c\u0456\u0441\u0442\u0438\u043b\u0430... \u0449\u0435 \u0432 \u043f'\u044f\u0442\u043d\u0438\u0446\u044e, \u043d\u0456\u043a\u043e\u0433\u043e \u043d\u0435\u043c\u0430...</td>\n",
        "    </tr>\n",
        "    <tr>\n",
        "      <th>554  </th>\n",
        "      <td>      SaskeCR</td>\n",
        "      <td> 1</td>\n",
        "      <td> 13</td>\n",
        "      <td> 0 days, 01:24:31</td>\n",
        "      <td> 0</td>\n",
        "      <td> \u043a\u043b\u0438\u0435\u043d\u0442 \u043c\u043e\u0436\u0435\u0442 \u043f\u0440\u0435\u0434\u043b\u043e\u0436\u0438\u0442\u044c \u0434\u043e 3000$ \u0447\u0438\u0441\u0442\u044b\u043c\u0438 \u0432 \u043c\u0435\u0441...</td>\n",
        "    </tr>\n",
        "    <tr>\n",
        "      <th>559  </th>\n",
        "      <td>      SaskeCR</td>\n",
        "      <td> 1</td>\n",
        "      <td> 17</td>\n",
        "      <td> 0 days, 19:06:29</td>\n",
        "      <td> 0</td>\n",
        "      <td> \u043e\u0442 \u0442\u0435\u043f\u0435\u0440 \u044f \u0437\u0440\u043e\u0437\u0443\u043c\u0456\u043b\u0430, \u043a\u043e\u043b\u0438 \u0432\u0438 \u0431\u0456\u043b\u044c\u0448 \u0434\u043e\u043a\u043b\u0430\u0434\u043d\u043e \u0440...</td>\n",
        "    </tr>\n",
        "    <tr>\n",
        "      <th>562  </th>\n",
        "      <td>      SaskeCR</td>\n",
        "      <td> 1</td>\n",
        "      <td> 19</td>\n",
        "      <td> 0 days, 01:45:24</td>\n",
        "      <td> 0</td>\n",
        "      <td>              \u044f \u043d\u0430\u043f\u0438\u0441\u0430\u043b\u0430 \u043d\u0430 \u0432\u0430\u0448\u0443 \u043f\u043e\u0448\u0442\u0443. \u043f\u0435\u0440\u0435\u0432\u0456\u0440\u0442\u0435.</td>\n",
        "    </tr>\n",
        "    <tr>\n",
        "      <th>...</th>\n",
        "      <td>...</td>\n",
        "      <td>...</td>\n",
        "      <td>...</td>\n",
        "      <td>...</td>\n",
        "      <td>...</td>\n",
        "      <td>...</td>\n",
        "    </tr>\n",
        "    <tr>\n",
        "      <th>9017 </th>\n",
        "      <td>  Greatergood</td>\n",
        "      <td> 0</td>\n",
        "      <td>  2</td>\n",
        "      <td> 0 days, 00:20:43</td>\n",
        "      <td> 0</td>\n",
        "      <td> \u043f\u0440\u0438 \u0440\u0435\u0434\u0430\u043a\u0442\u0438\u0440\u043e\u0432\u0430\u043d\u0438\u0438 \u0437\u043d\u0430\u0447\u0435\u043d\u0438\u044f, \u043f\u0440\u0438\u043d\u0446\u0438\u043f \u043f\u043e\u0447\u0442\u0438 \u0442\u043e\u0442...</td>\n",
        "    </tr>\n",
        "    <tr>\n",
        "      <th>9021 </th>\n",
        "      <td>  Greatergood</td>\n",
        "      <td> 0</td>\n",
        "      <td>  4</td>\n",
        "      <td> 0 days, 00:20:11</td>\n",
        "      <td> 0</td>\n",
        "      <td> \u0442\u0430\u043a \u044f \u0437\u0430\u0432\u0442\u0440\u0430 \u043e\u0442\u0432\u0435\u0447\u0443 \u0438\u0431\u043e \u0431\u0443\u0445\u043e\u0439 \u0443\u0436\u0435((( \u0437\u0430\u0432\u0442\u0440\u0430 \u043f\u043e...</td>\n",
        "    </tr>\n",
        "    <tr>\n",
        "      <th>9082 </th>\n",
        "      <td>  Greatergood</td>\n",
        "      <td> 0</td>\n",
        "      <td>  5</td>\n",
        "      <td> 0 days, 19:55:11</td>\n",
        "      <td> 0</td>\n",
        "      <td> \u0438\u0442\u0430\u043a \u044f \u0432\u0435\u0440\u043d\u0443\u043b\u0441\u044f. \u0432\u043e\u043e\u0431\u0449\u0435\u043c \u043a\u0430\u043a \u044f \u043f\u043e\u043d\u044f\u043b \u0443 \u043d\u0430\u0441 \u043f\u0440\u0438...</td>\n",
        "    </tr>\n",
        "    <tr>\n",
        "      <th>9083 </th>\n",
        "      <td>  Greatergood</td>\n",
        "      <td> 0</td>\n",
        "      <td>  6</td>\n",
        "      <td> 0 days, 00:46:44</td>\n",
        "      <td> 0</td>\n",
        "      <td> \u0432\u043e\u0442 \u0445\u0435\u0440\u043d\u044f \u0442\u043e(((  \u0442\u043e\u0433\u0434\u0430 \u0434\u0440\u0443\u0433\u043e\u0439 \u0432\u043e\u043f\u0440\u043e\u0441, \u043f\u043e\u0442\u0443\u043f\u0435\u0435 ...</td>\n",
        "    </tr>\n",
        "    <tr>\n",
        "      <th>9086 </th>\n",
        "      <td>  Greatergood</td>\n",
        "      <td> 0</td>\n",
        "      <td>  7</td>\n",
        "      <td> 0 days, 00:24:43</td>\n",
        "      <td> 0</td>\n",
        "      <td> \u0438 \u043a\u0443\u0434\u0430 \u044d\u0442\u043e \u0432\u0441\u0442\u0430\u0432\u0438\u0442\u044c? \u0438\u0437\u0432\u0438\u043d\u0438\u0442\u0435 \u043a\u043e\u043d\u0435\u0447\u043d\u043e \u0437\u0430 \u0442\u0430\u043a\u043e\u0439...</td>\n",
        "    </tr>\n",
        "    <tr>\n",
        "      <th>9088 </th>\n",
        "      <td>  Greatergood</td>\n",
        "      <td> 0</td>\n",
        "      <td>  8</td>\n",
        "      <td> 0 days, 01:00:08</td>\n",
        "      <td> 0</td>\n",
        "      <td> \u0434\u043a \u0433\u0443\u0433\u043b\u0438\u043b \u0443\u0436\u0435 \u043d\u0435\u0434\u0435\u043b\u044e \u043a\u0430\u043a. \u044f \u0436 \u043d\u0435 \u043f\u0440\u043e\u0441\u0442\u043e \u0442\u0430\u043a \u0443 ...</td>\n",
        "    </tr>\n",
        "    <tr>\n",
        "      <th>9091 </th>\n",
        "      <td>  Greatergood</td>\n",
        "      <td> 0</td>\n",
        "      <td>  9</td>\n",
        "      <td> 0 days, 00:31:52</td>\n",
        "      <td> 0</td>\n",
        "      <td> \u0431\u043e\u043b\u044c\u0448\u0435 \u043d\u0438\u0447\u0435\u0433\u043e \u043d\u0435 \u043e\u0441\u0442\u0430\u043b\u043e\u0441\u044c \u043a\u0440\u043e\u043c\u0435 \u044d\u0442\u043e\u0433\u043e)) \u0432\u0441\u0435 \u043e\u0441...</td>\n",
        "    </tr>\n",
        "    <tr>\n",
        "      <th>9121 </th>\n",
        "      <td>  Greatergood</td>\n",
        "      <td> 0</td>\n",
        "      <td>  9</td>\n",
        "      <td> 0 days, 21:06:30</td>\n",
        "      <td> 0</td>\n",
        "      <td> \u043d\u0443 \u0432\u0441\u0435 \u0441\u043f\u0430\u0441\u0438\u0431\u043e \u0437\u0430 \u043c\u043e\u0440\u0430\u043b\u044c\u043d\u0443\u044e \u043f\u043e\u0434\u0434\u0435\u0440\u0436\u043a\u0443, \u044f \u0441\u0434\u0435\u043b\u0430...</td>\n",
        "    </tr>\n",
        "    <tr>\n",
        "      <th>9333 </th>\n",
        "      <td>        flops</td>\n",
        "      <td> 0</td>\n",
        "      <td>  2</td>\n",
        "      <td> 0 days, 00:40:12</td>\n",
        "      <td> 0</td>\n",
        "      <td>                                          \u0441\u043f\u0430\u0441\u0438\u0431\u043e!</td>\n",
        "    </tr>\n",
        "    <tr>\n",
        "      <th>9409 </th>\n",
        "      <td> stratocaster</td>\n",
        "      <td> 1</td>\n",
        "      <td>  2</td>\n",
        "      <td> 0 days, 11:02:54</td>\n",
        "      <td> 0</td>\n",
        "      <td> \u0438\u0440\u0438\u043d\u0430, \u0434\u043e\u0431\u0440\u044b\u0439 \u0434\u0435\u043d\u044c!  \u0440\u0435\u0437\u044e\u043c\u0435 \u043e\u0442\u043f\u0440\u0430\u0432\u0438\u043b.  \u0441 \u0443\u0432\u0430\u0436\u0435...</td>\n",
        "    </tr>\n",
        "    <tr>\n",
        "      <th>9455 </th>\n",
        "      <td>     kapa2204</td>\n",
        "      <td> 0</td>\n",
        "      <td>  2</td>\n",
        "      <td> 0 days, 00:26:11</td>\n",
        "      <td> 0</td>\n",
        "      <td> \u0445\u043e\u0440\u043e\u0448\u043e. \u0434\u043e\u0433\u043e\u0432\u043e\u0440\u0438\u043b\u0438\u0441\u044c.  \u0441\u0440\u043e\u043a 1-1.5 \u043d\u0435\u0434\u0435\u043b\u0438 1500\u0440...</td>\n",
        "    </tr>\n",
        "    <tr>\n",
        "      <th>9456 </th>\n",
        "      <td>     kapa2204</td>\n",
        "      <td> 0</td>\n",
        "      <td>  3</td>\n",
        "      <td> 0 days, 01:17:52</td>\n",
        "      <td> 0</td>\n",
        "      <td> \u0441 \u043a\u043e\u043c\u043c\u0435\u043d\u0442\u0430\u0440\u0438\u044f\u043c\u0438 \u0431\u0435\u0437 \u043f\u0440\u043e\u0431\u043b\u0435\u043c, \u043d\u0430\u043f\u0438\u0448\u0443 \u043f\u043e\u0434\u0440\u043e\u0431\u043d\u043e. ...</td>\n",
        "    </tr>\n",
        "    <tr>\n",
        "      <th>9464 </th>\n",
        "      <td> stratocaster</td>\n",
        "      <td> 1</td>\n",
        "      <td>  3</td>\n",
        "      <td>12 days, 23:40:31</td>\n",
        "      <td> 0</td>\n",
        "      <td> \u043f\u0440\u0438\u0432\u0435\u0442\u0441\u0442\u0432\u0443\u044e.  \u0434\u043b\u044f \u044d\u043a\u043e\u043d\u043e\u043c\u0438\u0438 \u0432\u0430\u0448\u0435\u0433\u043e \u0438 \u043c\u043e\u0435\u0433\u043e \u0432\u0440\u0435\u043c...</td>\n",
        "    </tr>\n",
        "    <tr>\n",
        "      <th>9469 </th>\n",
        "      <td>       Fly333</td>\n",
        "      <td> 0</td>\n",
        "      <td>  2</td>\n",
        "      <td> 0 days, 11:31:23</td>\n",
        "      <td> 0</td>\n",
        "      <td> [quote=\"stratocaster\"]\u043f\u0440\u0438\u0432\u0435\u0442\u0441\u0442\u0432\u0443\u044e.  \u0434\u043b\u044f \u044d\u043a\u043e\u043d\u043e\u043c...</td>\n",
        "    </tr>\n",
        "    <tr>\n",
        "      <th>9470 </th>\n",
        "      <td> stratocaster</td>\n",
        "      <td> 1</td>\n",
        "      <td>  4</td>\n",
        "      <td> 0 days, 05:00:48</td>\n",
        "      <td> 0</td>\n",
        "      <td>             skype: v.maishuk  \u0434\u043e\u0431\u0430\u0432\u0438\u043b \u0432\u0430\u0441 \u0432 \u0441\u043a\u0430\u0439\u043f</td>\n",
        "    </tr>\n",
        "    <tr>\n",
        "      <th>9474 </th>\n",
        "      <td>     kapa2204</td>\n",
        "      <td> 0</td>\n",
        "      <td>  4</td>\n",
        "      <td> 3 days, 00:05:27</td>\n",
        "      <td> 0</td>\n",
        "      <td> \u0442\u043e\u0436\u0435 \u043d\u0430 \u0442\u0435\u043a\u0443\u0449\u0438\u0439 \u043c\u043e\u043c\u0435\u043d\u0442 \u0441\u0432\u043e\u0431\u043e\u0434\u0435\u043d \u0434\u043e 40 \u0447 \u0432 \u043d\u0435\u0434\u0435...</td>\n",
        "    </tr>\n",
        "    <tr>\n",
        "      <th>9484 </th>\n",
        "      <td>     kapa2204</td>\n",
        "      <td> 0</td>\n",
        "      <td>  4</td>\n",
        "      <td> 3 days, 20:58:04</td>\n",
        "      <td> 0</td>\n",
        "      <td> \u0434\u043e\u0431\u0440\u043e\u0433\u043e \u0432\u0440\u0435\u043c\u0435\u043d\u0438 \u0441\u0443\u0442\u043e\u043a.  \u0442\u0435\u043c\u0430 \u0443\u0436\u0435 \u0437\u0430\u043a\u0440\u044b\u0442\u0430 ? \u0438\u043b\u0438...</td>\n",
        "    </tr>\n",
        "    <tr>\n",
        "      <th>9605 </th>\n",
        "      <td> stratocaster</td>\n",
        "      <td> 1</td>\n",
        "      <td>  4</td>\n",
        "      <td>18 days, 20:54:35</td>\n",
        "      <td> 0</td>\n",
        "      <td> \u0434\u043e\u0431\u0440\u044b\u0439 \u0434\u0435\u043d\u044c!  \u0435\u0441\u0442\u044c \u043b\u0438 \u0432\u043e\u0437\u043c\u043e\u0436\u043d\u043e\u0441\u0442\u044c \u043f\u0440\u0438\u043c\u043a\u043d\u0443\u0442\u044c \u043a ...</td>\n",
        "    </tr>\n",
        "    <tr>\n",
        "      <th>9668 </th>\n",
        "      <td>     kapa2204</td>\n",
        "      <td> 0</td>\n",
        "      <td>  4</td>\n",
        "      <td>22 days, 20:40:36</td>\n",
        "      <td> 0</td>\n",
        "      <td> \u0434\u043e\u0431\u0440\u043e\u0433\u043e \u0432\u0440\u0435\u043c\u0435\u043d\u0438 \u0441\u0443\u0442\u043e\u043a.  \u0443\u0432\u0438\u0434\u0435\u043b \u0447\u0442\u043e \u0443 \u0432\u0430\u0441 \u0430\u043a\u0442\u0443\u0430...</td>\n",
        "    </tr>\n",
        "    <tr>\n",
        "      <th>9687 </th>\n",
        "      <td>     kapa2204</td>\n",
        "      <td> 0</td>\n",
        "      <td>  5</td>\n",
        "      <td> 2 days, 02:34:37</td>\n",
        "      <td> 0</td>\n",
        "      <td> \u0434\u043e\u0431\u0440\u043e\u0433\u043e \u0432\u0440\u0435\u043c\u0435\u043d\u0438 \u0441\u0443\u0442\u043e\u043a.  \u0435\u0441\u0442\u044c-\u043b\u0438 \u0432\u043e\u0437\u043c\u043e\u0436\u043d\u043e\u0441\u0442\u044c  \u0440...</td>\n",
        "    </tr>\n",
        "    <tr>\n",
        "      <th>9688 </th>\n",
        "      <td>     kapa2204</td>\n",
        "      <td> 0</td>\n",
        "      <td>  6</td>\n",
        "      <td> 0 days, 01:24:30</td>\n",
        "      <td> 0</td>\n",
        "      <td> \u043f\u0440\u0438\u0432\u0435\u0442\u0441\u0442\u0432\u0443\u044e.  \u0433\u0435\u043e\u0433\u0440\u0430\u0444\u0438\u0447\u0435\u0441\u043a\u0438 \u044f \u0432 \u0431\u043b\u0438\u0436\u043d\u0435\u043c \u043f\u043e\u0434\u043c\u043e\u0441...</td>\n",
        "    </tr>\n",
        "    <tr>\n",
        "      <th>9690 </th>\n",
        "      <td>     kapa2204</td>\n",
        "      <td> 0</td>\n",
        "      <td>  7</td>\n",
        "      <td> 0 days, 00:23:22</td>\n",
        "      <td> 0</td>\n",
        "      <td> \u043d\u0443 \u0438 \u043a\u0430\u043a \u0434\u043e\u043f\u043e\u043b\u043d\u0435\u043d\u0438\u0435 \u043a \u043f\u0440\u0435\u0434. \u043f\u0438\u0441\u044c\u043c\u0443, \u0442\u043e\u0447\u043d\u043e \u0442\u0430\u043a\u0436...</td>\n",
        "    </tr>\n",
        "    <tr>\n",
        "      <th>9763 </th>\n",
        "      <td>       mrbish</td>\n",
        "      <td> 1</td>\n",
        "      <td>  3</td>\n",
        "      <td> 0 days, 17:40:28</td>\n",
        "      <td> 0</td>\n",
        "      <td> \u0434\u043e\u0431\u0440\u043e\u0435 \u0443\u0442\u0440\u043e. \u0432\u0441\u0435 \u043f\u0440\u0438\u043d\u044f\u043b \u0432 \u0440\u0430\u0431\u043e\u0442\u0443, \u0431\u0443\u0434\u0443 \u0438\u0437\u0443\u0447\u0430\u0442\u044c...</td>\n",
        "    </tr>\n",
        "    <tr>\n",
        "      <th>9778 </th>\n",
        "      <td>       mrbish</td>\n",
        "      <td> 1</td>\n",
        "      <td>  4</td>\n",
        "      <td> 4 days, 04:32:17</td>\n",
        "      <td> 0</td>\n",
        "      <td> \u0437\u0434\u0440\u0430\u0432\u0441\u0442\u0432\u0443\u0439. \u044f \u0443\u0436\u0435 \u0432 \u043e\u0431\u0449\u0438\u0445 \u0447\u0435\u0440\u0442\u0430\u0445 \u0440\u0430\u0437\u043e\u0431\u0440\u0430\u043b\u0441\u044f \u0441 ...</td>\n",
        "    </tr>\n",
        "    <tr>\n",
        "      <th>9856 </th>\n",
        "      <td>     Yulia_AV</td>\n",
        "      <td> 1</td>\n",
        "      <td>  2</td>\n",
        "      <td> 0 days, 00:22:02</td>\n",
        "      <td> 0</td>\n",
        "      <td>      \u0441\u043f\u0430\u0441\u0438\u0431\u043e, \u0441\u043c\u043e\u0442\u0440\u0435\u043b\u0430 \u0442\u0430\u043c, \u043d\u043e \u043d\u0435 \u0432\u0441\u0435, \u043f\u043e\u0438\u0449\u0443 \u0435\u0449\u0435)</td>\n",
        "    </tr>\n",
        "    <tr>\n",
        "      <th>9857 </th>\n",
        "      <td>     Yulia_AV</td>\n",
        "      <td> 1</td>\n",
        "      <td>  3</td>\n",
        "      <td> 0 days, 00:26:22</td>\n",
        "      <td> 0</td>\n",
        "      <td> \u043f\u0440\u0438\u0432\u0435\u0442\u0441\u0442\u0432\u0443\u044e \u0432\u0430\u0441! \u043c\u0435\u043d\u044f \u0437\u043e\u0432\u0443\u0442 \u044e\u043b\u0438\u044f, \u044f \u0440\u0430\u0431\u043e\u0442\u0430\u044e \u0440\u0435...</td>\n",
        "    </tr>\n",
        "    <tr>\n",
        "      <th>9866 </th>\n",
        "      <td>     Yulia_AV</td>\n",
        "      <td> 1</td>\n",
        "      <td>  5</td>\n",
        "      <td> 0 days, 00:51:19</td>\n",
        "      <td> 0</td>\n",
        "      <td> \u043f\u0440\u0438\u0432\u0435\u0442\u0441\u0442\u0432\u0443\u044e \u0432\u0430\u0441! \u043c\u0435\u043d\u044f \u0437\u043e\u0432\u0443\u0442 \u044e\u043b\u0438\u044f, \u044f \u0440\u0430\u0431\u043e\u0442\u0430\u044e \u0440\u0435...</td>\n",
        "    </tr>\n",
        "    <tr>\n",
        "      <th>9919 </th>\n",
        "      <td>     Yulia_AV</td>\n",
        "      <td> 1</td>\n",
        "      <td>  6</td>\n",
        "      <td> 3 days, 16:28:09</td>\n",
        "      <td> 0</td>\n",
        "      <td> \u0437\u0434\u0440\u0430\u0432\u0441\u0442\u0432\u0443\u0439\u0442\u0435, \u0441\u0435\u0440\u0433\u0435\u0439!  \u0441\u043f\u0430\u0441\u0438\u0431\u043e \u0437\u0430 \u0432\u0430\u0448 \u043e\u0442\u0432\u0435\u0442. \u043a...</td>\n",
        "    </tr>\n",
        "    <tr>\n",
        "      <th>10116</th>\n",
        "      <td>     Skyler23</td>\n",
        "      <td> 0</td>\n",
        "      <td>  2</td>\n",
        "      <td> 0 days, 00:29:56</td>\n",
        "      <td> 0</td>\n",
        "      <td> \u043f\u0440\u0438\u0432\u0435\u0442 !  \u0440\u0435\u0448\u0438\u043b \u043f\u043e\u0438\u043d\u0442\u0435\u0440\u0435\u0441\u043e\u0432\u0430\u0442\u044c\u0441\u044f \u043f\u0440\u0435\u0436\u0434\u0435 \u0447\u0435\u043c \u043f\u043e...</td>\n",
        "    </tr>\n",
        "    <tr>\n",
        "      <th>10125</th>\n",
        "      <td>     Skyler23</td>\n",
        "      <td> 0</td>\n",
        "      <td>  3</td>\n",
        "      <td> 0 days, 16:26:41</td>\n",
        "      <td> 0</td>\n",
        "      <td> \u043f\u0440\u0438\u0432\u0435\u0442 !  \u0440\u0435\u0448\u0438\u043b \u043f\u043e\u0438\u043d\u0442\u0435\u0440\u0435\u0441\u043e\u0432\u0430\u0442\u044c\u0441\u044f \u043f\u0440\u0435\u0436\u0434\u0435 \u0447\u0435\u043c \u043f\u043e...</td>\n",
        "    </tr>\n",
        "  </tbody>\n",
        "</table>\n",
        "<p>112 rows \u00d7 6 columns</p>\n",
        "</div>"
       ],
       "metadata": {},
       "output_type": "pyout",
       "prompt_number": 97,
       "text": [
        "           username  post_count  pm_in_count  time_from_last_pm  tags  \\\n",
        "4          klicucha           0            2   0 days, 02:17:12     0   \n",
        "6          klicucha           0            3   0 days, 01:12:10     0   \n",
        "7          klicucha           0            4   0 days, 21:30:29     0   \n",
        "8          klicucha           0            5   0 days, 00:45:24     0   \n",
        "10         klicucha           0            7   0 days, 00:26:46     0   \n",
        "11         klicucha           0            8   0 days, 05:15:02     0   \n",
        "27        arzobispo           1            6   0 days, 00:30:18     0   \n",
        "56     marina.dyrda           1            2   1 days, 03:53:29     0   \n",
        "59         exis19ce           0            2   0 days, 18:14:41     0   \n",
        "60         exis19ce           0            3   0 days, 04:35:18     0   \n",
        "61         exis19ce           0            4   0 days, 00:28:52     0   \n",
        "62        JackRGPRO           1            2  21 days, 12:00:47     0   \n",
        "64        JackRGPRO           1            3   1 days, 13:54:53     0   \n",
        "65        JackRGPRO           1            3   0 days, 00:38:49     0   \n",
        "66               !3           0            2  15 days, 01:38:42     0   \n",
        "97       Art | Arth           0            2   1 days, 03:25:18     0   \n",
        "99       Partizanin           0            2   1 days, 22:46:57     0   \n",
        "104      Art | Arth           0            3   7 days, 09:23:30     0   \n",
        "171            sjke           1            2  16 days, 10:49:17     0   \n",
        "186        Khlipper           0            2   0 days, 03:52:05     0   \n",
        "203              !3           0            2  61 days, 22:35:03     0   \n",
        "420         SaskeCR           1            2   0 days, 00:53:24     0   \n",
        "453         SaskeCR           1            2   0 days, 00:39:39     0   \n",
        "467         SaskeCR           1            5   2 days, 19:16:19     0   \n",
        "530         SaskeCR           1            8   0 days, 00:32:25     0   \n",
        "550         SaskeCR           1           11   0 days, 00:19:55     0   \n",
        "552         SaskeCR           1           12   0 days, 00:47:37     0   \n",
        "554         SaskeCR           1           13   0 days, 01:24:31     0   \n",
        "559         SaskeCR           1           17   0 days, 19:06:29     0   \n",
        "562         SaskeCR           1           19   0 days, 01:45:24     0   \n",
        "...             ...         ...          ...                ...   ...   \n",
        "9017    Greatergood           0            2   0 days, 00:20:43     0   \n",
        "9021    Greatergood           0            4   0 days, 00:20:11     0   \n",
        "9082    Greatergood           0            5   0 days, 19:55:11     0   \n",
        "9083    Greatergood           0            6   0 days, 00:46:44     0   \n",
        "9086    Greatergood           0            7   0 days, 00:24:43     0   \n",
        "9088    Greatergood           0            8   0 days, 01:00:08     0   \n",
        "9091    Greatergood           0            9   0 days, 00:31:52     0   \n",
        "9121    Greatergood           0            9   0 days, 21:06:30     0   \n",
        "9333          flops           0            2   0 days, 00:40:12     0   \n",
        "9409   stratocaster           1            2   0 days, 11:02:54     0   \n",
        "9455       kapa2204           0            2   0 days, 00:26:11     0   \n",
        "9456       kapa2204           0            3   0 days, 01:17:52     0   \n",
        "9464   stratocaster           1            3  12 days, 23:40:31     0   \n",
        "9469         Fly333           0            2   0 days, 11:31:23     0   \n",
        "9470   stratocaster           1            4   0 days, 05:00:48     0   \n",
        "9474       kapa2204           0            4   3 days, 00:05:27     0   \n",
        "9484       kapa2204           0            4   3 days, 20:58:04     0   \n",
        "9605   stratocaster           1            4  18 days, 20:54:35     0   \n",
        "9668       kapa2204           0            4  22 days, 20:40:36     0   \n",
        "9687       kapa2204           0            5   2 days, 02:34:37     0   \n",
        "9688       kapa2204           0            6   0 days, 01:24:30     0   \n",
        "9690       kapa2204           0            7   0 days, 00:23:22     0   \n",
        "9763         mrbish           1            3   0 days, 17:40:28     0   \n",
        "9778         mrbish           1            4   4 days, 04:32:17     0   \n",
        "9856       Yulia_AV           1            2   0 days, 00:22:02     0   \n",
        "9857       Yulia_AV           1            3   0 days, 00:26:22     0   \n",
        "9866       Yulia_AV           1            5   0 days, 00:51:19     0   \n",
        "9919       Yulia_AV           1            6   3 days, 16:28:09     0   \n",
        "10116      Skyler23           0            2   0 days, 00:29:56     0   \n",
        "10125      Skyler23           0            3   0 days, 16:26:41     0   \n",
        "\n",
        "                                                    body  \n",
        "4      [quote=\"beowulf13th\"] \u0437\u0430\u043f\u043e\u043b\u043d\u0435\u043d\u043d\u044b\u0439 \u0431\u043b\u0430\u043d\u043a \u043c\u043e\u0436\u043d\u043e ...  \n",
        "6      \u0442\u0430\u043a\u0441. \u0447\u0443\u0432\u0441\u0442\u0432\u0443\u044e \u0441\u0435\u0431\u044f \u0443\u0436\u0435 \u0431\u043b\u043e\u043d\u0434\u0438\u043d\u043a\u043e\u0439 \u0438\u0437 \u043a\u043e\u043c\u0438\u043a\u0441\u043e\u0432...  \n",
        "7      [quote=\"beowulf13th\"] \u0435\u0441\u043b\u0438 \u044d\u0442\u043e \u0431\u0443\u0434\u0435\u0442 pdf - \u0442\u043e ...  \n",
        "8      \u043e\u043a\u0435\u0439.  \u0442\u043e\u0433\u0434\u0430 \u043e\u0442\u043d\u043e\u0441\u0438\u0442\u0435\u043b\u044c\u043d\u043e \u0431\u043b\u0430\u043d\u043a\u0430 \u043c\u043d\u0435 \u043d\u0443\u0436\u043d\u043e \u0431\u0443\u0434...  \n",
        "10     [quote=\"beowulf13th\"][quote=\"klicucha\"]\u0444\u043e\u0440\u043c\u0430\u0442?...  \n",
        "11                    \u0434\u043e\u0433\u043e\u0432\u043e\u0440\u0438\u043b\u0438\u0441\u044c) \u0437\u0430\u0432\u0442\u0440\u0430 \u0441\u0434\u0435\u043b\u0430\u044e \u0441\u043a\u0438\u043d\u0443.  \n",
        "27     [quote=\"ghmulti\"]\u0434\u0430 \u043c\u043e\u0436\u043d\u043e \u043f\u0440\u044f\u043c \u0441\u0435\u0433\u043e\u0434\u043d\u044f \u043f\u0440\u0438\u0441\u043b\u0430\u0442...  \n",
        "56                                \u043c\u043e\u0439 \u0441\u043a\u0430\u0439\u043f: dyrdamarina  \n",
        "59     \u044f \u0442\u0430\u043a \u043f\u043e\u043d\u0438\u043c\u0430\u044e \u0442\u044b \u043f\u0440\u043e\u0445\u043e\u0434\u0438\u043b \u0441\u043e\u0431\u0435\u0441\u0435\u0434\u043e\u0432\u0430\u043d\u0438\u0435 \u0432 sysg...  \n",
        "60     \u0440\u0435\u0448\u0438\u043b \u0437\u0430\u0434\u0430\u0447\u0443... \u0442\u043e\u043b\u044c\u043a\u043e \u043d\u0435\u043c\u043d\u043e\u0433\u043e \u0434\u0440\u0443\u0433\u0438\u043c \u0441\u043f\u043e\u0441\u043e\u0431\u043e\u043c...  \n",
        "61     \u044f \u0432 \u043f\u0430\u0441\u043a\u0430\u043b\u0435 \u0440\u0435\u0448\u0430\u043b! \u043d\u0430\u0448\u0435\u043b 1\u044e \u0435\u0434\u0438\u043d\u0438\u0446\u0443 \u043f\u0440\u0438\u0441\u0432\u043e\u0438\u043b \u0435...  \n",
        "62     \u043f\u0440\u0438\u0432\u0435\u0442, \u0432\u044b \u043c\u043d\u0435 \u043e\u0431\u044a\u044f\u0441\u043d\u044f\u043b\u0438  \u043a\u0430\u043a \u043c\u043e\u0436\u043d\u043e \u0430\u0432\u0442\u043e\u0440\u0438\u0437\u043e\u0432\u0430...  \n",
        "64     \u044f \u0431\u044b \u0441\u0440\u0430\u0437\u0443 \u0445\u043e\u0442\u0435\u043b \u0431\u044b \u043f\u0440\u043e\u0441\u0442\u043e \u043f\u043e\u0433\u043e\u0432\u043e\u0440\u0438\u0442\u044c, \u0447\u0442\u043e \u0431\u044b ...  \n",
        "65     \u043f\u0440\u043e\u0441\u0442\u043e \u043f\u043e \u043c\u0438\u043c\u043e \u044d\u0442\u043e\u0433\u043e \u0432\u043e\u043f\u0440\u043e\u0441\u0430 \u0435\u0449\u0435 \u0435\u0449\u0435 \u043d\u0435\u043a\u043e\u0442\u043e\u0440\u044b\u0435...  \n",
        "66                   \u0441\u043f\u0430\u0441\u0438\u0431\u043e. \u043f\u043e\u0442\u0435\u0441\u0442\u0438\u0440\u0443\u0435\u043c. \u0432\u044b - \u043c\u043e\u043b\u043e\u0434\u0435\u0446.  \n",
        "97                             \u043e\u043a, \u043f\u0443\u0441\u0442\u044c \u0431\u0443\u0434\u0443 art | arth  \n",
        "99     \u0432\u043e\u0442 \u043d\u0430\u0441\u0447\u0435\u0442 \u043f\u0440\u0430\u043a\u0442\u0438\u043a\u0438 \u0441\u043e\u0433\u043b\u0430\u0441\u0435\u043d,\u043d\u0443 \u0438 \u043f\u043e\u0447\u0438\u0442\u0430\u0442\u044c \u043a\u043d\u0438...  \n",
        "104                                             \u0441\u043f\u0430\u0441\u0438\u0431\u043e.  \n",
        "171    \u0437\u0434\u0440\u0430\u0432\u0441\u0442\u0432\u0443\u0439\u0442\u0435, \u043f\u043e\u043a\u0430 \u0441\u043e \u0432\u0440\u0435\u043c\u0435\u043d\u0435\u043c \u0437\u0430\u0432\u0430\u043b, \u043d\u0435 \u043c\u043e\u0433\u0443 ...  \n",
        "186                          \u0430 \u043e\u0431\u0449\u0430\u044f \u0441\u0442\u043e\u0438\u043c\u043e\u0441\u0442\u044c-\u0442\u043e \u043a\u0430\u043a\u0430\u044f?  \n",
        "203    \u0437\u0434\u0440\u0430\u0432\u0441\u0442\u0432\u0443\u0439\u0442\u0435, \u043f\u0430\u0432\u0435\u043b.  \u0431\u043e\u043b\u044c\u0448\u043e\u0435 \u0441\u043f\u0430\u0441\u0438\u0431\u043e \u0437\u0430 \u043f\u0430\u0442\u0447!...  \n",
        "420    \u0434\u043e\u0431\u0440\u0438\u0439 \u0434\u0435\u043d\u044c!  \u044f \u0445\u043e\u0447\u0443 \u0437\u0430\u043f\u0440\u043e\u043f\u043e\u043d\u0443\u0432\u0430\u0442\u0438 \u0432\u0430\u043c \u0440\u043e\u0437\u0433\u043b\u044f\u043d...  \n",
        "453    \u0434\u043e\u0431\u0440\u0438\u0439 \u0434\u0435\u043d\u044c!  \u044f \u0445\u043e\u0447\u0443 \u0437\u0430\u043f\u0440\u043e\u043f\u043e\u043d\u0443\u0432\u0430\u0442\u0438 \u0432\u0430\u043c \u0440\u043e\u0437\u0433\u043b\u044f\u043d...  \n",
        "467    \u0434\u043e\u0431\u0440\u0438\u0439 \u0434\u0435\u043d\u044c!  \u044f \u0445\u043e\u0447\u0443 \u0437\u0430\u043f\u0440\u043e\u043f\u043e\u043d\u0443\u0432\u0430\u0442\u0438 \u0432\u0430\u043c \u0440\u043e\u0437\u0433\u043b\u044f\u043d...  \n",
        "530    \u0441\u043f\u0430\u0441\u0438\u0431\u043e, \u0447\u0442\u043e \u043e\u0442\u0432\u0435\u0442\u0438\u043b\u0438:) \u0438\u0437\u0432\u0438\u043d\u0438\u0442\u0435, \u044f \u043d\u0435 \u0437\u043d\u0430\u043b\u0430, ...  \n",
        "550    \u043c\u043e\u0436\u0435\u0442\u0435 \u043d\u0430\u0434\u0456\u0441\u043b\u0430\u0442\u0438 \u043c\u0435\u043d\u0456, \u0431\u0443\u0434\u044c-\u043b\u0430\u0441\u043a\u0430, \u043d\u0430 \u0435-\u043c\u0435\u0439\u043b a...  \n",
        "552    \u044f \u0432\u0436\u0435 \u0440\u043e\u0437\u043c\u0456\u0441\u0442\u0438\u043b\u0430... \u0449\u0435 \u0432 \u043f'\u044f\u0442\u043d\u0438\u0446\u044e, \u043d\u0456\u043a\u043e\u0433\u043e \u043d\u0435\u043c\u0430...  \n",
        "554    \u043a\u043b\u0438\u0435\u043d\u0442 \u043c\u043e\u0436\u0435\u0442 \u043f\u0440\u0435\u0434\u043b\u043e\u0436\u0438\u0442\u044c \u0434\u043e 3000$ \u0447\u0438\u0441\u0442\u044b\u043c\u0438 \u0432 \u043c\u0435\u0441...  \n",
        "559    \u043e\u0442 \u0442\u0435\u043f\u0435\u0440 \u044f \u0437\u0440\u043e\u0437\u0443\u043c\u0456\u043b\u0430, \u043a\u043e\u043b\u0438 \u0432\u0438 \u0431\u0456\u043b\u044c\u0448 \u0434\u043e\u043a\u043b\u0430\u0434\u043d\u043e \u0440...  \n",
        "562                 \u044f \u043d\u0430\u043f\u0438\u0441\u0430\u043b\u0430 \u043d\u0430 \u0432\u0430\u0448\u0443 \u043f\u043e\u0448\u0442\u0443. \u043f\u0435\u0440\u0435\u0432\u0456\u0440\u0442\u0435.  \n",
        "...                                                  ...  \n",
        "9017   \u043f\u0440\u0438 \u0440\u0435\u0434\u0430\u043a\u0442\u0438\u0440\u043e\u0432\u0430\u043d\u0438\u0438 \u0437\u043d\u0430\u0447\u0435\u043d\u0438\u044f, \u043f\u0440\u0438\u043d\u0446\u0438\u043f \u043f\u043e\u0447\u0442\u0438 \u0442\u043e\u0442...  \n",
        "9021   \u0442\u0430\u043a \u044f \u0437\u0430\u0432\u0442\u0440\u0430 \u043e\u0442\u0432\u0435\u0447\u0443 \u0438\u0431\u043e \u0431\u0443\u0445\u043e\u0439 \u0443\u0436\u0435((( \u0437\u0430\u0432\u0442\u0440\u0430 \u043f\u043e...  \n",
        "9082   \u0438\u0442\u0430\u043a \u044f \u0432\u0435\u0440\u043d\u0443\u043b\u0441\u044f. \u0432\u043e\u043e\u0431\u0449\u0435\u043c \u043a\u0430\u043a \u044f \u043f\u043e\u043d\u044f\u043b \u0443 \u043d\u0430\u0441 \u043f\u0440\u0438...  \n",
        "9083   \u0432\u043e\u0442 \u0445\u0435\u0440\u043d\u044f \u0442\u043e(((  \u0442\u043e\u0433\u0434\u0430 \u0434\u0440\u0443\u0433\u043e\u0439 \u0432\u043e\u043f\u0440\u043e\u0441, \u043f\u043e\u0442\u0443\u043f\u0435\u0435 ...  \n",
        "9086   \u0438 \u043a\u0443\u0434\u0430 \u044d\u0442\u043e \u0432\u0441\u0442\u0430\u0432\u0438\u0442\u044c? \u0438\u0437\u0432\u0438\u043d\u0438\u0442\u0435 \u043a\u043e\u043d\u0435\u0447\u043d\u043e \u0437\u0430 \u0442\u0430\u043a\u043e\u0439...  \n",
        "9088   \u0434\u043a \u0433\u0443\u0433\u043b\u0438\u043b \u0443\u0436\u0435 \u043d\u0435\u0434\u0435\u043b\u044e \u043a\u0430\u043a. \u044f \u0436 \u043d\u0435 \u043f\u0440\u043e\u0441\u0442\u043e \u0442\u0430\u043a \u0443 ...  \n",
        "9091   \u0431\u043e\u043b\u044c\u0448\u0435 \u043d\u0438\u0447\u0435\u0433\u043e \u043d\u0435 \u043e\u0441\u0442\u0430\u043b\u043e\u0441\u044c \u043a\u0440\u043e\u043c\u0435 \u044d\u0442\u043e\u0433\u043e)) \u0432\u0441\u0435 \u043e\u0441...  \n",
        "9121   \u043d\u0443 \u0432\u0441\u0435 \u0441\u043f\u0430\u0441\u0438\u0431\u043e \u0437\u0430 \u043c\u043e\u0440\u0430\u043b\u044c\u043d\u0443\u044e \u043f\u043e\u0434\u0434\u0435\u0440\u0436\u043a\u0443, \u044f \u0441\u0434\u0435\u043b\u0430...  \n",
        "9333                                            \u0441\u043f\u0430\u0441\u0438\u0431\u043e!  \n",
        "9409   \u0438\u0440\u0438\u043d\u0430, \u0434\u043e\u0431\u0440\u044b\u0439 \u0434\u0435\u043d\u044c!  \u0440\u0435\u0437\u044e\u043c\u0435 \u043e\u0442\u043f\u0440\u0430\u0432\u0438\u043b.  \u0441 \u0443\u0432\u0430\u0436\u0435...  \n",
        "9455   \u0445\u043e\u0440\u043e\u0448\u043e. \u0434\u043e\u0433\u043e\u0432\u043e\u0440\u0438\u043b\u0438\u0441\u044c.  \u0441\u0440\u043e\u043a 1-1.5 \u043d\u0435\u0434\u0435\u043b\u0438 1500\u0440...  \n",
        "9456   \u0441 \u043a\u043e\u043c\u043c\u0435\u043d\u0442\u0430\u0440\u0438\u044f\u043c\u0438 \u0431\u0435\u0437 \u043f\u0440\u043e\u0431\u043b\u0435\u043c, \u043d\u0430\u043f\u0438\u0448\u0443 \u043f\u043e\u0434\u0440\u043e\u0431\u043d\u043e. ...  \n",
        "9464   \u043f\u0440\u0438\u0432\u0435\u0442\u0441\u0442\u0432\u0443\u044e.  \u0434\u043b\u044f \u044d\u043a\u043e\u043d\u043e\u043c\u0438\u0438 \u0432\u0430\u0448\u0435\u0433\u043e \u0438 \u043c\u043e\u0435\u0433\u043e \u0432\u0440\u0435\u043c...  \n",
        "9469   [quote=\"stratocaster\"]\u043f\u0440\u0438\u0432\u0435\u0442\u0441\u0442\u0432\u0443\u044e.  \u0434\u043b\u044f \u044d\u043a\u043e\u043d\u043e\u043c...  \n",
        "9470               skype: v.maishuk  \u0434\u043e\u0431\u0430\u0432\u0438\u043b \u0432\u0430\u0441 \u0432 \u0441\u043a\u0430\u0439\u043f  \n",
        "9474   \u0442\u043e\u0436\u0435 \u043d\u0430 \u0442\u0435\u043a\u0443\u0449\u0438\u0439 \u043c\u043e\u043c\u0435\u043d\u0442 \u0441\u0432\u043e\u0431\u043e\u0434\u0435\u043d \u0434\u043e 40 \u0447 \u0432 \u043d\u0435\u0434\u0435...  \n",
        "9484   \u0434\u043e\u0431\u0440\u043e\u0433\u043e \u0432\u0440\u0435\u043c\u0435\u043d\u0438 \u0441\u0443\u0442\u043e\u043a.  \u0442\u0435\u043c\u0430 \u0443\u0436\u0435 \u0437\u0430\u043a\u0440\u044b\u0442\u0430 ? \u0438\u043b\u0438...  \n",
        "9605   \u0434\u043e\u0431\u0440\u044b\u0439 \u0434\u0435\u043d\u044c!  \u0435\u0441\u0442\u044c \u043b\u0438 \u0432\u043e\u0437\u043c\u043e\u0436\u043d\u043e\u0441\u0442\u044c \u043f\u0440\u0438\u043c\u043a\u043d\u0443\u0442\u044c \u043a ...  \n",
        "9668   \u0434\u043e\u0431\u0440\u043e\u0433\u043e \u0432\u0440\u0435\u043c\u0435\u043d\u0438 \u0441\u0443\u0442\u043e\u043a.  \u0443\u0432\u0438\u0434\u0435\u043b \u0447\u0442\u043e \u0443 \u0432\u0430\u0441 \u0430\u043a\u0442\u0443\u0430...  \n",
        "9687   \u0434\u043e\u0431\u0440\u043e\u0433\u043e \u0432\u0440\u0435\u043c\u0435\u043d\u0438 \u0441\u0443\u0442\u043e\u043a.  \u0435\u0441\u0442\u044c-\u043b\u0438 \u0432\u043e\u0437\u043c\u043e\u0436\u043d\u043e\u0441\u0442\u044c  \u0440...  \n",
        "9688   \u043f\u0440\u0438\u0432\u0435\u0442\u0441\u0442\u0432\u0443\u044e.  \u0433\u0435\u043e\u0433\u0440\u0430\u0444\u0438\u0447\u0435\u0441\u043a\u0438 \u044f \u0432 \u0431\u043b\u0438\u0436\u043d\u0435\u043c \u043f\u043e\u0434\u043c\u043e\u0441...  \n",
        "9690   \u043d\u0443 \u0438 \u043a\u0430\u043a \u0434\u043e\u043f\u043e\u043b\u043d\u0435\u043d\u0438\u0435 \u043a \u043f\u0440\u0435\u0434. \u043f\u0438\u0441\u044c\u043c\u0443, \u0442\u043e\u0447\u043d\u043e \u0442\u0430\u043a\u0436...  \n",
        "9763   \u0434\u043e\u0431\u0440\u043e\u0435 \u0443\u0442\u0440\u043e. \u0432\u0441\u0435 \u043f\u0440\u0438\u043d\u044f\u043b \u0432 \u0440\u0430\u0431\u043e\u0442\u0443, \u0431\u0443\u0434\u0443 \u0438\u0437\u0443\u0447\u0430\u0442\u044c...  \n",
        "9778   \u0437\u0434\u0440\u0430\u0432\u0441\u0442\u0432\u0443\u0439. \u044f \u0443\u0436\u0435 \u0432 \u043e\u0431\u0449\u0438\u0445 \u0447\u0435\u0440\u0442\u0430\u0445 \u0440\u0430\u0437\u043e\u0431\u0440\u0430\u043b\u0441\u044f \u0441 ...  \n",
        "9856        \u0441\u043f\u0430\u0441\u0438\u0431\u043e, \u0441\u043c\u043e\u0442\u0440\u0435\u043b\u0430 \u0442\u0430\u043c, \u043d\u043e \u043d\u0435 \u0432\u0441\u0435, \u043f\u043e\u0438\u0449\u0443 \u0435\u0449\u0435)  \n",
        "9857   \u043f\u0440\u0438\u0432\u0435\u0442\u0441\u0442\u0432\u0443\u044e \u0432\u0430\u0441! \u043c\u0435\u043d\u044f \u0437\u043e\u0432\u0443\u0442 \u044e\u043b\u0438\u044f, \u044f \u0440\u0430\u0431\u043e\u0442\u0430\u044e \u0440\u0435...  \n",
        "9866   \u043f\u0440\u0438\u0432\u0435\u0442\u0441\u0442\u0432\u0443\u044e \u0432\u0430\u0441! \u043c\u0435\u043d\u044f \u0437\u043e\u0432\u0443\u0442 \u044e\u043b\u0438\u044f, \u044f \u0440\u0430\u0431\u043e\u0442\u0430\u044e \u0440\u0435...  \n",
        "9919   \u0437\u0434\u0440\u0430\u0432\u0441\u0442\u0432\u0443\u0439\u0442\u0435, \u0441\u0435\u0440\u0433\u0435\u0439!  \u0441\u043f\u0430\u0441\u0438\u0431\u043e \u0437\u0430 \u0432\u0430\u0448 \u043e\u0442\u0432\u0435\u0442. \u043a...  \n",
        "10116  \u043f\u0440\u0438\u0432\u0435\u0442 !  \u0440\u0435\u0448\u0438\u043b \u043f\u043e\u0438\u043d\u0442\u0435\u0440\u0435\u0441\u043e\u0432\u0430\u0442\u044c\u0441\u044f \u043f\u0440\u0435\u0436\u0434\u0435 \u0447\u0435\u043c \u043f\u043e...  \n",
        "10125  \u043f\u0440\u0438\u0432\u0435\u0442 !  \u0440\u0435\u0448\u0438\u043b \u043f\u043e\u0438\u043d\u0442\u0435\u0440\u0435\u0441\u043e\u0432\u0430\u0442\u044c\u0441\u044f \u043f\u0440\u0435\u0436\u0434\u0435 \u0447\u0435\u043c \u043f\u043e...  \n",
        "\n",
        "[112 rows x 6 columns]"
       ]
      }
     ],
     "prompt_number": 97
    },
    {
     "cell_type": "markdown",
     "metadata": {},
     "source": [
      "These don't look like spam, so let's make them not spam"
     ]
    },
    {
     "cell_type": "code",
     "collapsed": false,
     "input": [
      "data2.ix[(data2.spam == '?') & (data2.time_from_last_pm >= _15min) & (data2.pm_in_count >=2), 'spam'] = 'N'"
     ],
     "language": "python",
     "metadata": {},
     "outputs": [],
     "prompt_number": 98
    },
    {
     "cell_type": "code",
     "collapsed": false,
     "input": [
      "data2.spam.value_counts()"
     ],
     "language": "python",
     "metadata": {},
     "outputs": [
      {
       "metadata": {},
       "output_type": "pyout",
       "prompt_number": 99,
       "text": [
        "Y    9213\n",
        "N     617\n",
        "?     304\n",
        "dtype: int64"
       ]
      }
     ],
     "prompt_number": 99
    },
    {
     "cell_type": "markdown",
     "metadata": {},
     "source": [
      "This should be enough for now. Now we need to put these two datasets togethers"
     ]
    },
    {
     "cell_type": "code",
     "collapsed": false,
     "input": [
      "data['rus_letters'] = data.body.apply(rus_letters)\n",
      "data['en_letters'] = data.body.apply(en_letters)\n",
      "data['not_russian'] = data['rus_letters'] == 0.0\n",
      "data['tags'] = data.body.str.findall(r'<\\w+?\\s?.+?/?\\s?>').apply(len)"
     ],
     "language": "python",
     "metadata": {},
     "outputs": [],
     "prompt_number": 100
    },
    {
     "cell_type": "code",
     "collapsed": false,
     "input": [
      "print set(data.columns) - set(data2.columns)\n",
      "print set(data2.columns) - set(data.columns)"
     ],
     "language": "python",
     "metadata": {},
     "outputs": [
      {
       "output_type": "stream",
       "stream": "stdout",
       "text": [
        "set([])\n",
        "set([])\n"
       ]
      }
     ],
     "prompt_number": 101
    },
    {
     "cell_type": "heading",
     "level": 2,
     "metadata": {},
     "source": [
      "Non-Spam"
     ]
    },
    {
     "cell_type": "markdown",
     "metadata": {},
     "source": [
      "We have lot's of spam messages, but few non-spam. Let's take non-spam: select users who left more than 2 posts on the forum"
     ]
    },
    {
     "cell_type": "markdown",
     "metadata": {},
     "source": [
      "\tSELECT \n",
      "\t\t'id', 'username', 'reg_date', 'post_count', \n",
      "\t\t'pm_creation_date', 'pm_prev_message', 'pm_in_count', 'body', 'prev_msg_body', 'spam'\n",
      "\tUNION ALL\n",
      "\tSELECT \n",
      "\t\tu.ID,\n",
      "\t\tu.USERNAME,\n",
      "\t\tud.REGISTRATION_DATE,\n",
      "\t\tud.POST_COUNT,\n",
      "\t\tpm.CREATION_DATE,\n",
      "\t\t(SELECT pm1.CREATION_DATE\t\t\n",
      "\t\t\tFROM jtalks.PRIVATE_MESSAGE pm1 \n",
      "\t\t\tWHERE pm1.USER_FROM = u.ID \n",
      "\t\t\tAND pm1.PM_ID < pm.PM_ID \n",
      "\t\t\tORDER BY pm1.PM_ID desc LIMIT 1) as PM_PREV_SENT_MSG,\n",
      "\t\t(SELECT count(*) FROM\n",
      "\t\t\t\tjtalks.PRIVATE_MESSAGE pm1\n",
      "\t\t\tWHERE\n",
      "\t\t\t\tpm1.USER_TO = u.ID and pm1.CREATION_DATE < pm.CREATION_DATE) as IN_MSG_COUNT,\n",
      "\t\tREPLACE(REPLACE(REPLACE(pm.BODY, '\\t', ' '), '\\r', ''), '\\n', ' ') as BODY,\n",
      "\t\t(SELECT REPLACE(REPLACE(REPLACE(pm1.BODY, '\\t', ' '), '\\r', ''), '\\n', ' ')\t\t\n",
      "\t\t\tFROM jtalks.PRIVATE_MESSAGE pm1 \n",
      "\t\t\tWHERE pm1.USER_FROM = u.ID \n",
      "\t\t\tAND pm1.PM_ID < pm.PM_ID \n",
      "\t\t\tORDER BY pm1.PM_ID desc LIMIT 1) as PREV_SENT_MSG_BODY,\n",
      "\t\t'N' as SPAM\n",
      "\tFROM\n",
      "\t\tjtalks.USERS u\n",
      "\t\t\tLEFT JOIN\n",
      "\t\tjtalks.JC_USER_DETAILS ud ON u.ID = ud.USER_ID\n",
      "\t\t\tJOIN\n",
      "\t\tjtalks.PRIVATE_MESSAGE pm ON u.ID = pm.USER_FROM\n",
      "\t\t\tLEFT JOIN\n",
      "\t\tjtalks.GROUP_USER_REF gr ON u.ID = gr.USER_ID\n",
      "\tWHERE pm.CREATION_DATE >= '2013-01-01' AND \n",
      "\t\tgr.GROUP_ID != 3 AND\n",
      "\t\tud.POST_COUNT >= 2\n",
      "\tLIMIT 10000\n",
      "\tINTO OUTFILE 'c:/tmp/spam-3.txt';"
     ]
    },
    {
     "cell_type": "code",
     "collapsed": false,
     "input": [
      "data3 = read('c:/tmp/spam-3.txt')\n",
      "data3 = data3[pd.notnull(data3.body)]"
     ],
     "language": "python",
     "metadata": {},
     "outputs": [],
     "prompt_number": 111
    },
    {
     "cell_type": "code",
     "collapsed": false,
     "input": [
      "data3['time_from_last_pm'] = data3.pm_creation_date - data3.pm_prev_message\n",
      "data3['prev_sim'] = data3.apply(ngrams_cosine, axis=1)\n",
      "data3['rus_letters'] = data3.body.apply(rus_letters)\n",
      "data3['en_letters'] = data3.body.apply(en_letters)\n",
      "data3['not_russian'] = data3['rus_letters'] == 0.0\n",
      "data3['tags'] = data3.body.str.findall(r'<\\w+?\\s?.+?/?\\s?>').apply(len)\n",
      "data3['urls'] = data3.body.apply(url_count)"
     ],
     "language": "python",
     "metadata": {},
     "outputs": [],
     "prompt_number": 112
    },
    {
     "cell_type": "code",
     "collapsed": false,
     "input": [
      "data3[cols].head()"
     ],
     "language": "python",
     "metadata": {},
     "outputs": [
      {
       "html": [
        "<div style=\"max-height:1000px;max-width:1500px;overflow:auto;\">\n",
        "<table border=\"1\" class=\"dataframe\">\n",
        "  <thead>\n",
        "    <tr style=\"text-align: right;\">\n",
        "      <th></th>\n",
        "      <th>username</th>\n",
        "      <th>post_count</th>\n",
        "      <th>pm_in_count</th>\n",
        "      <th>time_from_last_pm</th>\n",
        "      <th>tags</th>\n",
        "      <th>body</th>\n",
        "    </tr>\n",
        "  </thead>\n",
        "  <tbody>\n",
        "    <tr>\n",
        "      <th>0</th>\n",
        "      <td>   almagnit</td>\n",
        "      <td> 1183</td>\n",
        "      <td> 48</td>\n",
        "      <td>1555 days, 22:38:42</td>\n",
        "      <td> 0</td>\n",
        "      <td>                                             39320</td>\n",
        "    </tr>\n",
        "    <tr>\n",
        "      <th>1</th>\n",
        "      <td>   almagnit</td>\n",
        "      <td> 1183</td>\n",
        "      <td> 48</td>\n",
        "      <td>1555 days, 22:38:42</td>\n",
        "      <td> 0</td>\n",
        "      <td>                                             39320</td>\n",
        "    </tr>\n",
        "    <tr>\n",
        "      <th>2</th>\n",
        "      <td>   almagnit</td>\n",
        "      <td> 1183</td>\n",
        "      <td> 48</td>\n",
        "      <td>1555 days, 22:38:42</td>\n",
        "      <td> 0</td>\n",
        "      <td>                                             39320</td>\n",
        "    </tr>\n",
        "    <tr>\n",
        "      <th>3</th>\n",
        "      <td> RodionGork</td>\n",
        "      <td> 6808</td>\n",
        "      <td> 66</td>\n",
        "      <td>  13 days, 19:28:28</td>\n",
        "      <td> 0</td>\n",
        "      <td> \u0441\u0438\u0433\u043d\u0430\u0442\u0443\u0440\u0443 \u043c\u043e\u0436\u043d\u043e \u0432\u044b\u0442\u0430\u0449\u0438\u0442\u044c \u043f\u043e\u043b\u044c\u0437\u0443\u044f\u0441\u044c \u043c\u043d\u043e\u0433\u043e\u0447\u0438\u0441\u043b\u0435\u043d...</td>\n",
        "    </tr>\n",
        "    <tr>\n",
        "      <th>4</th>\n",
        "      <td> love_milka</td>\n",
        "      <td>    3</td>\n",
        "      <td>  0</td>\n",
        "      <td>                NaT</td>\n",
        "      <td> 0</td>\n",
        "      <td> \u0437\u0434\u0440\u0430\u0432\u0441\u0442\u0432\u0443\u0439\u0442\u0435. \u0443 \u043c\u0435\u043d\u044f \u043a \u0432\u0430\u043c \u0434\u0435\u043b\u043e. \u043e\u0442\u043f\u0438\u0448\u0438\u0442\u0435\u0441\u044c \u043f\u043e...</td>\n",
        "    </tr>\n",
        "  </tbody>\n",
        "</table>\n",
        "</div>"
       ],
       "metadata": {},
       "output_type": "pyout",
       "prompt_number": 113,
       "text": [
        "     username  post_count  pm_in_count   time_from_last_pm  tags  \\\n",
        "0    almagnit        1183           48 1555 days, 22:38:42     0   \n",
        "1    almagnit        1183           48 1555 days, 22:38:42     0   \n",
        "2    almagnit        1183           48 1555 days, 22:38:42     0   \n",
        "3  RodionGork        6808           66   13 days, 19:28:28     0   \n",
        "4  love_milka           3            0                 NaT     0   \n",
        "\n",
        "                                                body  \n",
        "0                                              39320  \n",
        "1                                              39320  \n",
        "2                                              39320  \n",
        "3  \u0441\u0438\u0433\u043d\u0430\u0442\u0443\u0440\u0443 \u043c\u043e\u0436\u043d\u043e \u0432\u044b\u0442\u0430\u0449\u0438\u0442\u044c \u043f\u043e\u043b\u044c\u0437\u0443\u044f\u0441\u044c \u043c\u043d\u043e\u0433\u043e\u0447\u0438\u0441\u043b\u0435\u043d...  \n",
        "4  \u0437\u0434\u0440\u0430\u0432\u0441\u0442\u0432\u0443\u0439\u0442\u0435. \u0443 \u043c\u0435\u043d\u044f \u043a \u0432\u0430\u043c \u0434\u0435\u043b\u043e. \u043e\u0442\u043f\u0438\u0448\u0438\u0442\u0435\u0441\u044c \u043f\u043e...  "
       ]
      }
     ],
     "prompt_number": 113
    },
    {
     "cell_type": "heading",
     "level": 1,
     "metadata": {},
     "source": [
      "Analysis"
     ]
    },
    {
     "cell_type": "markdown",
     "metadata": {},
     "source": [
      "Now let's combine all the datasets into one"
     ]
    },
    {
     "cell_type": "code",
     "collapsed": false,
     "input": [
      "spam = pd.concat([data, data2[data2.spam != '?'], data3])"
     ],
     "language": "python",
     "metadata": {},
     "outputs": [],
     "prompt_number": 289
    },
    {
     "cell_type": "code",
     "collapsed": false,
     "input": [
      "spam.describe()"
     ],
     "language": "python",
     "metadata": {},
     "outputs": [
      {
       "html": [
        "<div style=\"max-height:1000px;max-width:1500px;overflow:auto;\">\n",
        "<table border=\"1\" class=\"dataframe\">\n",
        "  <thead>\n",
        "    <tr style=\"text-align: right;\">\n",
        "      <th></th>\n",
        "      <th>en_letters</th>\n",
        "      <th>id</th>\n",
        "      <th>not_russian</th>\n",
        "      <th>pm_in_count</th>\n",
        "      <th>post_count</th>\n",
        "      <th>prev_sim</th>\n",
        "      <th>rus_letters</th>\n",
        "      <th>tags</th>\n",
        "      <th>urls</th>\n",
        "    </tr>\n",
        "  </thead>\n",
        "  <tbody>\n",
        "    <tr>\n",
        "      <th>count</th>\n",
        "      <td> 19900.000000</td>\n",
        "      <td> 19900.000000</td>\n",
        "      <td>     19900</td>\n",
        "      <td> 19900.000000</td>\n",
        "      <td> 19900.000000</td>\n",
        "      <td> 19900.000000</td>\n",
        "      <td> 19900.000000</td>\n",
        "      <td> 19900.000000</td>\n",
        "      <td> 19900.000000</td>\n",
        "    </tr>\n",
        "    <tr>\n",
        "      <th>mean</th>\n",
        "      <td>     0.437274</td>\n",
        "      <td> 30838.120553</td>\n",
        "      <td> 0.3727638</td>\n",
        "      <td>    20.094874</td>\n",
        "      <td>   578.410955</td>\n",
        "      <td>     0.462103</td>\n",
        "      <td>     0.320056</td>\n",
        "      <td>     1.674874</td>\n",
        "      <td>    27.133719</td>\n",
        "    </tr>\n",
        "    <tr>\n",
        "      <th>std</th>\n",
        "      <td>     0.311568</td>\n",
        "      <td> 18248.002218</td>\n",
        "      <td> 0.4835522</td>\n",
        "      <td>    67.658196</td>\n",
        "      <td>  1996.345279</td>\n",
        "      <td>     0.300078</td>\n",
        "      <td>     0.333886</td>\n",
        "      <td>     8.172110</td>\n",
        "      <td>    31.656155</td>\n",
        "    </tr>\n",
        "    <tr>\n",
        "      <th>min</th>\n",
        "      <td>     0.000000</td>\n",
        "      <td>     2.000000</td>\n",
        "      <td>     False</td>\n",
        "      <td>     0.000000</td>\n",
        "      <td>    -1.000000</td>\n",
        "      <td>     0.000000</td>\n",
        "      <td>     0.000000</td>\n",
        "      <td>     0.000000</td>\n",
        "      <td>     0.000000</td>\n",
        "    </tr>\n",
        "    <tr>\n",
        "      <th>25%</th>\n",
        "      <td>     0.120673</td>\n",
        "      <td> 20332.000000</td>\n",
        "      <td>         0</td>\n",
        "      <td>     0.000000</td>\n",
        "      <td>     0.000000</td>\n",
        "      <td>     0.193184</td>\n",
        "      <td>     0.000000</td>\n",
        "      <td>     0.000000</td>\n",
        "      <td>     0.000000</td>\n",
        "    </tr>\n",
        "    <tr>\n",
        "      <th>50%</th>\n",
        "      <td>     0.485146</td>\n",
        "      <td> 26918.000000</td>\n",
        "      <td>         0</td>\n",
        "      <td>     0.000000</td>\n",
        "      <td>     0.000000</td>\n",
        "      <td>     0.538263</td>\n",
        "      <td>     0.225191</td>\n",
        "      <td>     0.000000</td>\n",
        "      <td>    10.000000</td>\n",
        "    </tr>\n",
        "    <tr>\n",
        "      <th>75%</th>\n",
        "      <td>     0.738213</td>\n",
        "      <td> 42002.250000</td>\n",
        "      <td>         1</td>\n",
        "      <td>     0.000000</td>\n",
        "      <td>     0.000000</td>\n",
        "      <td>     0.641512</td>\n",
        "      <td>     0.658228</td>\n",
        "      <td>     0.000000</td>\n",
        "      <td>    60.000000</td>\n",
        "    </tr>\n",
        "    <tr>\n",
        "      <th>max</th>\n",
        "      <td>     1.000000</td>\n",
        "      <td> 87662.000000</td>\n",
        "      <td>      True</td>\n",
        "      <td>   489.000000</td>\n",
        "      <td>  9096.000000</td>\n",
        "      <td>     1.000000</td>\n",
        "      <td>     1.000000</td>\n",
        "      <td>   166.000000</td>\n",
        "      <td>   387.000000</td>\n",
        "    </tr>\n",
        "  </tbody>\n",
        "</table>\n",
        "</div>"
       ],
       "metadata": {},
       "output_type": "pyout",
       "prompt_number": 115,
       "text": [
        "         en_letters            id not_russian   pm_in_count    post_count  \\\n",
        "count  19900.000000  19900.000000       19900  19900.000000  19900.000000   \n",
        "mean       0.437274  30838.120553   0.3727638     20.094874    578.410955   \n",
        "std        0.311568  18248.002218   0.4835522     67.658196   1996.345279   \n",
        "min        0.000000      2.000000       False      0.000000     -1.000000   \n",
        "25%        0.120673  20332.000000           0      0.000000      0.000000   \n",
        "50%        0.485146  26918.000000           0      0.000000      0.000000   \n",
        "75%        0.738213  42002.250000           1      0.000000      0.000000   \n",
        "max        1.000000  87662.000000        True    489.000000   9096.000000   \n",
        "\n",
        "           prev_sim   rus_letters          tags          urls  \n",
        "count  19900.000000  19900.000000  19900.000000  19900.000000  \n",
        "mean       0.462103      0.320056      1.674874     27.133719  \n",
        "std        0.300078      0.333886      8.172110     31.656155  \n",
        "min        0.000000      0.000000      0.000000      0.000000  \n",
        "25%        0.193184      0.000000      0.000000      0.000000  \n",
        "50%        0.538263      0.225191      0.000000     10.000000  \n",
        "75%        0.641512      0.658228      0.000000     60.000000  \n",
        "max        1.000000      1.000000    166.000000    387.000000  "
       ]
      }
     ],
     "prompt_number": 115
    },
    {
     "cell_type": "code",
     "collapsed": false,
     "input": [
      "spam.spam.value_counts()"
     ],
     "language": "python",
     "metadata": {},
     "outputs": [
      {
       "metadata": {},
       "output_type": "pyout",
       "prompt_number": 116,
       "text": [
        "Y    14522\n",
        "N     5378\n",
        "dtype: int64"
       ]
      }
     ],
     "prompt_number": 116
    },
    {
     "cell_type": "markdown",
     "metadata": {},
     "source": [
      "Note that 3/4 of PMs on the forum is spam :)"
     ]
    },
    {
     "cell_type": "markdown",
     "metadata": {},
     "source": [
      "Let's first see how similarity to previous message is distributed"
     ]
    },
    {
     "cell_type": "code",
     "collapsed": false,
     "input": [
      "spam.prev_sim.hist(by=spam.spam, bins=25)"
     ],
     "language": "python",
     "metadata": {},
     "outputs": [
      {
       "metadata": {},
       "output_type": "pyout",
       "prompt_number": 127,
       "text": [
        "array([<matplotlib.axes._subplots.AxesSubplot object at 0x00000000132C2CC0>,\n",
        "       <matplotlib.axes._subplots.AxesSubplot object at 0x000000000EDB01D0>], dtype=object)"
       ]
      },
      {
       "metadata": {},
       "output_type": "display_data",
       "png": "[encoded data removed]",
       "text": [
        "<matplotlib.figure.Figure at 0xf3a5ac8>"
       ]
      }
     ],
     "prompt_number": 127
    },
    {
     "cell_type": "code",
     "collapsed": false,
     "input": [
      "spam.prev_sim[spam.spam == 'N'].hist(bins=25, alpha=0.7, label='N')\n",
      "spam.prev_sim[spam.spam == 'Y'].hist(bins=25, alpha=0.7, label='Y')\n",
      "plt.legend()\n",
      "plt.show()"
     ],
     "language": "python",
     "metadata": {},
     "outputs": [
      {
       "metadata": {},
       "output_type": "display_data",
       "png": "[encoded data removed]",
       "text": [
        "<matplotlib.figure.Figure at 0x3005d898>"
       ]
      }
     ],
     "prompt_number": 132
    },
    {
     "cell_type": "markdown",
     "metadata": {},
     "source": [
      "We can't use all the columns for predictions, now need to decide which ones to use"
     ]
    },
    {
     "cell_type": "code",
     "collapsed": false,
     "input": [
      "spam.columns"
     ],
     "language": "python",
     "metadata": {},
     "outputs": [
      {
       "metadata": {},
       "output_type": "pyout",
       "prompt_number": 133,
       "text": [
        "Index([u'body', u'en_letters', u'id', u'not_russian', u'pm_creation_date', u'pm_in_count', u'pm_prev_message', u'post_count', u'prev_msg_body', u'prev_sim', u'reg_date', u'rus_letters', u'spam', u'tags', u'time_from_last_pm', u'urls', u'username'], dtype='object')"
       ]
      }
     ],
     "prompt_number": 133
    },
    {
     "cell_type": "code",
     "collapsed": false,
     "input": [
      "spam[['pm_in_count', 'time_from_last_pm', 'post_count', 'prev_sim', 'urls', 'spam']].head()"
     ],
     "language": "python",
     "metadata": {},
     "outputs": [
      {
       "html": [
        "<div style=\"max-height:1000px;max-width:1500px;overflow:auto;\">\n",
        "<table border=\"1\" class=\"dataframe\">\n",
        "  <thead>\n",
        "    <tr style=\"text-align: right;\">\n",
        "      <th></th>\n",
        "      <th>pm_in_count</th>\n",
        "      <th>time_from_last_pm</th>\n",
        "      <th>post_count</th>\n",
        "      <th>prev_sim</th>\n",
        "      <th>urls</th>\n",
        "      <th>spam</th>\n",
        "    </tr>\n",
        "  </thead>\n",
        "  <tbody>\n",
        "    <tr>\n",
        "      <th>0</th>\n",
        "      <td> 0</td>\n",
        "      <td>     NaT</td>\n",
        "      <td> 0</td>\n",
        "      <td> 0.000000</td>\n",
        "      <td> 1</td>\n",
        "      <td> Y</td>\n",
        "    </tr>\n",
        "    <tr>\n",
        "      <th>1</th>\n",
        "      <td> 0</td>\n",
        "      <td>     NaT</td>\n",
        "      <td> 0</td>\n",
        "      <td> 0.000000</td>\n",
        "      <td> 2</td>\n",
        "      <td> Y</td>\n",
        "    </tr>\n",
        "    <tr>\n",
        "      <th>2</th>\n",
        "      <td> 0</td>\n",
        "      <td>05:36:44</td>\n",
        "      <td> 0</td>\n",
        "      <td> 0.965389</td>\n",
        "      <td> 2</td>\n",
        "      <td> Y</td>\n",
        "    </tr>\n",
        "    <tr>\n",
        "      <th>3</th>\n",
        "      <td> 0</td>\n",
        "      <td>     NaT</td>\n",
        "      <td> 0</td>\n",
        "      <td> 0.000000</td>\n",
        "      <td> 1</td>\n",
        "      <td> Y</td>\n",
        "    </tr>\n",
        "    <tr>\n",
        "      <th>4</th>\n",
        "      <td> 0</td>\n",
        "      <td>     NaT</td>\n",
        "      <td> 0</td>\n",
        "      <td> 0.000000</td>\n",
        "      <td> 1</td>\n",
        "      <td> Y</td>\n",
        "    </tr>\n",
        "  </tbody>\n",
        "</table>\n",
        "</div>"
       ],
       "metadata": {},
       "output_type": "pyout",
       "prompt_number": 140,
       "text": [
        "   pm_in_count  time_from_last_pm  post_count  prev_sim  urls spam\n",
        "0            0                NaT           0  0.000000     1    Y\n",
        "1            0                NaT           0  0.000000     2    Y\n",
        "2            0           05:36:44           0  0.965389     2    Y\n",
        "3            0                NaT           0  0.000000     1    Y\n",
        "4            0                NaT           0  0.000000     1    Y"
       ]
      }
     ],
     "prompt_number": 140
    },
    {
     "cell_type": "markdown",
     "metadata": {},
     "source": [
      "These features seem to be good ones: # of incoming PMs, time from the last PM, # of post on the forum, similarity to previously sent message, # of urls in the PM."
     ]
    },
    {
     "cell_type": "code",
     "collapsed": false,
     "input": [
      "features = spam[['pm_in_count', 'time_from_last_pm', 'post_count', 'prev_sim', 'urls']]\n",
      "label = spam.spam"
     ],
     "language": "python",
     "metadata": {},
     "outputs": [],
     "prompt_number": 345
    },
    {
     "cell_type": "markdown",
     "metadata": {},
     "source": [
      "Now let's try to make models"
     ]
    },
    {
     "cell_type": "code",
     "collapsed": false,
     "input": [
      "features.head()"
     ],
     "language": "python",
     "metadata": {},
     "outputs": [
      {
       "html": [
        "<div style=\"max-height:1000px;max-width:1500px;overflow:auto;\">\n",
        "<table border=\"1\" class=\"dataframe\">\n",
        "  <thead>\n",
        "    <tr style=\"text-align: right;\">\n",
        "      <th></th>\n",
        "      <th>pm_in_count</th>\n",
        "      <th>time_from_last_pm</th>\n",
        "      <th>post_count</th>\n",
        "      <th>prev_sim</th>\n",
        "      <th>urls</th>\n",
        "    </tr>\n",
        "  </thead>\n",
        "  <tbody>\n",
        "    <tr>\n",
        "      <th>0</th>\n",
        "      <td> 0</td>\n",
        "      <td>     NaT</td>\n",
        "      <td> 0</td>\n",
        "      <td> 0.000000</td>\n",
        "      <td> 1</td>\n",
        "    </tr>\n",
        "    <tr>\n",
        "      <th>1</th>\n",
        "      <td> 0</td>\n",
        "      <td>     NaT</td>\n",
        "      <td> 0</td>\n",
        "      <td> 0.000000</td>\n",
        "      <td> 2</td>\n",
        "    </tr>\n",
        "    <tr>\n",
        "      <th>2</th>\n",
        "      <td> 0</td>\n",
        "      <td>05:36:44</td>\n",
        "      <td> 0</td>\n",
        "      <td> 0.965389</td>\n",
        "      <td> 2</td>\n",
        "    </tr>\n",
        "    <tr>\n",
        "      <th>3</th>\n",
        "      <td> 0</td>\n",
        "      <td>     NaT</td>\n",
        "      <td> 0</td>\n",
        "      <td> 0.000000</td>\n",
        "      <td> 1</td>\n",
        "    </tr>\n",
        "    <tr>\n",
        "      <th>4</th>\n",
        "      <td> 0</td>\n",
        "      <td>     NaT</td>\n",
        "      <td> 0</td>\n",
        "      <td> 0.000000</td>\n",
        "      <td> 1</td>\n",
        "    </tr>\n",
        "  </tbody>\n",
        "</table>\n",
        "</div>"
       ],
       "metadata": {},
       "output_type": "pyout",
       "prompt_number": 346,
       "text": [
        "   pm_in_count  time_from_last_pm  post_count  prev_sim  urls\n",
        "0            0                NaT           0  0.000000     1\n",
        "1            0                NaT           0  0.000000     2\n",
        "2            0           05:36:44           0  0.965389     2\n",
        "3            0                NaT           0  0.000000     1\n",
        "4            0                NaT           0  0.000000     1"
       ]
      }
     ],
     "prompt_number": 346
    },
    {
     "cell_type": "code",
     "collapsed": false,
     "input": [
      "features.describe()"
     ],
     "language": "python",
     "metadata": {},
     "outputs": [
      {
       "html": [
        "<div style=\"max-height:1000px;max-width:1500px;overflow:auto;\">\n",
        "<table border=\"1\" class=\"dataframe\">\n",
        "  <thead>\n",
        "    <tr style=\"text-align: right;\">\n",
        "      <th></th>\n",
        "      <th>pm_in_count</th>\n",
        "      <th>post_count</th>\n",
        "      <th>prev_sim</th>\n",
        "      <th>urls</th>\n",
        "    </tr>\n",
        "  </thead>\n",
        "  <tbody>\n",
        "    <tr>\n",
        "      <th>count</th>\n",
        "      <td> 19900.000000</td>\n",
        "      <td> 19900.000000</td>\n",
        "      <td> 19900.000000</td>\n",
        "      <td> 19900.000000</td>\n",
        "    </tr>\n",
        "    <tr>\n",
        "      <th>mean</th>\n",
        "      <td>    20.094874</td>\n",
        "      <td>   578.410955</td>\n",
        "      <td>     0.462103</td>\n",
        "      <td>    27.133719</td>\n",
        "    </tr>\n",
        "    <tr>\n",
        "      <th>std</th>\n",
        "      <td>    67.658196</td>\n",
        "      <td>  1996.345279</td>\n",
        "      <td>     0.300078</td>\n",
        "      <td>    31.656155</td>\n",
        "    </tr>\n",
        "    <tr>\n",
        "      <th>min</th>\n",
        "      <td>     0.000000</td>\n",
        "      <td>    -1.000000</td>\n",
        "      <td>     0.000000</td>\n",
        "      <td>     0.000000</td>\n",
        "    </tr>\n",
        "    <tr>\n",
        "      <th>25%</th>\n",
        "      <td>     0.000000</td>\n",
        "      <td>     0.000000</td>\n",
        "      <td>     0.193184</td>\n",
        "      <td>     0.000000</td>\n",
        "    </tr>\n",
        "    <tr>\n",
        "      <th>50%</th>\n",
        "      <td>     0.000000</td>\n",
        "      <td>     0.000000</td>\n",
        "      <td>     0.538263</td>\n",
        "      <td>    10.000000</td>\n",
        "    </tr>\n",
        "    <tr>\n",
        "      <th>75%</th>\n",
        "      <td>     0.000000</td>\n",
        "      <td>     0.000000</td>\n",
        "      <td>     0.641512</td>\n",
        "      <td>    60.000000</td>\n",
        "    </tr>\n",
        "    <tr>\n",
        "      <th>max</th>\n",
        "      <td>   489.000000</td>\n",
        "      <td>  9096.000000</td>\n",
        "      <td>     1.000000</td>\n",
        "      <td>   387.000000</td>\n",
        "    </tr>\n",
        "  </tbody>\n",
        "</table>\n",
        "</div>"
       ],
       "metadata": {},
       "output_type": "pyout",
       "prompt_number": 347,
       "text": [
        "        pm_in_count    post_count      prev_sim          urls\n",
        "count  19900.000000  19900.000000  19900.000000  19900.000000\n",
        "mean      20.094874    578.410955      0.462103     27.133719\n",
        "std       67.658196   1996.345279      0.300078     31.656155\n",
        "min        0.000000     -1.000000      0.000000      0.000000\n",
        "25%        0.000000      0.000000      0.193184      0.000000\n",
        "50%        0.000000      0.000000      0.538263     10.000000\n",
        "75%        0.000000      0.000000      0.641512     60.000000\n",
        "max      489.000000   9096.000000      1.000000    387.000000"
       ]
      }
     ],
     "prompt_number": 347
    },
    {
     "cell_type": "code",
     "collapsed": false,
     "input": [
      "pd.isnull(features.time_from_last_pm).astype(int).value_counts()"
     ],
     "language": "python",
     "metadata": {},
     "outputs": [
      {
       "metadata": {},
       "output_type": "pyout",
       "prompt_number": 349,
       "text": [
        "0    17914\n",
        "1     1986\n",
        "dtype: int64"
       ]
      }
     ],
     "prompt_number": 349
    },
    {
     "cell_type": "markdown",
     "metadata": {},
     "source": [
      "We have a problem: many of the messages were sent for the first time, so we have NULL's there. Let's introduce a special variable for this: `first_PM`"
     ]
    },
    {
     "cell_type": "code",
     "collapsed": false,
     "input": [
      "features['first_PM'] = pd.isnull(features.time_from_last_pm).astype(int)"
     ],
     "language": "python",
     "metadata": {},
     "outputs": [],
     "prompt_number": 350
    },
    {
     "cell_type": "code",
     "collapsed": false,
     "input": [
      "(data.time_from_last_pm / np.timedelta64(1, 's')).hist(bins=50, xrot=90)"
     ],
     "language": "python",
     "metadata": {},
     "outputs": [
      {
       "metadata": {},
       "output_type": "pyout",
       "prompt_number": 351,
       "text": [
        "<matplotlib.axes._subplots.AxesSubplot at 0x13763320>"
       ]
      },
      {
       "metadata": {},
       "output_type": "display_data",
       "png": "[encoded data removed]",
       "text": [
        "<matplotlib.figure.Figure at 0x2faf2fd0>"
       ]
      }
     ],
     "prompt_number": 351
    },
    {
     "cell_type": "code",
     "collapsed": false,
     "input": [
      "print features.time_from_last_pm.min()\n",
      "print features.time_from_last_pm.max()\n",
      "print features.time_from_last_pm.median()"
     ],
     "language": "python",
     "metadata": {},
     "outputs": [
      {
       "output_type": "stream",
       "stream": "stdout",
       "text": [
        "0   0 days\n",
        "dtype: timedelta64[ns]\n",
        "0   2216 days, 07:39:58\n",
        "dtype: timedelta64[ns]\n",
        "0   00:21:51\n",
        "dtype: timedelta64[ns]\n"
       ]
      }
     ],
     "prompt_number": 352
    },
    {
     "cell_type": "markdown",
     "metadata": {},
     "source": [
      "The distribution of time_from_last_pm is very long tail, and the median is just 20 minutes. Let's add a feature 20 minutes ago:"
     ]
    },
    {
     "cell_type": "code",
     "collapsed": false,
     "input": [
      "features['20_min_ago'] = (features.time_from_last_pm <= pd.to_timedelta('00:21:51')).astype(int)"
     ],
     "language": "python",
     "metadata": {},
     "outputs": [],
     "prompt_number": 353
    },
    {
     "cell_type": "code",
     "collapsed": false,
     "input": [
      "features['20_min_ago'].describe()"
     ],
     "language": "python",
     "metadata": {},
     "outputs": [
      {
       "metadata": {},
       "output_type": "pyout",
       "prompt_number": 354,
       "text": [
        "count    19900.000000\n",
        "mean         0.400302\n",
        "std          0.489972\n",
        "min          0.000000\n",
        "25%          0.000000\n",
        "50%          0.000000\n",
        "75%          1.000000\n",
        "max          1.000000\n",
        "dtype: float64"
       ]
      }
     ],
     "prompt_number": 354
    },
    {
     "cell_type": "code",
     "collapsed": false,
     "input": [
      "pd.isnull(features['20_min_ago']).value_counts()"
     ],
     "language": "python",
     "metadata": {},
     "outputs": [
      {
       "metadata": {},
       "output_type": "pyout",
       "prompt_number": 355,
       "text": [
        "False    19900\n",
        "dtype: int64"
       ]
      }
     ],
     "prompt_number": 355
    },
    {
     "cell_type": "code",
     "collapsed": false,
     "input": [
      "features[features.first_PM & (features['20_min_ago'])]"
     ],
     "language": "python",
     "metadata": {},
     "outputs": [
      {
       "html": [
        "<div style=\"max-height:1000px;max-width:1500px;overflow:auto;\">\n",
        "<table border=\"1\" class=\"dataframe\">\n",
        "  <thead>\n",
        "    <tr style=\"text-align: right;\">\n",
        "      <th></th>\n",
        "      <th>pm_in_count</th>\n",
        "      <th>time_from_last_pm</th>\n",
        "      <th>post_count</th>\n",
        "      <th>prev_sim</th>\n",
        "      <th>urls</th>\n",
        "      <th>first_PM</th>\n",
        "      <th>20_min_ago</th>\n",
        "    </tr>\n",
        "  </thead>\n",
        "  <tbody>\n",
        "  </tbody>\n",
        "</table>\n",
        "</div>"
       ],
       "metadata": {},
       "output_type": "pyout",
       "prompt_number": 356,
       "text": [
        "Empty DataFrame\n",
        "Columns: [pm_in_count, time_from_last_pm, post_count, prev_sim, urls, first_PM, 20_min_ago]\n",
        "Index: []"
       ]
      }
     ],
     "prompt_number": 356
    },
    {
     "cell_type": "code",
     "collapsed": false,
     "input": [
      "features.drop('time_from_last_pm', axis=1, inplace=True)"
     ],
     "language": "python",
     "metadata": {},
     "outputs": [],
     "prompt_number": 357
    },
    {
     "cell_type": "markdown",
     "metadata": {},
     "source": [
      "All first PMs countes as not 20 minutes ago. This may be fine, let's see how it works"
     ]
    },
    {
     "cell_type": "code",
     "collapsed": false,
     "input": [
      "from sklearn.cross_validation import StratifiedKFold\n",
      "from sklearn.linear_model import LogisticRegression"
     ],
     "language": "python",
     "metadata": {},
     "outputs": [],
     "prompt_number": 358
    },
    {
     "cell_type": "code",
     "collapsed": false,
     "input": [
      "skf = StratifiedKFold(label, 10)\n",
      "\n",
      "acc = []\n",
      "coeff = []\n",
      "coeff_0 = []\n",
      "\n",
      "for train, test in skf:\n",
      "    model = LogisticRegression()\n",
      "    model.fit(features.iloc[train], label.iloc[train])\n",
      "    coeff.append(model.coef_[0])\n",
      "    coeff_0.append(model.intercept_[0])\n",
      "    predicted = model.predict(features.iloc[test])\n",
      "    acc.append((predicted == label.iloc[test]).mean())\n",
      "\n",
      "print 'CV accuracy:', np.mean(acc)\n",
      "print 'CV se:', np.std(acc)\n",
      "\n",
      "cv_coeff = list(np.array(coeff).mean(axis=0))\n",
      "cv_intercept = np.mean(coeff_0)\n",
      "\n",
      "print 'LogReg: ', '%.5f +' % cv_intercept, ' + '.join('%.5f * %s' % (c, f) for c, f in zip(cv_coeff, features.columns))"
     ],
     "language": "python",
     "metadata": {},
     "outputs": [
      {
       "output_type": "stream",
       "stream": "stdout",
       "text": [
        "CV accuracy: 0.993366834171\n",
        "CV se: 0.00120603015075\n",
        "LogReg:  -0.31794 + -0.64074 * pm_in_count + -1.69057 * post_count + -0.10642 * prev_sim + 2.72091 * urls + -0.27045 * first_PM + -0.42095 * 20_min_ago\n"
       ]
      }
     ],
     "prompt_number": 359
    },
    {
     "cell_type": "markdown",
     "metadata": {},
     "source": [
      "Now let's try to build a different model: for users with few forum messages"
     ]
    },
    {
     "cell_type": "code",
     "collapsed": false,
     "input": [
      "features.post_count.describe()"
     ],
     "language": "python",
     "metadata": {},
     "outputs": [
      {
       "metadata": {},
       "output_type": "pyout",
       "prompt_number": 360,
       "text": [
        "count    19900.000000\n",
        "mean       578.410955\n",
        "std       1996.345279\n",
        "min         -1.000000\n",
        "25%          0.000000\n",
        "50%          0.000000\n",
        "75%          0.000000\n",
        "max       9096.000000\n",
        "dtype: float64"
       ]
      }
     ],
     "prompt_number": 360
    },
    {
     "cell_type": "code",
     "collapsed": false,
     "input": [
      "features[label == 'Y'].post_count.hist(alpha=0.6, bins=20, label='Y')\n",
      "features[label == 'N'].post_count.hist(alpha=0.6, bins=20, label='N')\n",
      "plt.legend()"
     ],
     "language": "python",
     "metadata": {},
     "outputs": [
      {
       "metadata": {},
       "output_type": "pyout",
       "prompt_number": 361,
       "text": [
        "<matplotlib.legend.Legend at 0xc5e9be0>"
       ]
      },
      {
       "metadata": {},
       "output_type": "display_data",
       "png": "[encoded data removed]",
       "text": [
        "<matplotlib.figure.Figure at 0x25b04780>"
       ]
      }
     ],
     "prompt_number": 361
    },
    {
     "cell_type": "code",
     "collapsed": false,
     "input": [
      "features_less3 = features[features.post_count <= 3]\n",
      "label_less3 = label[features.post_count <= 3]"
     ],
     "language": "python",
     "metadata": {},
     "outputs": [],
     "prompt_number": 362
    },
    {
     "cell_type": "code",
     "collapsed": false,
     "input": [
      "label_less3.value_counts()"
     ],
     "language": "python",
     "metadata": {},
     "outputs": [
      {
       "metadata": {},
       "output_type": "pyout",
       "prompt_number": 363,
       "text": [
        "Y    14522\n",
        "N      873\n",
        "dtype: int64"
       ]
      }
     ],
     "prompt_number": 363
    },
    {
     "cell_type": "markdown",
     "metadata": {},
     "source": [
      "we have class imbalance, so we'll use AUC to measure performance"
     ]
    },
    {
     "cell_type": "code",
     "collapsed": false,
     "input": [
      "from sklearn.metrics import roc_auc_score"
     ],
     "language": "python",
     "metadata": {},
     "outputs": [],
     "prompt_number": 364
    },
    {
     "cell_type": "code",
     "collapsed": false,
     "input": [
      "skf = StratifiedKFold(label_less3, 10)\n",
      "\n",
      "aucs = []\n",
      "coeff = []\n",
      "coeff_0 = []\n",
      "\n",
      "for train, test in skf:\n",
      "    model = LogisticRegression()\n",
      "    model.fit(features_less3.iloc[train], label_less3.iloc[train])\n",
      "\n",
      "    coeff.append(model.coef_[0])\n",
      "    coeff_0.append(model.intercept_[0])\n",
      "\n",
      "    prob = model.predict_proba(features_less3.iloc[test])\n",
      "    actual_label = np.where(label_less3.iloc[test] == 'Y', 0, 1)\n",
      "    auc = roc_auc_score(actual_label, prob[:, 0])\n",
      "\n",
      "    aucs.append(auc)\n",
      "\n",
      "\n",
      "print 'CV auc:', np.mean(aucs)\n",
      "print 'CV auc se:', np.std(aucs)\n",
      "\n",
      "l3_cv_coeff = list(np.array(coeff).mean(axis=0))\n",
      "l3_cv_intercept = np.mean(coeff_0)\n",
      "\n",
      "print 'LogReg: ', '%.5f +' % l3_cv_intercept, ' + '.join('%.5f * %s' % (c, f) for c, f in zip(l3_cv_coeff, features_less3.columns))"
     ],
     "language": "python",
     "metadata": {},
     "outputs": [
      {
       "output_type": "stream",
       "stream": "stdout",
       "text": [
        "CV auc: 0.997978687726\n",
        "CV auc se: 0.000818595886827\n",
        "LogReg:  -0.85801 + -0.62121 * pm_in_count + -2.93066 * post_count + -0.37477 * prev_sim + 5.20478 * urls + -0.93915 * first_PM + 0.55139 * 20_min_ago\n"
       ]
      }
     ],
     "prompt_number": 370
    },
    {
     "cell_type": "markdown",
     "metadata": {},
     "source": [
      "Let's compare it to the original (LR trained on the entire data set) values:"
     ]
    },
    {
     "cell_type": "code",
     "collapsed": false,
     "input": [
      "print 'LogReg: ', '%.5f +' % cv_intercept, ' + '.join('%.5f * %s' % (c, f) for c, f in zip(cv_coeff, features.columns))"
     ],
     "language": "python",
     "metadata": {},
     "outputs": [
      {
       "output_type": "stream",
       "stream": "stdout",
       "text": [
        "LogReg:  -0.31794 + -0.64074 * pm_in_count + -1.69057 * post_count + -0.10642 * prev_sim + 2.72091 * urls + -0.27045 * first_PM + -0.42095 * 20_min_ago\n"
       ]
      }
     ],
     "prompt_number": 366
    }
   ],
   "metadata": {}
  }
 ]
}